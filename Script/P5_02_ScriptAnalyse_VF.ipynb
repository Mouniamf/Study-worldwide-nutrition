{
 "cells": [
  {
   "cell_type": "markdown",
   "metadata": {},
   "source": [
    "# PROJET 5 :  ETUDE DE MARCHÉ\n",
    "- Entreprise d'agroalimentaire spécialisée dans le poulet  souhaite se développer à l'international.\n",
    "- Objectif : identifier les pays propices à une insertion dans le marché du poulet\n",
    "- Etudier les régimes alimentaires de chaque pays, notamment en termes de protéines d'origine animale et en termes de calories."
   ]
  },
  {
   "cell_type": "markdown",
   "metadata": {},
   "source": [
    "# Mission I : Construisez votre échantillon contenant l'ensemble des pays disponibles, chacun caractérisé par ces variables :\n",
    "- différence de population entre une année antérieure (au choix) et l'année courante, exprimée en pourcentage ;\n",
    "- proportion de protéines d'origine animale par rapport à la quantité totale de protéines dans la disponibilité alimentaire du pays ;\n",
    "- disponibilité alimentaire en protéines par habitant ;\n",
    "- disponibilité alimentaire en calories par habitant."
   ]
  },
  {
   "cell_type": "markdown",
   "metadata": {},
   "source": [
    "## Import des librairies"
   ]
  },
  {
   "cell_type": "code",
   "execution_count": 1,
   "metadata": {},
   "outputs": [],
   "source": [
    "import pandas as pd\n",
    "import seaborn as sns\n",
    "import numpy as np\n",
    "import scipy.stats as st\n",
    "from sklearn.preprocessing import StandardScaler\n",
    "from matplotlib import*\n",
    "import matplotlib.pyplot as plt\n",
    "from matplotlib.cm import register_cmap\n",
    "from scipy import stats\n",
    "from sklearn.decomposition import PCA as sklearnPCA\n",
    "pd.options.display.max_columns = None\n",
    "pd.options.display.max_rows = None\n",
    "pd.set_option('mode.use_inf_as_na', True)"
   ]
  },
  {
   "cell_type": "markdown",
   "metadata": {},
   "source": [
    "## A- Analyse données population"
   ]
  },
  {
   "cell_type": "code",
   "execution_count": 2,
   "metadata": {},
   "outputs": [
    {
     "data": {
      "text/plain": [
       "'/Users/mouniamfoungoulie/Documents/Openclassrooms-Dataanalyst/Projet 5'"
      ]
     },
     "execution_count": 2,
     "metadata": {},
     "output_type": "execute_result"
    }
   ],
   "source": [
    "import os\n",
    "os.getcwd()\n",
    "os.chdir('/Users/mouniamfoungoulie/Documents/Openclassrooms-Dataanalyst/Projet 5')\n",
    "os.getcwd()"
   ]
  },
  {
   "cell_type": "code",
   "execution_count": 3,
   "metadata": {},
   "outputs": [],
   "source": [
    "#Import fichier population\n",
    "population = pd.read_csv(\"./Data/fr_population.csv\")"
   ]
  },
  {
   "cell_type": "code",
   "execution_count": 4,
   "metadata": {},
   "outputs": [
    {
     "name": "stdout",
     "output_type": "stream",
     "text": [
      "(474, 15)\n"
     ]
    },
    {
     "data": {
      "text/html": [
       "<div>\n",
       "<style scoped>\n",
       "    .dataframe tbody tr th:only-of-type {\n",
       "        vertical-align: middle;\n",
       "    }\n",
       "\n",
       "    .dataframe tbody tr th {\n",
       "        vertical-align: top;\n",
       "    }\n",
       "\n",
       "    .dataframe thead th {\n",
       "        text-align: right;\n",
       "    }\n",
       "</style>\n",
       "<table border=\"1\" class=\"dataframe\">\n",
       "  <thead>\n",
       "    <tr style=\"text-align: right;\">\n",
       "      <th></th>\n",
       "      <th>Code Domaine</th>\n",
       "      <th>Domaine</th>\n",
       "      <th>Code zone (FAO)</th>\n",
       "      <th>Zone</th>\n",
       "      <th>Code Élément</th>\n",
       "      <th>Élément</th>\n",
       "      <th>Code Produit</th>\n",
       "      <th>Produit</th>\n",
       "      <th>Code année</th>\n",
       "      <th>Année</th>\n",
       "      <th>Unité</th>\n",
       "      <th>Valeur</th>\n",
       "      <th>Symbole</th>\n",
       "      <th>Description du Symbole</th>\n",
       "      <th>Note</th>\n",
       "    </tr>\n",
       "  </thead>\n",
       "  <tbody>\n",
       "    <tr>\n",
       "      <th>0</th>\n",
       "      <td>OA</td>\n",
       "      <td>Séries temporelles annuelles</td>\n",
       "      <td>2</td>\n",
       "      <td>Afghanistan</td>\n",
       "      <td>511</td>\n",
       "      <td>Population totale</td>\n",
       "      <td>3010</td>\n",
       "      <td>Population-Estimations</td>\n",
       "      <td>2014</td>\n",
       "      <td>2014</td>\n",
       "      <td>1000 personnes</td>\n",
       "      <td>33370.794</td>\n",
       "      <td>X</td>\n",
       "      <td>Sources internationales sûres</td>\n",
       "      <td>NaN</td>\n",
       "    </tr>\n",
       "    <tr>\n",
       "      <th>1</th>\n",
       "      <td>OA</td>\n",
       "      <td>Séries temporelles annuelles</td>\n",
       "      <td>2</td>\n",
       "      <td>Afghanistan</td>\n",
       "      <td>511</td>\n",
       "      <td>Population totale</td>\n",
       "      <td>3010</td>\n",
       "      <td>Population-Estimations</td>\n",
       "      <td>2018</td>\n",
       "      <td>2018</td>\n",
       "      <td>1000 personnes</td>\n",
       "      <td>37171.921</td>\n",
       "      <td>X</td>\n",
       "      <td>Sources internationales sûres</td>\n",
       "      <td>NaN</td>\n",
       "    </tr>\n",
       "    <tr>\n",
       "      <th>2</th>\n",
       "      <td>OA</td>\n",
       "      <td>Séries temporelles annuelles</td>\n",
       "      <td>202</td>\n",
       "      <td>Afrique du Sud</td>\n",
       "      <td>511</td>\n",
       "      <td>Population totale</td>\n",
       "      <td>3010</td>\n",
       "      <td>Population-Estimations</td>\n",
       "      <td>2014</td>\n",
       "      <td>2014</td>\n",
       "      <td>1000 personnes</td>\n",
       "      <td>54544.186</td>\n",
       "      <td>X</td>\n",
       "      <td>Sources internationales sûres</td>\n",
       "      <td>NaN</td>\n",
       "    </tr>\n",
       "    <tr>\n",
       "      <th>3</th>\n",
       "      <td>OA</td>\n",
       "      <td>Séries temporelles annuelles</td>\n",
       "      <td>202</td>\n",
       "      <td>Afrique du Sud</td>\n",
       "      <td>511</td>\n",
       "      <td>Population totale</td>\n",
       "      <td>3010</td>\n",
       "      <td>Population-Estimations</td>\n",
       "      <td>2018</td>\n",
       "      <td>2018</td>\n",
       "      <td>1000 personnes</td>\n",
       "      <td>57792.518</td>\n",
       "      <td>X</td>\n",
       "      <td>Sources internationales sûres</td>\n",
       "      <td>NaN</td>\n",
       "    </tr>\n",
       "    <tr>\n",
       "      <th>4</th>\n",
       "      <td>OA</td>\n",
       "      <td>Séries temporelles annuelles</td>\n",
       "      <td>3</td>\n",
       "      <td>Albanie</td>\n",
       "      <td>511</td>\n",
       "      <td>Population totale</td>\n",
       "      <td>3010</td>\n",
       "      <td>Population-Estimations</td>\n",
       "      <td>2014</td>\n",
       "      <td>2014</td>\n",
       "      <td>1000 personnes</td>\n",
       "      <td>2896.305</td>\n",
       "      <td>X</td>\n",
       "      <td>Sources internationales sûres</td>\n",
       "      <td>NaN</td>\n",
       "    </tr>\n",
       "  </tbody>\n",
       "</table>\n",
       "</div>"
      ],
      "text/plain": [
       "  Code Domaine                       Domaine  Code zone (FAO)            Zone  \\\n",
       "0           OA  Séries temporelles annuelles                2     Afghanistan   \n",
       "1           OA  Séries temporelles annuelles                2     Afghanistan   \n",
       "2           OA  Séries temporelles annuelles              202  Afrique du Sud   \n",
       "3           OA  Séries temporelles annuelles              202  Afrique du Sud   \n",
       "4           OA  Séries temporelles annuelles                3         Albanie   \n",
       "\n",
       "   Code Élément            Élément  Code Produit                 Produit  \\\n",
       "0           511  Population totale          3010  Population-Estimations   \n",
       "1           511  Population totale          3010  Population-Estimations   \n",
       "2           511  Population totale          3010  Population-Estimations   \n",
       "3           511  Population totale          3010  Population-Estimations   \n",
       "4           511  Population totale          3010  Population-Estimations   \n",
       "\n",
       "   Code année  Année           Unité     Valeur Symbole  \\\n",
       "0        2014   2014  1000 personnes  33370.794       X   \n",
       "1        2018   2018  1000 personnes  37171.921       X   \n",
       "2        2014   2014  1000 personnes  54544.186       X   \n",
       "3        2018   2018  1000 personnes  57792.518       X   \n",
       "4        2014   2014  1000 personnes   2896.305       X   \n",
       "\n",
       "          Description du Symbole Note  \n",
       "0  Sources internationales sûres  NaN  \n",
       "1  Sources internationales sûres  NaN  \n",
       "2  Sources internationales sûres  NaN  \n",
       "3  Sources internationales sûres  NaN  \n",
       "4  Sources internationales sûres  NaN  "
      ]
     },
     "execution_count": 4,
     "metadata": {},
     "output_type": "execute_result"
    }
   ],
   "source": [
    "print(population.shape)\n",
    "population.head()"
   ]
  },
  {
   "cell_type": "code",
   "execution_count": 5,
   "metadata": {},
   "outputs": [
    {
     "name": "stdout",
     "output_type": "stream",
     "text": [
      "<class 'pandas.core.frame.DataFrame'>\n",
      "RangeIndex: 474 entries, 0 to 473\n",
      "Data columns (total 15 columns):\n",
      " #   Column                  Non-Null Count  Dtype  \n",
      "---  ------                  --------------  -----  \n",
      " 0   Code Domaine            474 non-null    object \n",
      " 1   Domaine                 474 non-null    object \n",
      " 2   Code zone (FAO)         474 non-null    int64  \n",
      " 3   Zone                    474 non-null    object \n",
      " 4   Code Élément            474 non-null    int64  \n",
      " 5   Élément                 474 non-null    object \n",
      " 6   Code Produit            474 non-null    int64  \n",
      " 7   Produit                 474 non-null    object \n",
      " 8   Code année              474 non-null    int64  \n",
      " 9   Année                   474 non-null    int64  \n",
      " 10  Unité                   474 non-null    object \n",
      " 11  Valeur                  474 non-null    float64\n",
      " 12  Symbole                 474 non-null    object \n",
      " 13  Description du Symbole  474 non-null    object \n",
      " 14  Note                    4 non-null      object \n",
      "dtypes: float64(1), int64(5), object(9)\n",
      "memory usage: 55.7+ KB\n"
     ]
    }
   ],
   "source": [
    "#Vérifier si valeurs manquantes\n",
    "population.info() #Aucunes valeures manquantes"
   ]
  },
  {
   "cell_type": "code",
   "execution_count": 6,
   "metadata": {},
   "outputs": [
    {
     "data": {
      "text/plain": [
       "Sources internationales sûres                                                             470\n",
       "Agrégat, peut inclure des données officielles, semi-officielles, estimées ou calculées      4\n",
       "Name: Description du Symbole, dtype: int64"
      ]
     },
     "execution_count": 6,
     "metadata": {},
     "output_type": "execute_result"
    }
   ],
   "source": [
    "#Vérifier sources données\n",
    "population[\"Description du Symbole\"].value_counts()"
   ]
  },
  {
   "cell_type": "code",
   "execution_count": 7,
   "metadata": {},
   "outputs": [
    {
     "data": {
      "text/plain": [
       "X    470\n",
       "A      4\n",
       "Name: Symbole, dtype: int64"
      ]
     },
     "execution_count": 7,
     "metadata": {},
     "output_type": "execute_result"
    }
   ],
   "source": [
    "#Vérifier sources données\n",
    "population[\"Symbole\"].value_counts()"
   ]
  },
  {
   "cell_type": "code",
   "execution_count": 8,
   "metadata": {},
   "outputs": [
    {
     "data": {
      "text/html": [
       "<div>\n",
       "<style scoped>\n",
       "    .dataframe tbody tr th:only-of-type {\n",
       "        vertical-align: middle;\n",
       "    }\n",
       "\n",
       "    .dataframe tbody tr th {\n",
       "        vertical-align: top;\n",
       "    }\n",
       "\n",
       "    .dataframe thead th {\n",
       "        text-align: right;\n",
       "    }\n",
       "</style>\n",
       "<table border=\"1\" class=\"dataframe\">\n",
       "  <thead>\n",
       "    <tr style=\"text-align: right;\">\n",
       "      <th></th>\n",
       "      <th>Code Domaine</th>\n",
       "      <th>Domaine</th>\n",
       "      <th>Code zone (FAO)</th>\n",
       "      <th>Zone</th>\n",
       "      <th>Code Élément</th>\n",
       "      <th>Élément</th>\n",
       "      <th>Code Produit</th>\n",
       "      <th>Produit</th>\n",
       "      <th>Code année</th>\n",
       "      <th>Année</th>\n",
       "      <th>Unité</th>\n",
       "      <th>Valeur</th>\n",
       "      <th>Symbole</th>\n",
       "      <th>Description du Symbole</th>\n",
       "      <th>Note</th>\n",
       "    </tr>\n",
       "  </thead>\n",
       "  <tbody>\n",
       "    <tr>\n",
       "      <th>18</th>\n",
       "      <td>OA</td>\n",
       "      <td>Séries temporelles annuelles</td>\n",
       "      <td>151</td>\n",
       "      <td>Antilles néerlandaises (ex)</td>\n",
       "      <td>511</td>\n",
       "      <td>Population totale</td>\n",
       "      <td>3010</td>\n",
       "      <td>Population-Estimations</td>\n",
       "      <td>2014</td>\n",
       "      <td>2014</td>\n",
       "      <td>1000 personnes</td>\n",
       "      <td>267.006</td>\n",
       "      <td>A</td>\n",
       "      <td>Agrégat, peut inclure des données officielles,...</td>\n",
       "      <td>NaN</td>\n",
       "    </tr>\n",
       "    <tr>\n",
       "      <th>19</th>\n",
       "      <td>OA</td>\n",
       "      <td>Séries temporelles annuelles</td>\n",
       "      <td>151</td>\n",
       "      <td>Antilles néerlandaises (ex)</td>\n",
       "      <td>511</td>\n",
       "      <td>Population totale</td>\n",
       "      <td>3010</td>\n",
       "      <td>Population-Estimations</td>\n",
       "      <td>2018</td>\n",
       "      <td>2018</td>\n",
       "      <td>1000 personnes</td>\n",
       "      <td>277.483</td>\n",
       "      <td>A</td>\n",
       "      <td>Agrégat, peut inclure des données officielles,...</td>\n",
       "      <td>NaN</td>\n",
       "    </tr>\n",
       "    <tr>\n",
       "      <th>82</th>\n",
       "      <td>OA</td>\n",
       "      <td>Séries temporelles annuelles</td>\n",
       "      <td>351</td>\n",
       "      <td>Chine</td>\n",
       "      <td>511</td>\n",
       "      <td>Population totale</td>\n",
       "      <td>3010</td>\n",
       "      <td>Population-Estimations</td>\n",
       "      <td>2014</td>\n",
       "      <td>2014</td>\n",
       "      <td>1000 personnes</td>\n",
       "      <td>1430670.819</td>\n",
       "      <td>A</td>\n",
       "      <td>Agrégat, peut inclure des données officielles,...</td>\n",
       "      <td>NaN</td>\n",
       "    </tr>\n",
       "    <tr>\n",
       "      <th>83</th>\n",
       "      <td>OA</td>\n",
       "      <td>Séries temporelles annuelles</td>\n",
       "      <td>351</td>\n",
       "      <td>Chine</td>\n",
       "      <td>511</td>\n",
       "      <td>Population totale</td>\n",
       "      <td>3010</td>\n",
       "      <td>Population-Estimations</td>\n",
       "      <td>2018</td>\n",
       "      <td>2018</td>\n",
       "      <td>1000 personnes</td>\n",
       "      <td>1459377.612</td>\n",
       "      <td>A</td>\n",
       "      <td>Agrégat, peut inclure des données officielles,...</td>\n",
       "      <td>NaN</td>\n",
       "    </tr>\n",
       "  </tbody>\n",
       "</table>\n",
       "</div>"
      ],
      "text/plain": [
       "   Code Domaine                       Domaine  Code zone (FAO)  \\\n",
       "18           OA  Séries temporelles annuelles              151   \n",
       "19           OA  Séries temporelles annuelles              151   \n",
       "82           OA  Séries temporelles annuelles              351   \n",
       "83           OA  Séries temporelles annuelles              351   \n",
       "\n",
       "                           Zone  Code Élément            Élément  \\\n",
       "18  Antilles néerlandaises (ex)           511  Population totale   \n",
       "19  Antilles néerlandaises (ex)           511  Population totale   \n",
       "82                        Chine           511  Population totale   \n",
       "83                        Chine           511  Population totale   \n",
       "\n",
       "    Code Produit                 Produit  Code année  Année           Unité  \\\n",
       "18          3010  Population-Estimations        2014   2014  1000 personnes   \n",
       "19          3010  Population-Estimations        2018   2018  1000 personnes   \n",
       "82          3010  Population-Estimations        2014   2014  1000 personnes   \n",
       "83          3010  Population-Estimations        2018   2018  1000 personnes   \n",
       "\n",
       "         Valeur Symbole                             Description du Symbole  \\\n",
       "18      267.006       A  Agrégat, peut inclure des données officielles,...   \n",
       "19      277.483       A  Agrégat, peut inclure des données officielles,...   \n",
       "82  1430670.819       A  Agrégat, peut inclure des données officielles,...   \n",
       "83  1459377.612       A  Agrégat, peut inclure des données officielles,...   \n",
       "\n",
       "   Note  \n",
       "18  NaN  \n",
       "19  NaN  \n",
       "82  NaN  \n",
       "83  NaN  "
      ]
     },
     "execution_count": 8,
     "metadata": {},
     "output_type": "execute_result"
    }
   ],
   "source": [
    "#Données proviennent de 2 sources différentes, vérifier les pays avec données agrégat\n",
    "population[population[\"Symbole\"]==\"A\"].head()"
   ]
  },
  {
   "cell_type": "code",
   "execution_count": 9,
   "metadata": {},
   "outputs": [
    {
     "data": {
      "text/html": [
       "<div>\n",
       "<style scoped>\n",
       "    .dataframe tbody tr th:only-of-type {\n",
       "        vertical-align: middle;\n",
       "    }\n",
       "\n",
       "    .dataframe tbody tr th {\n",
       "        vertical-align: top;\n",
       "    }\n",
       "\n",
       "    .dataframe thead th {\n",
       "        text-align: right;\n",
       "    }\n",
       "</style>\n",
       "<table border=\"1\" class=\"dataframe\">\n",
       "  <thead>\n",
       "    <tr style=\"text-align: right;\">\n",
       "      <th></th>\n",
       "      <th>Code Domaine</th>\n",
       "      <th>Domaine</th>\n",
       "      <th>Code zone (FAO)</th>\n",
       "      <th>Zone</th>\n",
       "      <th>Code Élément</th>\n",
       "      <th>Élément</th>\n",
       "      <th>Code Produit</th>\n",
       "      <th>Produit</th>\n",
       "      <th>Code année</th>\n",
       "      <th>Année</th>\n",
       "      <th>Unité</th>\n",
       "      <th>Valeur</th>\n",
       "      <th>Symbole</th>\n",
       "      <th>Description du Symbole</th>\n",
       "      <th>Note</th>\n",
       "    </tr>\n",
       "  </thead>\n",
       "  <tbody>\n",
       "    <tr>\n",
       "      <th>82</th>\n",
       "      <td>OA</td>\n",
       "      <td>Séries temporelles annuelles</td>\n",
       "      <td>351</td>\n",
       "      <td>Chine</td>\n",
       "      <td>511</td>\n",
       "      <td>Population totale</td>\n",
       "      <td>3010</td>\n",
       "      <td>Population-Estimations</td>\n",
       "      <td>2014</td>\n",
       "      <td>2014</td>\n",
       "      <td>1000 personnes</td>\n",
       "      <td>1430670.819</td>\n",
       "      <td>A</td>\n",
       "      <td>Agrégat, peut inclure des données officielles,...</td>\n",
       "      <td>NaN</td>\n",
       "    </tr>\n",
       "    <tr>\n",
       "      <th>83</th>\n",
       "      <td>OA</td>\n",
       "      <td>Séries temporelles annuelles</td>\n",
       "      <td>351</td>\n",
       "      <td>Chine</td>\n",
       "      <td>511</td>\n",
       "      <td>Population totale</td>\n",
       "      <td>3010</td>\n",
       "      <td>Population-Estimations</td>\n",
       "      <td>2018</td>\n",
       "      <td>2018</td>\n",
       "      <td>1000 personnes</td>\n",
       "      <td>1459377.612</td>\n",
       "      <td>A</td>\n",
       "      <td>Agrégat, peut inclure des données officielles,...</td>\n",
       "      <td>NaN</td>\n",
       "    </tr>\n",
       "    <tr>\n",
       "      <th>84</th>\n",
       "      <td>OA</td>\n",
       "      <td>Séries temporelles annuelles</td>\n",
       "      <td>96</td>\n",
       "      <td>Chine - RAS de Hong-Kong</td>\n",
       "      <td>511</td>\n",
       "      <td>Population totale</td>\n",
       "      <td>3010</td>\n",
       "      <td>Population-Estimations</td>\n",
       "      <td>2014</td>\n",
       "      <td>2014</td>\n",
       "      <td>1000 personnes</td>\n",
       "      <td>7134.670</td>\n",
       "      <td>X</td>\n",
       "      <td>Sources internationales sûres</td>\n",
       "      <td>NaN</td>\n",
       "    </tr>\n",
       "    <tr>\n",
       "      <th>85</th>\n",
       "      <td>OA</td>\n",
       "      <td>Séries temporelles annuelles</td>\n",
       "      <td>96</td>\n",
       "      <td>Chine - RAS de Hong-Kong</td>\n",
       "      <td>511</td>\n",
       "      <td>Population totale</td>\n",
       "      <td>3010</td>\n",
       "      <td>Population-Estimations</td>\n",
       "      <td>2018</td>\n",
       "      <td>2018</td>\n",
       "      <td>1000 personnes</td>\n",
       "      <td>7371.730</td>\n",
       "      <td>X</td>\n",
       "      <td>Sources internationales sûres</td>\n",
       "      <td>NaN</td>\n",
       "    </tr>\n",
       "    <tr>\n",
       "      <th>86</th>\n",
       "      <td>OA</td>\n",
       "      <td>Séries temporelles annuelles</td>\n",
       "      <td>128</td>\n",
       "      <td>Chine - RAS de Macao</td>\n",
       "      <td>511</td>\n",
       "      <td>Population totale</td>\n",
       "      <td>3010</td>\n",
       "      <td>Population-Estimations</td>\n",
       "      <td>2014</td>\n",
       "      <td>2014</td>\n",
       "      <td>1000 personnes</td>\n",
       "      <td>590.208</td>\n",
       "      <td>X</td>\n",
       "      <td>Sources internationales sûres</td>\n",
       "      <td>NaN</td>\n",
       "    </tr>\n",
       "    <tr>\n",
       "      <th>87</th>\n",
       "      <td>OA</td>\n",
       "      <td>Séries temporelles annuelles</td>\n",
       "      <td>128</td>\n",
       "      <td>Chine - RAS de Macao</td>\n",
       "      <td>511</td>\n",
       "      <td>Population totale</td>\n",
       "      <td>3010</td>\n",
       "      <td>Population-Estimations</td>\n",
       "      <td>2018</td>\n",
       "      <td>2018</td>\n",
       "      <td>1000 personnes</td>\n",
       "      <td>631.636</td>\n",
       "      <td>X</td>\n",
       "      <td>Sources internationales sûres</td>\n",
       "      <td>NaN</td>\n",
       "    </tr>\n",
       "    <tr>\n",
       "      <th>88</th>\n",
       "      <td>OA</td>\n",
       "      <td>Séries temporelles annuelles</td>\n",
       "      <td>41</td>\n",
       "      <td>Chine, continentale</td>\n",
       "      <td>511</td>\n",
       "      <td>Population totale</td>\n",
       "      <td>3010</td>\n",
       "      <td>Population-Estimations</td>\n",
       "      <td>2014</td>\n",
       "      <td>2014</td>\n",
       "      <td>1000 personnes</td>\n",
       "      <td>1399453.965</td>\n",
       "      <td>X</td>\n",
       "      <td>Sources internationales sûres</td>\n",
       "      <td>NaN</td>\n",
       "    </tr>\n",
       "    <tr>\n",
       "      <th>89</th>\n",
       "      <td>OA</td>\n",
       "      <td>Séries temporelles annuelles</td>\n",
       "      <td>41</td>\n",
       "      <td>Chine, continentale</td>\n",
       "      <td>511</td>\n",
       "      <td>Population totale</td>\n",
       "      <td>3010</td>\n",
       "      <td>Population-Estimations</td>\n",
       "      <td>2018</td>\n",
       "      <td>2018</td>\n",
       "      <td>1000 personnes</td>\n",
       "      <td>1427647.786</td>\n",
       "      <td>X</td>\n",
       "      <td>Sources internationales sûres</td>\n",
       "      <td>NaN</td>\n",
       "    </tr>\n",
       "    <tr>\n",
       "      <th>90</th>\n",
       "      <td>OA</td>\n",
       "      <td>Séries temporelles annuelles</td>\n",
       "      <td>214</td>\n",
       "      <td>Chine, Taiwan Province de</td>\n",
       "      <td>511</td>\n",
       "      <td>Population totale</td>\n",
       "      <td>3010</td>\n",
       "      <td>Population-Estimations</td>\n",
       "      <td>2014</td>\n",
       "      <td>2014</td>\n",
       "      <td>1000 personnes</td>\n",
       "      <td>23491.976</td>\n",
       "      <td>X</td>\n",
       "      <td>Sources internationales sûres</td>\n",
       "      <td>NaN</td>\n",
       "    </tr>\n",
       "    <tr>\n",
       "      <th>91</th>\n",
       "      <td>OA</td>\n",
       "      <td>Séries temporelles annuelles</td>\n",
       "      <td>214</td>\n",
       "      <td>Chine, Taiwan Province de</td>\n",
       "      <td>511</td>\n",
       "      <td>Population totale</td>\n",
       "      <td>3010</td>\n",
       "      <td>Population-Estimations</td>\n",
       "      <td>2018</td>\n",
       "      <td>2018</td>\n",
       "      <td>1000 personnes</td>\n",
       "      <td>23726.460</td>\n",
       "      <td>X</td>\n",
       "      <td>Sources internationales sûres</td>\n",
       "      <td>NaN</td>\n",
       "    </tr>\n",
       "  </tbody>\n",
       "</table>\n",
       "</div>"
      ],
      "text/plain": [
       "   Code Domaine                       Domaine  Code zone (FAO)  \\\n",
       "82           OA  Séries temporelles annuelles              351   \n",
       "83           OA  Séries temporelles annuelles              351   \n",
       "84           OA  Séries temporelles annuelles               96   \n",
       "85           OA  Séries temporelles annuelles               96   \n",
       "86           OA  Séries temporelles annuelles              128   \n",
       "87           OA  Séries temporelles annuelles              128   \n",
       "88           OA  Séries temporelles annuelles               41   \n",
       "89           OA  Séries temporelles annuelles               41   \n",
       "90           OA  Séries temporelles annuelles              214   \n",
       "91           OA  Séries temporelles annuelles              214   \n",
       "\n",
       "                         Zone  Code Élément            Élément  Code Produit  \\\n",
       "82                      Chine           511  Population totale          3010   \n",
       "83                      Chine           511  Population totale          3010   \n",
       "84   Chine - RAS de Hong-Kong           511  Population totale          3010   \n",
       "85   Chine - RAS de Hong-Kong           511  Population totale          3010   \n",
       "86       Chine - RAS de Macao           511  Population totale          3010   \n",
       "87       Chine - RAS de Macao           511  Population totale          3010   \n",
       "88        Chine, continentale           511  Population totale          3010   \n",
       "89        Chine, continentale           511  Population totale          3010   \n",
       "90  Chine, Taiwan Province de           511  Population totale          3010   \n",
       "91  Chine, Taiwan Province de           511  Population totale          3010   \n",
       "\n",
       "                   Produit  Code année  Année           Unité       Valeur  \\\n",
       "82  Population-Estimations        2014   2014  1000 personnes  1430670.819   \n",
       "83  Population-Estimations        2018   2018  1000 personnes  1459377.612   \n",
       "84  Population-Estimations        2014   2014  1000 personnes     7134.670   \n",
       "85  Population-Estimations        2018   2018  1000 personnes     7371.730   \n",
       "86  Population-Estimations        2014   2014  1000 personnes      590.208   \n",
       "87  Population-Estimations        2018   2018  1000 personnes      631.636   \n",
       "88  Population-Estimations        2014   2014  1000 personnes  1399453.965   \n",
       "89  Population-Estimations        2018   2018  1000 personnes  1427647.786   \n",
       "90  Population-Estimations        2014   2014  1000 personnes    23491.976   \n",
       "91  Population-Estimations        2018   2018  1000 personnes    23726.460   \n",
       "\n",
       "   Symbole                             Description du Symbole Note  \n",
       "82       A  Agrégat, peut inclure des données officielles,...  NaN  \n",
       "83       A  Agrégat, peut inclure des données officielles,...  NaN  \n",
       "84       X                      Sources internationales sûres  NaN  \n",
       "85       X                      Sources internationales sûres  NaN  \n",
       "86       X                      Sources internationales sûres  NaN  \n",
       "87       X                      Sources internationales sûres  NaN  \n",
       "88       X                      Sources internationales sûres  NaN  \n",
       "89       X                      Sources internationales sûres  NaN  \n",
       "90       X                      Sources internationales sûres  NaN  \n",
       "91       X                      Sources internationales sûres  NaN  "
      ]
     },
     "execution_count": 9,
     "metadata": {},
     "output_type": "execute_result"
    }
   ],
   "source": [
    "#Vérification des pays contenant la Chine\n",
    "population[population['Zone'].str.contains('Chine')]"
   ]
  },
  {
   "cell_type": "code",
   "execution_count": 10,
   "metadata": {},
   "outputs": [
    {
     "data": {
      "text/html": [
       "<div>\n",
       "<style scoped>\n",
       "    .dataframe tbody tr th:only-of-type {\n",
       "        vertical-align: middle;\n",
       "    }\n",
       "\n",
       "    .dataframe tbody tr th {\n",
       "        vertical-align: top;\n",
       "    }\n",
       "\n",
       "    .dataframe thead th {\n",
       "        text-align: right;\n",
       "    }\n",
       "</style>\n",
       "<table border=\"1\" class=\"dataframe\">\n",
       "  <thead>\n",
       "    <tr style=\"text-align: right;\">\n",
       "      <th></th>\n",
       "      <th>Code Domaine</th>\n",
       "      <th>Domaine</th>\n",
       "      <th>Code zone (FAO)</th>\n",
       "      <th>Zone</th>\n",
       "      <th>Code Élément</th>\n",
       "      <th>Élément</th>\n",
       "      <th>Code Produit</th>\n",
       "      <th>Produit</th>\n",
       "      <th>Code année</th>\n",
       "      <th>Année</th>\n",
       "      <th>Unité</th>\n",
       "      <th>Valeur</th>\n",
       "      <th>Symbole</th>\n",
       "      <th>Description du Symbole</th>\n",
       "      <th>Note</th>\n",
       "    </tr>\n",
       "  </thead>\n",
       "  <tbody>\n",
       "    <tr>\n",
       "      <th>18</th>\n",
       "      <td>OA</td>\n",
       "      <td>Séries temporelles annuelles</td>\n",
       "      <td>151</td>\n",
       "      <td>Antilles néerlandaises (ex)</td>\n",
       "      <td>511</td>\n",
       "      <td>Population totale</td>\n",
       "      <td>3010</td>\n",
       "      <td>Population-Estimations</td>\n",
       "      <td>2014</td>\n",
       "      <td>2014</td>\n",
       "      <td>1000 personnes</td>\n",
       "      <td>267.006</td>\n",
       "      <td>A</td>\n",
       "      <td>Agrégat, peut inclure des données officielles,...</td>\n",
       "      <td>NaN</td>\n",
       "    </tr>\n",
       "    <tr>\n",
       "      <th>19</th>\n",
       "      <td>OA</td>\n",
       "      <td>Séries temporelles annuelles</td>\n",
       "      <td>151</td>\n",
       "      <td>Antilles néerlandaises (ex)</td>\n",
       "      <td>511</td>\n",
       "      <td>Population totale</td>\n",
       "      <td>3010</td>\n",
       "      <td>Population-Estimations</td>\n",
       "      <td>2018</td>\n",
       "      <td>2018</td>\n",
       "      <td>1000 personnes</td>\n",
       "      <td>277.483</td>\n",
       "      <td>A</td>\n",
       "      <td>Agrégat, peut inclure des données officielles,...</td>\n",
       "      <td>NaN</td>\n",
       "    </tr>\n",
       "  </tbody>\n",
       "</table>\n",
       "</div>"
      ],
      "text/plain": [
       "   Code Domaine                       Domaine  Code zone (FAO)  \\\n",
       "18           OA  Séries temporelles annuelles              151   \n",
       "19           OA  Séries temporelles annuelles              151   \n",
       "\n",
       "                           Zone  Code Élément            Élément  \\\n",
       "18  Antilles néerlandaises (ex)           511  Population totale   \n",
       "19  Antilles néerlandaises (ex)           511  Population totale   \n",
       "\n",
       "    Code Produit                 Produit  Code année  Année           Unité  \\\n",
       "18          3010  Population-Estimations        2014   2014  1000 personnes   \n",
       "19          3010  Population-Estimations        2018   2018  1000 personnes   \n",
       "\n",
       "     Valeur Symbole                             Description du Symbole Note  \n",
       "18  267.006       A  Agrégat, peut inclure des données officielles,...  NaN  \n",
       "19  277.483       A  Agrégat, peut inclure des données officielles,...  NaN  "
      ]
     },
     "execution_count": 10,
     "metadata": {},
     "output_type": "execute_result"
    }
   ],
   "source": [
    "#Vérification des pays contenant Antilles\n",
    "population[population['Zone'].str.contains('Antilles')]"
   ]
  },
  {
   "cell_type": "markdown",
   "metadata": {},
   "source": [
    "#### Analyse \n",
    "- la Chine contient des doublons avec des données agrégats et données de sources internationales. \n",
    "- Suppression des données sources internationales, pour garder les données agrégats qui sont plus générales. \n",
    "- On garde tous les éléments des Antilles"
   ]
  },
  {
   "cell_type": "code",
   "execution_count": 11,
   "metadata": {},
   "outputs": [],
   "source": [
    "#Supprimer les autres Chine (96, 128, 41 et 214), et garder la Chine globale\n",
    "pop = population[~population['Code zone (FAO)'].isin([96, 128, 41, 214])]"
   ]
  },
  {
   "cell_type": "code",
   "execution_count": 12,
   "metadata": {},
   "outputs": [
    {
     "data": {
      "text/html": [
       "<div>\n",
       "<style scoped>\n",
       "    .dataframe tbody tr th:only-of-type {\n",
       "        vertical-align: middle;\n",
       "    }\n",
       "\n",
       "    .dataframe tbody tr th {\n",
       "        vertical-align: top;\n",
       "    }\n",
       "\n",
       "    .dataframe thead th {\n",
       "        text-align: right;\n",
       "    }\n",
       "</style>\n",
       "<table border=\"1\" class=\"dataframe\">\n",
       "  <thead>\n",
       "    <tr style=\"text-align: right;\">\n",
       "      <th></th>\n",
       "      <th>Code Domaine</th>\n",
       "      <th>Domaine</th>\n",
       "      <th>Code zone (FAO)</th>\n",
       "      <th>Zone</th>\n",
       "      <th>Code Élément</th>\n",
       "      <th>Élément</th>\n",
       "      <th>Code Produit</th>\n",
       "      <th>Produit</th>\n",
       "      <th>Code année</th>\n",
       "      <th>Année</th>\n",
       "      <th>Unité</th>\n",
       "      <th>Valeur</th>\n",
       "      <th>Symbole</th>\n",
       "      <th>Description du Symbole</th>\n",
       "      <th>Note</th>\n",
       "    </tr>\n",
       "  </thead>\n",
       "  <tbody>\n",
       "    <tr>\n",
       "      <th>82</th>\n",
       "      <td>OA</td>\n",
       "      <td>Séries temporelles annuelles</td>\n",
       "      <td>351</td>\n",
       "      <td>Chine</td>\n",
       "      <td>511</td>\n",
       "      <td>Population totale</td>\n",
       "      <td>3010</td>\n",
       "      <td>Population-Estimations</td>\n",
       "      <td>2014</td>\n",
       "      <td>2014</td>\n",
       "      <td>1000 personnes</td>\n",
       "      <td>1430670.819</td>\n",
       "      <td>A</td>\n",
       "      <td>Agrégat, peut inclure des données officielles,...</td>\n",
       "      <td>NaN</td>\n",
       "    </tr>\n",
       "    <tr>\n",
       "      <th>83</th>\n",
       "      <td>OA</td>\n",
       "      <td>Séries temporelles annuelles</td>\n",
       "      <td>351</td>\n",
       "      <td>Chine</td>\n",
       "      <td>511</td>\n",
       "      <td>Population totale</td>\n",
       "      <td>3010</td>\n",
       "      <td>Population-Estimations</td>\n",
       "      <td>2018</td>\n",
       "      <td>2018</td>\n",
       "      <td>1000 personnes</td>\n",
       "      <td>1459377.612</td>\n",
       "      <td>A</td>\n",
       "      <td>Agrégat, peut inclure des données officielles,...</td>\n",
       "      <td>NaN</td>\n",
       "    </tr>\n",
       "  </tbody>\n",
       "</table>\n",
       "</div>"
      ],
      "text/plain": [
       "   Code Domaine                       Domaine  Code zone (FAO)   Zone  \\\n",
       "82           OA  Séries temporelles annuelles              351  Chine   \n",
       "83           OA  Séries temporelles annuelles              351  Chine   \n",
       "\n",
       "    Code Élément            Élément  Code Produit                 Produit  \\\n",
       "82           511  Population totale          3010  Population-Estimations   \n",
       "83           511  Population totale          3010  Population-Estimations   \n",
       "\n",
       "    Code année  Année           Unité       Valeur Symbole  \\\n",
       "82        2014   2014  1000 personnes  1430670.819       A   \n",
       "83        2018   2018  1000 personnes  1459377.612       A   \n",
       "\n",
       "                               Description du Symbole Note  \n",
       "82  Agrégat, peut inclure des données officielles,...  NaN  \n",
       "83  Agrégat, peut inclure des données officielles,...  NaN  "
      ]
     },
     "execution_count": 12,
     "metadata": {},
     "output_type": "execute_result"
    }
   ],
   "source": [
    "#v&rification pays contenant Chine\n",
    "pop[pop['Zone'].str.contains('Chine')]"
   ]
  },
  {
   "cell_type": "code",
   "execution_count": 13,
   "metadata": {},
   "outputs": [],
   "source": [
    "# Renommer les colonnes\n",
    "pop.columns = [\"xx\",\"xx2\",\"country_code\",\"country\",'xx3','element','item_code','item','xx4',\"year\",\"unit\",'pop_value','flag','flag_desc','note']\n",
    "\n",
    "# Selection des colonnes \n",
    "pop = pop[['country_code', 'country','year','pop_value']]\n"
   ]
  },
  {
   "cell_type": "markdown",
   "metadata": {},
   "source": [
    "### Calcul Variation de la population"
   ]
  },
  {
   "cell_type": "code",
   "execution_count": 14,
   "metadata": {},
   "outputs": [
    {
     "data": {
      "text/html": [
       "<div>\n",
       "<style scoped>\n",
       "    .dataframe tbody tr th:only-of-type {\n",
       "        vertical-align: middle;\n",
       "    }\n",
       "\n",
       "    .dataframe tbody tr th {\n",
       "        vertical-align: top;\n",
       "    }\n",
       "\n",
       "    .dataframe thead th {\n",
       "        text-align: right;\n",
       "    }\n",
       "</style>\n",
       "<table border=\"1\" class=\"dataframe\">\n",
       "  <thead>\n",
       "    <tr style=\"text-align: right;\">\n",
       "      <th></th>\n",
       "      <th>country_code</th>\n",
       "      <th>country</th>\n",
       "      <th>year</th>\n",
       "      <th>pop_value</th>\n",
       "    </tr>\n",
       "  </thead>\n",
       "  <tbody>\n",
       "    <tr>\n",
       "      <th>0</th>\n",
       "      <td>2</td>\n",
       "      <td>Afghanistan</td>\n",
       "      <td>2014</td>\n",
       "      <td>33370.794</td>\n",
       "    </tr>\n",
       "    <tr>\n",
       "      <th>1</th>\n",
       "      <td>2</td>\n",
       "      <td>Afghanistan</td>\n",
       "      <td>2018</td>\n",
       "      <td>37171.921</td>\n",
       "    </tr>\n",
       "    <tr>\n",
       "      <th>2</th>\n",
       "      <td>202</td>\n",
       "      <td>Afrique du Sud</td>\n",
       "      <td>2014</td>\n",
       "      <td>54544.186</td>\n",
       "    </tr>\n",
       "    <tr>\n",
       "      <th>3</th>\n",
       "      <td>202</td>\n",
       "      <td>Afrique du Sud</td>\n",
       "      <td>2018</td>\n",
       "      <td>57792.518</td>\n",
       "    </tr>\n",
       "    <tr>\n",
       "      <th>4</th>\n",
       "      <td>3</td>\n",
       "      <td>Albanie</td>\n",
       "      <td>2014</td>\n",
       "      <td>2896.305</td>\n",
       "    </tr>\n",
       "  </tbody>\n",
       "</table>\n",
       "</div>"
      ],
      "text/plain": [
       "   country_code         country  year  pop_value\n",
       "0             2     Afghanistan  2014  33370.794\n",
       "1             2     Afghanistan  2018  37171.921\n",
       "2           202  Afrique du Sud  2014  54544.186\n",
       "3           202  Afrique du Sud  2018  57792.518\n",
       "4             3         Albanie  2014   2896.305"
      ]
     },
     "execution_count": 14,
     "metadata": {},
     "output_type": "execute_result"
    }
   ],
   "source": [
    "pop.head()"
   ]
  },
  {
   "cell_type": "code",
   "execution_count": 15,
   "metadata": {},
   "outputs": [
    {
     "data": {
      "text/html": [
       "<div>\n",
       "<style scoped>\n",
       "    .dataframe tbody tr th:only-of-type {\n",
       "        vertical-align: middle;\n",
       "    }\n",
       "\n",
       "    .dataframe tbody tr th {\n",
       "        vertical-align: top;\n",
       "    }\n",
       "\n",
       "    .dataframe thead th {\n",
       "        text-align: right;\n",
       "    }\n",
       "</style>\n",
       "<table border=\"1\" class=\"dataframe\">\n",
       "  <thead>\n",
       "    <tr style=\"text-align: right;\">\n",
       "      <th>year</th>\n",
       "      <th>country_code</th>\n",
       "      <th>country</th>\n",
       "      <th>2014</th>\n",
       "      <th>2018</th>\n",
       "    </tr>\n",
       "  </thead>\n",
       "  <tbody>\n",
       "    <tr>\n",
       "      <th>0</th>\n",
       "      <td>1</td>\n",
       "      <td>Arménie</td>\n",
       "      <td>2912.409</td>\n",
       "      <td>2951.745</td>\n",
       "    </tr>\n",
       "    <tr>\n",
       "      <th>1</th>\n",
       "      <td>2</td>\n",
       "      <td>Afghanistan</td>\n",
       "      <td>33370.794</td>\n",
       "      <td>37171.921</td>\n",
       "    </tr>\n",
       "    <tr>\n",
       "      <th>2</th>\n",
       "      <td>3</td>\n",
       "      <td>Albanie</td>\n",
       "      <td>2896.305</td>\n",
       "      <td>2882.740</td>\n",
       "    </tr>\n",
       "    <tr>\n",
       "      <th>3</th>\n",
       "      <td>4</td>\n",
       "      <td>Algérie</td>\n",
       "      <td>38923.692</td>\n",
       "      <td>42228.408</td>\n",
       "    </tr>\n",
       "    <tr>\n",
       "      <th>4</th>\n",
       "      <td>5</td>\n",
       "      <td>Samoa américaines</td>\n",
       "      <td>55.791</td>\n",
       "      <td>55.465</td>\n",
       "    </tr>\n",
       "  </tbody>\n",
       "</table>\n",
       "</div>"
      ],
      "text/plain": [
       "year  country_code            country       2014       2018\n",
       "0                1            Arménie   2912.409   2951.745\n",
       "1                2        Afghanistan  33370.794  37171.921\n",
       "2                3            Albanie   2896.305   2882.740\n",
       "3                4            Algérie  38923.692  42228.408\n",
       "4                5  Samoa américaines     55.791     55.465"
      ]
     },
     "execution_count": 15,
     "metadata": {},
     "output_type": "execute_result"
    }
   ],
   "source": [
    "#Faire un Pivot table pour avoir les années en colonne\n",
    "pop_df = pd.pivot_table(pop,index=['country_code','country'],values='pop_value',columns='year').reset_index()\n",
    "pop_df.head()"
   ]
  },
  {
   "cell_type": "code",
   "execution_count": 16,
   "metadata": {},
   "outputs": [
    {
     "data": {
      "text/html": [
       "<div>\n",
       "<style scoped>\n",
       "    .dataframe tbody tr th:only-of-type {\n",
       "        vertical-align: middle;\n",
       "    }\n",
       "\n",
       "    .dataframe tbody tr th {\n",
       "        vertical-align: top;\n",
       "    }\n",
       "\n",
       "    .dataframe thead th {\n",
       "        text-align: right;\n",
       "    }\n",
       "</style>\n",
       "<table border=\"1\" class=\"dataframe\">\n",
       "  <thead>\n",
       "    <tr style=\"text-align: right;\">\n",
       "      <th></th>\n",
       "      <th>country_code</th>\n",
       "      <th>country</th>\n",
       "      <th>pop_value_2014</th>\n",
       "      <th>pop_value_2018</th>\n",
       "    </tr>\n",
       "  </thead>\n",
       "  <tbody>\n",
       "    <tr>\n",
       "      <th>0</th>\n",
       "      <td>1</td>\n",
       "      <td>Arménie</td>\n",
       "      <td>2912.409</td>\n",
       "      <td>2951.745</td>\n",
       "    </tr>\n",
       "    <tr>\n",
       "      <th>1</th>\n",
       "      <td>2</td>\n",
       "      <td>Afghanistan</td>\n",
       "      <td>33370.794</td>\n",
       "      <td>37171.921</td>\n",
       "    </tr>\n",
       "    <tr>\n",
       "      <th>2</th>\n",
       "      <td>3</td>\n",
       "      <td>Albanie</td>\n",
       "      <td>2896.305</td>\n",
       "      <td>2882.740</td>\n",
       "    </tr>\n",
       "    <tr>\n",
       "      <th>3</th>\n",
       "      <td>4</td>\n",
       "      <td>Algérie</td>\n",
       "      <td>38923.692</td>\n",
       "      <td>42228.408</td>\n",
       "    </tr>\n",
       "    <tr>\n",
       "      <th>4</th>\n",
       "      <td>5</td>\n",
       "      <td>Samoa américaines</td>\n",
       "      <td>55.791</td>\n",
       "      <td>55.465</td>\n",
       "    </tr>\n",
       "  </tbody>\n",
       "</table>\n",
       "</div>"
      ],
      "text/plain": [
       "   country_code            country  pop_value_2014  pop_value_2018\n",
       "0             1            Arménie        2912.409        2951.745\n",
       "1             2        Afghanistan       33370.794       37171.921\n",
       "2             3            Albanie        2896.305        2882.740\n",
       "3             4            Algérie       38923.692       42228.408\n",
       "4             5  Samoa américaines          55.791          55.465"
      ]
     },
     "execution_count": 16,
     "metadata": {},
     "output_type": "execute_result"
    }
   ],
   "source": [
    "#Renommer les colonnes\n",
    "pop_df.columns = [\"country_code\", \"country\", \"pop_value_2014\", \"pop_value_2018\"]\n",
    "pop_df.head()"
   ]
  },
  {
   "cell_type": "code",
   "execution_count": 17,
   "metadata": {},
   "outputs": [
    {
     "name": "stdout",
     "output_type": "stream",
     "text": [
      "(233, 5)\n"
     ]
    },
    {
     "data": {
      "text/html": [
       "<div>\n",
       "<style scoped>\n",
       "    .dataframe tbody tr th:only-of-type {\n",
       "        vertical-align: middle;\n",
       "    }\n",
       "\n",
       "    .dataframe tbody tr th {\n",
       "        vertical-align: top;\n",
       "    }\n",
       "\n",
       "    .dataframe thead th {\n",
       "        text-align: right;\n",
       "    }\n",
       "</style>\n",
       "<table border=\"1\" class=\"dataframe\">\n",
       "  <thead>\n",
       "    <tr style=\"text-align: right;\">\n",
       "      <th></th>\n",
       "      <th>country_code</th>\n",
       "      <th>country</th>\n",
       "      <th>pop_value_2014</th>\n",
       "      <th>pop_value_2018</th>\n",
       "      <th>pop_variation</th>\n",
       "    </tr>\n",
       "  </thead>\n",
       "  <tbody>\n",
       "    <tr>\n",
       "      <th>0</th>\n",
       "      <td>1</td>\n",
       "      <td>Arménie</td>\n",
       "      <td>2912409.0</td>\n",
       "      <td>2951745.0</td>\n",
       "      <td>0.013506</td>\n",
       "    </tr>\n",
       "    <tr>\n",
       "      <th>1</th>\n",
       "      <td>2</td>\n",
       "      <td>Afghanistan</td>\n",
       "      <td>33370794.0</td>\n",
       "      <td>37171921.0</td>\n",
       "      <td>0.113906</td>\n",
       "    </tr>\n",
       "    <tr>\n",
       "      <th>2</th>\n",
       "      <td>3</td>\n",
       "      <td>Albanie</td>\n",
       "      <td>2896305.0</td>\n",
       "      <td>2882740.0</td>\n",
       "      <td>-0.004684</td>\n",
       "    </tr>\n",
       "    <tr>\n",
       "      <th>3</th>\n",
       "      <td>4</td>\n",
       "      <td>Algérie</td>\n",
       "      <td>38923692.0</td>\n",
       "      <td>42228408.0</td>\n",
       "      <td>0.084902</td>\n",
       "    </tr>\n",
       "    <tr>\n",
       "      <th>4</th>\n",
       "      <td>5</td>\n",
       "      <td>Samoa américaines</td>\n",
       "      <td>55791.0</td>\n",
       "      <td>55465.0</td>\n",
       "      <td>-0.005843</td>\n",
       "    </tr>\n",
       "  </tbody>\n",
       "</table>\n",
       "</div>"
      ],
      "text/plain": [
       "   country_code            country  pop_value_2014  pop_value_2018  \\\n",
       "0             1            Arménie       2912409.0       2951745.0   \n",
       "1             2        Afghanistan      33370794.0      37171921.0   \n",
       "2             3            Albanie       2896305.0       2882740.0   \n",
       "3             4            Algérie      38923692.0      42228408.0   \n",
       "4             5  Samoa américaines         55791.0         55465.0   \n",
       "\n",
       "   pop_variation  \n",
       "0       0.013506  \n",
       "1       0.113906  \n",
       "2      -0.004684  \n",
       "3       0.084902  \n",
       "4      -0.005843  "
      ]
     },
     "execution_count": 17,
     "metadata": {},
     "output_type": "execute_result"
    }
   ],
   "source": [
    "#Convertir données population \n",
    "pop_df[\"pop_value_2014\"]=pop_df[\"pop_value_2014\"]*1000\n",
    "pop_df[\"pop_value_2018\"]=pop_df[\"pop_value_2018\"]*1000\n",
    "\n",
    "#Calcul variation population\n",
    "pop_df['pop_variation'] = (pop_df['pop_value_2018'] - pop_df['pop_value_2014'] )/ pop_df['pop_value_2014'] \n",
    "\n",
    "print(pop_df.shape)\n",
    "pop_df.head()"
   ]
  },
  {
   "cell_type": "markdown",
   "metadata": {},
   "source": [
    "## B- Analyse données alimentaires"
   ]
  },
  {
   "cell_type": "code",
   "execution_count": 18,
   "metadata": {},
   "outputs": [
    {
     "name": "stdout",
     "output_type": "stream",
     "text": [
      "(692, 14)\n"
     ]
    },
    {
     "data": {
      "text/html": [
       "<div>\n",
       "<style scoped>\n",
       "    .dataframe tbody tr th:only-of-type {\n",
       "        vertical-align: middle;\n",
       "    }\n",
       "\n",
       "    .dataframe tbody tr th {\n",
       "        vertical-align: top;\n",
       "    }\n",
       "\n",
       "    .dataframe thead th {\n",
       "        text-align: right;\n",
       "    }\n",
       "</style>\n",
       "<table border=\"1\" class=\"dataframe\">\n",
       "  <thead>\n",
       "    <tr style=\"text-align: right;\">\n",
       "      <th></th>\n",
       "      <th>Domain Code</th>\n",
       "      <th>Domain</th>\n",
       "      <th>Area Code (FAO)</th>\n",
       "      <th>Area</th>\n",
       "      <th>Element Code</th>\n",
       "      <th>Element</th>\n",
       "      <th>Item Code</th>\n",
       "      <th>Item</th>\n",
       "      <th>Year Code</th>\n",
       "      <th>Year</th>\n",
       "      <th>Unit</th>\n",
       "      <th>Value</th>\n",
       "      <th>Flag</th>\n",
       "      <th>Flag Description</th>\n",
       "    </tr>\n",
       "  </thead>\n",
       "  <tbody>\n",
       "    <tr>\n",
       "      <th>0</th>\n",
       "      <td>FBS</td>\n",
       "      <td>New Food Balances</td>\n",
       "      <td>2</td>\n",
       "      <td>Afghanistan</td>\n",
       "      <td>664</td>\n",
       "      <td>Food supply (kcal/capita/day)</td>\n",
       "      <td>2901</td>\n",
       "      <td>Grand Total</td>\n",
       "      <td>2018</td>\n",
       "      <td>2018</td>\n",
       "      <td>kcal/capita/day</td>\n",
       "      <td>2040.00</td>\n",
       "      <td>Fc</td>\n",
       "      <td>Calculated data</td>\n",
       "    </tr>\n",
       "    <tr>\n",
       "      <th>1</th>\n",
       "      <td>FBS</td>\n",
       "      <td>New Food Balances</td>\n",
       "      <td>2</td>\n",
       "      <td>Afghanistan</td>\n",
       "      <td>674</td>\n",
       "      <td>Protein supply quantity (g/capita/day)</td>\n",
       "      <td>2901</td>\n",
       "      <td>Grand Total</td>\n",
       "      <td>2018</td>\n",
       "      <td>2018</td>\n",
       "      <td>g/capita/day</td>\n",
       "      <td>55.52</td>\n",
       "      <td>Fc</td>\n",
       "      <td>Calculated data</td>\n",
       "    </tr>\n",
       "    <tr>\n",
       "      <th>2</th>\n",
       "      <td>FBS</td>\n",
       "      <td>New Food Balances</td>\n",
       "      <td>2</td>\n",
       "      <td>Afghanistan</td>\n",
       "      <td>664</td>\n",
       "      <td>Food supply (kcal/capita/day)</td>\n",
       "      <td>2941</td>\n",
       "      <td>Animal Products</td>\n",
       "      <td>2018</td>\n",
       "      <td>2018</td>\n",
       "      <td>kcal/capita/day</td>\n",
       "      <td>191.00</td>\n",
       "      <td>Fc</td>\n",
       "      <td>Calculated data</td>\n",
       "    </tr>\n",
       "    <tr>\n",
       "      <th>3</th>\n",
       "      <td>FBS</td>\n",
       "      <td>New Food Balances</td>\n",
       "      <td>2</td>\n",
       "      <td>Afghanistan</td>\n",
       "      <td>674</td>\n",
       "      <td>Protein supply quantity (g/capita/day)</td>\n",
       "      <td>2941</td>\n",
       "      <td>Animal Products</td>\n",
       "      <td>2018</td>\n",
       "      <td>2018</td>\n",
       "      <td>g/capita/day</td>\n",
       "      <td>10.79</td>\n",
       "      <td>Fc</td>\n",
       "      <td>Calculated data</td>\n",
       "    </tr>\n",
       "    <tr>\n",
       "      <th>4</th>\n",
       "      <td>FBS</td>\n",
       "      <td>New Food Balances</td>\n",
       "      <td>3</td>\n",
       "      <td>Albania</td>\n",
       "      <td>664</td>\n",
       "      <td>Food supply (kcal/capita/day)</td>\n",
       "      <td>2901</td>\n",
       "      <td>Grand Total</td>\n",
       "      <td>2018</td>\n",
       "      <td>2018</td>\n",
       "      <td>kcal/capita/day</td>\n",
       "      <td>3360.00</td>\n",
       "      <td>Fc</td>\n",
       "      <td>Calculated data</td>\n",
       "    </tr>\n",
       "  </tbody>\n",
       "</table>\n",
       "</div>"
      ],
      "text/plain": [
       "  Domain Code             Domain  Area Code (FAO)         Area  Element Code  \\\n",
       "0         FBS  New Food Balances                2  Afghanistan           664   \n",
       "1         FBS  New Food Balances                2  Afghanistan           674   \n",
       "2         FBS  New Food Balances                2  Afghanistan           664   \n",
       "3         FBS  New Food Balances                2  Afghanistan           674   \n",
       "4         FBS  New Food Balances                3      Albania           664   \n",
       "\n",
       "                                  Element  Item Code             Item  \\\n",
       "0           Food supply (kcal/capita/day)       2901      Grand Total   \n",
       "1  Protein supply quantity (g/capita/day)       2901      Grand Total   \n",
       "2           Food supply (kcal/capita/day)       2941  Animal Products   \n",
       "3  Protein supply quantity (g/capita/day)       2941  Animal Products   \n",
       "4           Food supply (kcal/capita/day)       2901      Grand Total   \n",
       "\n",
       "   Year Code  Year             Unit    Value Flag Flag Description  \n",
       "0       2018  2018  kcal/capita/day  2040.00   Fc  Calculated data  \n",
       "1       2018  2018     g/capita/day    55.52   Fc  Calculated data  \n",
       "2       2018  2018  kcal/capita/day   191.00   Fc  Calculated data  \n",
       "3       2018  2018     g/capita/day    10.79   Fc  Calculated data  \n",
       "4       2018  2018  kcal/capita/day  3360.00   Fc  Calculated data  "
      ]
     },
     "execution_count": 18,
     "metadata": {},
     "output_type": "execute_result"
    }
   ],
   "source": [
    "#Import fichier food_meat \n",
    "food_meat = pd.read_csv(\"./Data/food_meat_en.csv\")\n",
    "print(food_meat.shape)\n",
    "food_meat.head()"
   ]
  },
  {
   "cell_type": "code",
   "execution_count": 19,
   "metadata": {},
   "outputs": [
    {
     "name": "stdout",
     "output_type": "stream",
     "text": [
      "<class 'pandas.core.frame.DataFrame'>\n",
      "RangeIndex: 692 entries, 0 to 691\n",
      "Data columns (total 14 columns):\n",
      " #   Column            Non-Null Count  Dtype  \n",
      "---  ------            --------------  -----  \n",
      " 0   Domain Code       692 non-null    object \n",
      " 1   Domain            692 non-null    object \n",
      " 2   Area Code (FAO)   692 non-null    int64  \n",
      " 3   Area              692 non-null    object \n",
      " 4   Element Code      692 non-null    int64  \n",
      " 5   Element           692 non-null    object \n",
      " 6   Item Code         692 non-null    int64  \n",
      " 7   Item              692 non-null    object \n",
      " 8   Year Code         692 non-null    int64  \n",
      " 9   Year              692 non-null    int64  \n",
      " 10  Unit              692 non-null    object \n",
      " 11  Value             692 non-null    float64\n",
      " 12  Flag              692 non-null    object \n",
      " 13  Flag Description  692 non-null    object \n",
      "dtypes: float64(1), int64(5), object(8)\n",
      "memory usage: 75.8+ KB\n"
     ]
    }
   ],
   "source": [
    "# Vérifier si valeurs manquantes\n",
    "food_meat.info()"
   ]
  },
  {
   "cell_type": "code",
   "execution_count": 20,
   "metadata": {},
   "outputs": [
    {
     "data": {
      "text/plain": [
       "array(['Fc'], dtype=object)"
      ]
     },
     "execution_count": 20,
     "metadata": {},
     "output_type": "execute_result"
    }
   ],
   "source": [
    "#Vérifier sources des données\n",
    "pd.unique(food_meat[\"Flag\"])"
   ]
  },
  {
   "cell_type": "code",
   "execution_count": 21,
   "metadata": {},
   "outputs": [
    {
     "data": {
      "text/html": [
       "<div>\n",
       "<style scoped>\n",
       "    .dataframe tbody tr th:only-of-type {\n",
       "        vertical-align: middle;\n",
       "    }\n",
       "\n",
       "    .dataframe tbody tr th {\n",
       "        vertical-align: top;\n",
       "    }\n",
       "\n",
       "    .dataframe thead th {\n",
       "        text-align: right;\n",
       "    }\n",
       "</style>\n",
       "<table border=\"1\" class=\"dataframe\">\n",
       "  <thead>\n",
       "    <tr style=\"text-align: right;\">\n",
       "      <th></th>\n",
       "      <th>Domain</th>\n",
       "      <th>Area Code (FAO)</th>\n",
       "      <th>Area</th>\n",
       "      <th>Element Code</th>\n",
       "      <th>Element</th>\n",
       "      <th>Item Code</th>\n",
       "      <th>Item</th>\n",
       "      <th>Year</th>\n",
       "      <th>Unit</th>\n",
       "      <th>Value</th>\n",
       "    </tr>\n",
       "  </thead>\n",
       "  <tbody>\n",
       "    <tr>\n",
       "      <th>0</th>\n",
       "      <td>New Food Balances</td>\n",
       "      <td>2</td>\n",
       "      <td>Afghanistan</td>\n",
       "      <td>664</td>\n",
       "      <td>Food supply (kcal/capita/day)</td>\n",
       "      <td>2901</td>\n",
       "      <td>Grand Total</td>\n",
       "      <td>2018</td>\n",
       "      <td>kcal/capita/day</td>\n",
       "      <td>2040.00</td>\n",
       "    </tr>\n",
       "    <tr>\n",
       "      <th>1</th>\n",
       "      <td>New Food Balances</td>\n",
       "      <td>2</td>\n",
       "      <td>Afghanistan</td>\n",
       "      <td>674</td>\n",
       "      <td>Protein supply quantity (g/capita/day)</td>\n",
       "      <td>2901</td>\n",
       "      <td>Grand Total</td>\n",
       "      <td>2018</td>\n",
       "      <td>g/capita/day</td>\n",
       "      <td>55.52</td>\n",
       "    </tr>\n",
       "    <tr>\n",
       "      <th>2</th>\n",
       "      <td>New Food Balances</td>\n",
       "      <td>2</td>\n",
       "      <td>Afghanistan</td>\n",
       "      <td>664</td>\n",
       "      <td>Food supply (kcal/capita/day)</td>\n",
       "      <td>2941</td>\n",
       "      <td>Animal Products</td>\n",
       "      <td>2018</td>\n",
       "      <td>kcal/capita/day</td>\n",
       "      <td>191.00</td>\n",
       "    </tr>\n",
       "    <tr>\n",
       "      <th>3</th>\n",
       "      <td>New Food Balances</td>\n",
       "      <td>2</td>\n",
       "      <td>Afghanistan</td>\n",
       "      <td>674</td>\n",
       "      <td>Protein supply quantity (g/capita/day)</td>\n",
       "      <td>2941</td>\n",
       "      <td>Animal Products</td>\n",
       "      <td>2018</td>\n",
       "      <td>g/capita/day</td>\n",
       "      <td>10.79</td>\n",
       "    </tr>\n",
       "    <tr>\n",
       "      <th>4</th>\n",
       "      <td>New Food Balances</td>\n",
       "      <td>3</td>\n",
       "      <td>Albania</td>\n",
       "      <td>664</td>\n",
       "      <td>Food supply (kcal/capita/day)</td>\n",
       "      <td>2901</td>\n",
       "      <td>Grand Total</td>\n",
       "      <td>2018</td>\n",
       "      <td>kcal/capita/day</td>\n",
       "      <td>3360.00</td>\n",
       "    </tr>\n",
       "  </tbody>\n",
       "</table>\n",
       "</div>"
      ],
      "text/plain": [
       "              Domain  Area Code (FAO)         Area  Element Code  \\\n",
       "0  New Food Balances                2  Afghanistan           664   \n",
       "1  New Food Balances                2  Afghanistan           674   \n",
       "2  New Food Balances                2  Afghanistan           664   \n",
       "3  New Food Balances                2  Afghanistan           674   \n",
       "4  New Food Balances                3      Albania           664   \n",
       "\n",
       "                                  Element  Item Code             Item  Year  \\\n",
       "0           Food supply (kcal/capita/day)       2901      Grand Total  2018   \n",
       "1  Protein supply quantity (g/capita/day)       2901      Grand Total  2018   \n",
       "2           Food supply (kcal/capita/day)       2941  Animal Products  2018   \n",
       "3  Protein supply quantity (g/capita/day)       2941  Animal Products  2018   \n",
       "4           Food supply (kcal/capita/day)       2901      Grand Total  2018   \n",
       "\n",
       "              Unit    Value  \n",
       "0  kcal/capita/day  2040.00  \n",
       "1     g/capita/day    55.52  \n",
       "2  kcal/capita/day   191.00  \n",
       "3     g/capita/day    10.79  \n",
       "4  kcal/capita/day  3360.00  "
      ]
     },
     "execution_count": 21,
     "metadata": {},
     "output_type": "execute_result"
    }
   ],
   "source": [
    "#Choix des colonnes\n",
    "food_meat=food_meat[['Domain','Area Code (FAO)','Area','Element Code','Element','Item Code','Item','Year','Unit','Value']]\n",
    "food_meat.head()"
   ]
  },
  {
   "cell_type": "code",
   "execution_count": 22,
   "metadata": {},
   "outputs": [
    {
     "data": {
      "text/html": [
       "<div>\n",
       "<style scoped>\n",
       "    .dataframe tbody tr th:only-of-type {\n",
       "        vertical-align: middle;\n",
       "    }\n",
       "\n",
       "    .dataframe tbody tr th {\n",
       "        vertical-align: top;\n",
       "    }\n",
       "\n",
       "    .dataframe thead tr th {\n",
       "        text-align: left;\n",
       "    }\n",
       "</style>\n",
       "<table border=\"1\" class=\"dataframe\">\n",
       "  <thead>\n",
       "    <tr>\n",
       "      <th>Item</th>\n",
       "      <th>Area Code (FAO)</th>\n",
       "      <th>Area</th>\n",
       "      <th colspan=\"2\" halign=\"left\">Animal Products</th>\n",
       "      <th colspan=\"2\" halign=\"left\">Grand Total</th>\n",
       "    </tr>\n",
       "    <tr>\n",
       "      <th>Element</th>\n",
       "      <th></th>\n",
       "      <th></th>\n",
       "      <th>Food supply (kcal/capita/day)</th>\n",
       "      <th>Protein supply quantity (g/capita/day)</th>\n",
       "      <th>Food supply (kcal/capita/day)</th>\n",
       "      <th>Protein supply quantity (g/capita/day)</th>\n",
       "    </tr>\n",
       "  </thead>\n",
       "  <tbody>\n",
       "    <tr>\n",
       "      <th>0</th>\n",
       "      <td>1</td>\n",
       "      <td>Armenia</td>\n",
       "      <td>795.0</td>\n",
       "      <td>45.34</td>\n",
       "      <td>2997.0</td>\n",
       "      <td>94.35</td>\n",
       "    </tr>\n",
       "    <tr>\n",
       "      <th>1</th>\n",
       "      <td>2</td>\n",
       "      <td>Afghanistan</td>\n",
       "      <td>191.0</td>\n",
       "      <td>10.79</td>\n",
       "      <td>2040.0</td>\n",
       "      <td>55.52</td>\n",
       "    </tr>\n",
       "    <tr>\n",
       "      <th>2</th>\n",
       "      <td>3</td>\n",
       "      <td>Albania</td>\n",
       "      <td>1003.0</td>\n",
       "      <td>61.75</td>\n",
       "      <td>3360.0</td>\n",
       "      <td>115.74</td>\n",
       "    </tr>\n",
       "    <tr>\n",
       "      <th>3</th>\n",
       "      <td>4</td>\n",
       "      <td>Algeria</td>\n",
       "      <td>390.0</td>\n",
       "      <td>24.73</td>\n",
       "      <td>3322.0</td>\n",
       "      <td>91.83</td>\n",
       "    </tr>\n",
       "    <tr>\n",
       "      <th>4</th>\n",
       "      <td>7</td>\n",
       "      <td>Angola</td>\n",
       "      <td>208.0</td>\n",
       "      <td>16.31</td>\n",
       "      <td>2385.0</td>\n",
       "      <td>53.05</td>\n",
       "    </tr>\n",
       "  </tbody>\n",
       "</table>\n",
       "</div>"
      ],
      "text/plain": [
       "Item    Area Code (FAO)         Area               Animal Products  \\\n",
       "Element                              Food supply (kcal/capita/day)   \n",
       "0                     1      Armenia                         795.0   \n",
       "1                     2  Afghanistan                         191.0   \n",
       "2                     3      Albania                        1003.0   \n",
       "3                     4      Algeria                         390.0   \n",
       "4                     7       Angola                         208.0   \n",
       "\n",
       "Item                                                             Grand Total  \\\n",
       "Element Protein supply quantity (g/capita/day) Food supply (kcal/capita/day)   \n",
       "0                                        45.34                        2997.0   \n",
       "1                                        10.79                        2040.0   \n",
       "2                                        61.75                        3360.0   \n",
       "3                                        24.73                        3322.0   \n",
       "4                                        16.31                        2385.0   \n",
       "\n",
       "Item                                            \n",
       "Element Protein supply quantity (g/capita/day)  \n",
       "0                                        94.35  \n",
       "1                                        55.52  \n",
       "2                                       115.74  \n",
       "3                                        91.83  \n",
       "4                                        53.05  "
      ]
     },
     "execution_count": 22,
     "metadata": {},
     "output_type": "execute_result"
    }
   ],
   "source": [
    "#Pivot-table food_balance\n",
    "food_meat=food_meat.pivot_table(index=['Area Code (FAO)','Area'], columns=['Item','Element'], values='Value').reset_index()\n",
    "food_meat.head()"
   ]
  },
  {
   "cell_type": "code",
   "execution_count": 23,
   "metadata": {},
   "outputs": [
    {
     "name": "stdout",
     "output_type": "stream",
     "text": [
      "(173, 5)\n"
     ]
    },
    {
     "data": {
      "text/html": [
       "<div>\n",
       "<style scoped>\n",
       "    .dataframe tbody tr th:only-of-type {\n",
       "        vertical-align: middle;\n",
       "    }\n",
       "\n",
       "    .dataframe tbody tr th {\n",
       "        vertical-align: top;\n",
       "    }\n",
       "\n",
       "    .dataframe thead th {\n",
       "        text-align: right;\n",
       "    }\n",
       "</style>\n",
       "<table border=\"1\" class=\"dataframe\">\n",
       "  <thead>\n",
       "    <tr style=\"text-align: right;\">\n",
       "      <th></th>\n",
       "      <th>code_pays</th>\n",
       "      <th>pays</th>\n",
       "      <th>dispo_kcal_total</th>\n",
       "      <th>dispo_proteines_total</th>\n",
       "      <th>dispo_proteines_animale</th>\n",
       "    </tr>\n",
       "  </thead>\n",
       "  <tbody>\n",
       "    <tr>\n",
       "      <th>0</th>\n",
       "      <td>1</td>\n",
       "      <td>Armenia</td>\n",
       "      <td>2997.0</td>\n",
       "      <td>94.35</td>\n",
       "      <td>45.34</td>\n",
       "    </tr>\n",
       "    <tr>\n",
       "      <th>1</th>\n",
       "      <td>2</td>\n",
       "      <td>Afghanistan</td>\n",
       "      <td>2040.0</td>\n",
       "      <td>55.52</td>\n",
       "      <td>10.79</td>\n",
       "    </tr>\n",
       "    <tr>\n",
       "      <th>2</th>\n",
       "      <td>3</td>\n",
       "      <td>Albania</td>\n",
       "      <td>3360.0</td>\n",
       "      <td>115.74</td>\n",
       "      <td>61.75</td>\n",
       "    </tr>\n",
       "    <tr>\n",
       "      <th>3</th>\n",
       "      <td>4</td>\n",
       "      <td>Algeria</td>\n",
       "      <td>3322.0</td>\n",
       "      <td>91.83</td>\n",
       "      <td>24.73</td>\n",
       "    </tr>\n",
       "    <tr>\n",
       "      <th>4</th>\n",
       "      <td>7</td>\n",
       "      <td>Angola</td>\n",
       "      <td>2385.0</td>\n",
       "      <td>53.05</td>\n",
       "      <td>16.31</td>\n",
       "    </tr>\n",
       "  </tbody>\n",
       "</table>\n",
       "</div>"
      ],
      "text/plain": [
       "   code_pays         pays  dispo_kcal_total  dispo_proteines_total  \\\n",
       "0          1      Armenia            2997.0                  94.35   \n",
       "1          2  Afghanistan            2040.0                  55.52   \n",
       "2          3      Albania            3360.0                 115.74   \n",
       "3          4      Algeria            3322.0                  91.83   \n",
       "4          7       Angola            2385.0                  53.05   \n",
       "\n",
       "   dispo_proteines_animale  \n",
       "0                    45.34  \n",
       "1                    10.79  \n",
       "2                    61.75  \n",
       "3                    24.73  \n",
       "4                    16.31  "
      ]
     },
     "execution_count": 23,
     "metadata": {},
     "output_type": "execute_result"
    }
   ],
   "source": [
    "#Créer une nouvelle df et renommer les colonnes \n",
    "food=pd.DataFrame()\n",
    "food[\"code_pays\"]=food_meat['Area Code (FAO)']\n",
    "food[\"pays\"]=food_meat['Area']\n",
    "food[\"dispo_kcal_total\"]=food_meat['Grand Total']['Food supply (kcal/capita/day)']\n",
    "food[\"dispo_proteines_total\"]=food_meat['Grand Total']['Protein supply quantity (g/capita/day)']\n",
    "food[\"dispo_proteines_animale\"]=food_meat['Animal Products']['Protein supply quantity (g/capita/day)']\n",
    "print(food.shape)\n",
    "food.head()"
   ]
  },
  {
   "cell_type": "markdown",
   "metadata": {},
   "source": [
    "## C- Création d'une seule df food et population"
   ]
  },
  {
   "cell_type": "code",
   "execution_count": 24,
   "metadata": {},
   "outputs": [
    {
     "data": {
      "text/html": [
       "<div>\n",
       "<style scoped>\n",
       "    .dataframe tbody tr th:only-of-type {\n",
       "        vertical-align: middle;\n",
       "    }\n",
       "\n",
       "    .dataframe tbody tr th {\n",
       "        vertical-align: top;\n",
       "    }\n",
       "\n",
       "    .dataframe thead th {\n",
       "        text-align: right;\n",
       "    }\n",
       "</style>\n",
       "<table border=\"1\" class=\"dataframe\">\n",
       "  <thead>\n",
       "    <tr style=\"text-align: right;\">\n",
       "      <th></th>\n",
       "      <th>code_pays</th>\n",
       "      <th>pays</th>\n",
       "      <th>dispo_kcal_total</th>\n",
       "      <th>dispo_proteines_total</th>\n",
       "      <th>dispo_proteines_animale</th>\n",
       "      <th>country_code</th>\n",
       "      <th>country</th>\n",
       "      <th>pop_value_2014</th>\n",
       "      <th>pop_value_2018</th>\n",
       "      <th>pop_variation</th>\n",
       "    </tr>\n",
       "  </thead>\n",
       "  <tbody>\n",
       "    <tr>\n",
       "      <th>0</th>\n",
       "      <td>1</td>\n",
       "      <td>Armenia</td>\n",
       "      <td>2997.0</td>\n",
       "      <td>94.35</td>\n",
       "      <td>45.34</td>\n",
       "      <td>1</td>\n",
       "      <td>Arménie</td>\n",
       "      <td>2912409.0</td>\n",
       "      <td>2951745.0</td>\n",
       "      <td>0.013506</td>\n",
       "    </tr>\n",
       "    <tr>\n",
       "      <th>1</th>\n",
       "      <td>2</td>\n",
       "      <td>Afghanistan</td>\n",
       "      <td>2040.0</td>\n",
       "      <td>55.52</td>\n",
       "      <td>10.79</td>\n",
       "      <td>2</td>\n",
       "      <td>Afghanistan</td>\n",
       "      <td>33370794.0</td>\n",
       "      <td>37171921.0</td>\n",
       "      <td>0.113906</td>\n",
       "    </tr>\n",
       "    <tr>\n",
       "      <th>2</th>\n",
       "      <td>3</td>\n",
       "      <td>Albania</td>\n",
       "      <td>3360.0</td>\n",
       "      <td>115.74</td>\n",
       "      <td>61.75</td>\n",
       "      <td>3</td>\n",
       "      <td>Albanie</td>\n",
       "      <td>2896305.0</td>\n",
       "      <td>2882740.0</td>\n",
       "      <td>-0.004684</td>\n",
       "    </tr>\n",
       "    <tr>\n",
       "      <th>3</th>\n",
       "      <td>4</td>\n",
       "      <td>Algeria</td>\n",
       "      <td>3322.0</td>\n",
       "      <td>91.83</td>\n",
       "      <td>24.73</td>\n",
       "      <td>4</td>\n",
       "      <td>Algérie</td>\n",
       "      <td>38923692.0</td>\n",
       "      <td>42228408.0</td>\n",
       "      <td>0.084902</td>\n",
       "    </tr>\n",
       "    <tr>\n",
       "      <th>4</th>\n",
       "      <td>7</td>\n",
       "      <td>Angola</td>\n",
       "      <td>2385.0</td>\n",
       "      <td>53.05</td>\n",
       "      <td>16.31</td>\n",
       "      <td>7</td>\n",
       "      <td>Angola</td>\n",
       "      <td>26941779.0</td>\n",
       "      <td>30809787.0</td>\n",
       "      <td>0.143569</td>\n",
       "    </tr>\n",
       "  </tbody>\n",
       "</table>\n",
       "</div>"
      ],
      "text/plain": [
       "   code_pays         pays  dispo_kcal_total  dispo_proteines_total  \\\n",
       "0          1      Armenia            2997.0                  94.35   \n",
       "1          2  Afghanistan            2040.0                  55.52   \n",
       "2          3      Albania            3360.0                 115.74   \n",
       "3          4      Algeria            3322.0                  91.83   \n",
       "4          7       Angola            2385.0                  53.05   \n",
       "\n",
       "   dispo_proteines_animale  country_code      country  pop_value_2014  \\\n",
       "0                    45.34             1      Arménie       2912409.0   \n",
       "1                    10.79             2  Afghanistan      33370794.0   \n",
       "2                    61.75             3      Albanie       2896305.0   \n",
       "3                    24.73             4      Algérie      38923692.0   \n",
       "4                    16.31             7       Angola      26941779.0   \n",
       "\n",
       "   pop_value_2018  pop_variation  \n",
       "0       2951745.0       0.013506  \n",
       "1      37171921.0       0.113906  \n",
       "2       2882740.0      -0.004684  \n",
       "3      42228408.0       0.084902  \n",
       "4      30809787.0       0.143569  "
      ]
     },
     "execution_count": 24,
     "metadata": {},
     "output_type": "execute_result"
    }
   ],
   "source": [
    "#Inner Join entre les tables population et food\n",
    "pop_food=food.merge(pop_df, left_on='code_pays', right_on='country_code', how='inner')\n",
    "pop_food.head()"
   ]
  },
  {
   "cell_type": "code",
   "execution_count": 25,
   "metadata": {},
   "outputs": [
    {
     "name": "stdout",
     "output_type": "stream",
     "text": [
      "(169, 6)\n"
     ]
    },
    {
     "data": {
      "text/html": [
       "<div>\n",
       "<style scoped>\n",
       "    .dataframe tbody tr th:only-of-type {\n",
       "        vertical-align: middle;\n",
       "    }\n",
       "\n",
       "    .dataframe tbody tr th {\n",
       "        vertical-align: top;\n",
       "    }\n",
       "\n",
       "    .dataframe thead th {\n",
       "        text-align: right;\n",
       "    }\n",
       "</style>\n",
       "<table border=\"1\" class=\"dataframe\">\n",
       "  <thead>\n",
       "    <tr style=\"text-align: right;\">\n",
       "      <th></th>\n",
       "      <th>code_pays</th>\n",
       "      <th>pays</th>\n",
       "      <th>dispo_kcal_total</th>\n",
       "      <th>dispo_proteines_total</th>\n",
       "      <th>dispo_proteines_animale</th>\n",
       "      <th>pop_variation</th>\n",
       "    </tr>\n",
       "  </thead>\n",
       "  <tbody>\n",
       "    <tr>\n",
       "      <th>0</th>\n",
       "      <td>1</td>\n",
       "      <td>Armenia</td>\n",
       "      <td>2997.0</td>\n",
       "      <td>94.35</td>\n",
       "      <td>45.34</td>\n",
       "      <td>0.013506</td>\n",
       "    </tr>\n",
       "    <tr>\n",
       "      <th>1</th>\n",
       "      <td>2</td>\n",
       "      <td>Afghanistan</td>\n",
       "      <td>2040.0</td>\n",
       "      <td>55.52</td>\n",
       "      <td>10.79</td>\n",
       "      <td>0.113906</td>\n",
       "    </tr>\n",
       "    <tr>\n",
       "      <th>2</th>\n",
       "      <td>3</td>\n",
       "      <td>Albania</td>\n",
       "      <td>3360.0</td>\n",
       "      <td>115.74</td>\n",
       "      <td>61.75</td>\n",
       "      <td>-0.004684</td>\n",
       "    </tr>\n",
       "    <tr>\n",
       "      <th>3</th>\n",
       "      <td>4</td>\n",
       "      <td>Algeria</td>\n",
       "      <td>3322.0</td>\n",
       "      <td>91.83</td>\n",
       "      <td>24.73</td>\n",
       "      <td>0.084902</td>\n",
       "    </tr>\n",
       "    <tr>\n",
       "      <th>4</th>\n",
       "      <td>7</td>\n",
       "      <td>Angola</td>\n",
       "      <td>2385.0</td>\n",
       "      <td>53.05</td>\n",
       "      <td>16.31</td>\n",
       "      <td>0.143569</td>\n",
       "    </tr>\n",
       "  </tbody>\n",
       "</table>\n",
       "</div>"
      ],
      "text/plain": [
       "   code_pays         pays  dispo_kcal_total  dispo_proteines_total  \\\n",
       "0          1      Armenia            2997.0                  94.35   \n",
       "1          2  Afghanistan            2040.0                  55.52   \n",
       "2          3      Albania            3360.0                 115.74   \n",
       "3          4      Algeria            3322.0                  91.83   \n",
       "4          7       Angola            2385.0                  53.05   \n",
       "\n",
       "   dispo_proteines_animale  pop_variation  \n",
       "0                    45.34       0.013506  \n",
       "1                    10.79       0.113906  \n",
       "2                    61.75      -0.004684  \n",
       "3                    24.73       0.084902  \n",
       "4                    16.31       0.143569  "
      ]
     },
     "execution_count": 25,
     "metadata": {},
     "output_type": "execute_result"
    }
   ],
   "source": [
    "#Selectionner les colonnes \n",
    "pop_food=pop_food[['code_pays','pays','dispo_kcal_total','dispo_proteines_total','dispo_proteines_animale','pop_variation']]\n",
    "pop_food.columns=['code_pays','pays','dispo_kcal_total','dispo_proteines_total','dispo_proteines_animale','pop_variation']\n",
    "\n",
    "print(pop_food.shape)\n",
    "pop_food.head()"
   ]
  },
  {
   "cell_type": "code",
   "execution_count": 26,
   "metadata": {},
   "outputs": [
    {
     "name": "stdout",
     "output_type": "stream",
     "text": [
      "<class 'pandas.core.frame.DataFrame'>\n",
      "Int64Index: 169 entries, 0 to 168\n",
      "Data columns (total 6 columns):\n",
      " #   Column                   Non-Null Count  Dtype  \n",
      "---  ------                   --------------  -----  \n",
      " 0   code_pays                169 non-null    int64  \n",
      " 1   pays                     169 non-null    object \n",
      " 2   dispo_kcal_total         169 non-null    float64\n",
      " 3   dispo_proteines_total    169 non-null    float64\n",
      " 4   dispo_proteines_animale  169 non-null    float64\n",
      " 5   pop_variation            169 non-null    float64\n",
      "dtypes: float64(4), int64(1), object(1)\n",
      "memory usage: 9.2+ KB\n"
     ]
    }
   ],
   "source": [
    "#Vérifier si valeurs manquantes\n",
    "pop_food.info()"
   ]
  },
  {
   "cell_type": "markdown",
   "metadata": {},
   "source": [
    "# Mission 2 : Construire un dendrogramme contenant l'ensemble des pays étudiés, puis les couper afin d'obtenir 5 groupes."
   ]
  },
  {
   "cell_type": "markdown",
   "metadata": {},
   "source": [
    "## A - Analyse correlation entre les variables"
   ]
  },
  {
   "cell_type": "code",
   "execution_count": 27,
   "metadata": {},
   "outputs": [
    {
     "data": {
      "text/plain": [
       "<seaborn.axisgrid.PairGrid at 0x7f8231103c40>"
      ]
     },
     "execution_count": 27,
     "metadata": {},
     "output_type": "execute_result"
    },
    {
     "data": {
      "image/png": "[encoded data removed]",
      "text/plain": [
       "<Figure size 720x720 with 20 Axes>"
      ]
     },
     "metadata": {
      "needs_background": "light"
     },
     "output_type": "display_data"
    }
   ],
   "source": [
    "import seaborn as sns\n",
    "\n",
    "# Pairwise correlation : Etude des dépendence entre plusieurs variables en même temps\n",
    "sns.pairplot(pop_food[['dispo_kcal_total','dispo_proteines_total','dispo_proteines_animale','pop_variation']], diag_kind='hist')"
   ]
  },
  {
   "cell_type": "code",
   "execution_count": 28,
   "metadata": {},
   "outputs": [
    {
     "data": {
      "text/plain": [
       "<AxesSubplot:>"
      ]
     },
     "execution_count": 28,
     "metadata": {},
     "output_type": "execute_result"
    },
    {
     "data": {
      "image/png": "[encoded data removed]",
      "text/plain": [
       "<Figure size 432x288 with 2 Axes>"
      ]
     },
     "metadata": {
      "needs_background": "light"
     },
     "output_type": "display_data"
    }
   ],
   "source": [
    "# Matrice de corrélation \n",
    "corr_temp = pop_food[['dispo_kcal_total','dispo_proteines_total','dispo_proteines_animale','pop_variation']].corr()\n",
    "mask_temp = np.triu(np.ones_like(corr_temp, dtype=bool))\n",
    "\n",
    "#Visualiser corrélation matrice\n",
    "cmap=sns.diverging_palette(h_neg=10,\n",
    "                          h_pos=240,\n",
    "                          as_cmap=True)\n",
    "\n",
    "sns.heatmap(pop_food[['dispo_kcal_total','dispo_proteines_total','dispo_proteines_animale','pop_variation']].corr(), mask=mask_temp,\n",
    "            center=1, cmap=cmap, linewidths=1,\n",
    "           annot=True, fmt=\".2f\")\n"
   ]
  },
  {
   "cell_type": "markdown",
   "metadata": {},
   "source": [
    "#### Correlation positive entre disponibilité de proteines (total) et:\n",
    " - disponibilité de kcal (total)\n",
    " - disponibilité de protéines d'origine animale\n",
    "\n",
    "#### Correlation negative entre variation de population:\n",
    " - disponibilité de proteines (total), \n",
    " - disponibilité de kcal (total)\n",
    " - disponibilité de protéines d'origine animale"
   ]
  },
  {
   "cell_type": "code",
   "execution_count": 29,
   "metadata": {},
   "outputs": [],
   "source": [
    "#Remplacer valeurs nulles par 0\n",
    "data_model = pop_food.fillna(0)"
   ]
  },
  {
   "cell_type": "code",
   "execution_count": 30,
   "metadata": {},
   "outputs": [
    {
     "name": "stdout",
     "output_type": "stream",
     "text": [
      "(169, 5)\n"
     ]
    },
    {
     "data": {
      "text/html": [
       "<div>\n",
       "<style scoped>\n",
       "    .dataframe tbody tr th:only-of-type {\n",
       "        vertical-align: middle;\n",
       "    }\n",
       "\n",
       "    .dataframe tbody tr th {\n",
       "        vertical-align: top;\n",
       "    }\n",
       "\n",
       "    .dataframe thead th {\n",
       "        text-align: right;\n",
       "    }\n",
       "</style>\n",
       "<table border=\"1\" class=\"dataframe\">\n",
       "  <thead>\n",
       "    <tr style=\"text-align: right;\">\n",
       "      <th></th>\n",
       "      <th>pays</th>\n",
       "      <th>dispo_kcal_total</th>\n",
       "      <th>dispo_proteines_total</th>\n",
       "      <th>dispo_proteines_animale</th>\n",
       "      <th>pop_variation</th>\n",
       "    </tr>\n",
       "  </thead>\n",
       "  <tbody>\n",
       "    <tr>\n",
       "      <th>0</th>\n",
       "      <td>Armenia</td>\n",
       "      <td>2997.0</td>\n",
       "      <td>94.35</td>\n",
       "      <td>45.34</td>\n",
       "      <td>0.013506</td>\n",
       "    </tr>\n",
       "    <tr>\n",
       "      <th>1</th>\n",
       "      <td>Afghanistan</td>\n",
       "      <td>2040.0</td>\n",
       "      <td>55.52</td>\n",
       "      <td>10.79</td>\n",
       "      <td>0.113906</td>\n",
       "    </tr>\n",
       "    <tr>\n",
       "      <th>2</th>\n",
       "      <td>Albania</td>\n",
       "      <td>3360.0</td>\n",
       "      <td>115.74</td>\n",
       "      <td>61.75</td>\n",
       "      <td>-0.004684</td>\n",
       "    </tr>\n",
       "    <tr>\n",
       "      <th>3</th>\n",
       "      <td>Algeria</td>\n",
       "      <td>3322.0</td>\n",
       "      <td>91.83</td>\n",
       "      <td>24.73</td>\n",
       "      <td>0.084902</td>\n",
       "    </tr>\n",
       "    <tr>\n",
       "      <th>4</th>\n",
       "      <td>Angola</td>\n",
       "      <td>2385.0</td>\n",
       "      <td>53.05</td>\n",
       "      <td>16.31</td>\n",
       "      <td>0.143569</td>\n",
       "    </tr>\n",
       "  </tbody>\n",
       "</table>\n",
       "</div>"
      ],
      "text/plain": [
       "          pays  dispo_kcal_total  dispo_proteines_total  \\\n",
       "0      Armenia            2997.0                  94.35   \n",
       "1  Afghanistan            2040.0                  55.52   \n",
       "2      Albania            3360.0                 115.74   \n",
       "3      Algeria            3322.0                  91.83   \n",
       "4       Angola            2385.0                  53.05   \n",
       "\n",
       "   dispo_proteines_animale  pop_variation  \n",
       "0                    45.34       0.013506  \n",
       "1                    10.79       0.113906  \n",
       "2                    61.75      -0.004684  \n",
       "3                    24.73       0.084902  \n",
       "4                    16.31       0.143569  "
      ]
     },
     "execution_count": 30,
     "metadata": {},
     "output_type": "execute_result"
    }
   ],
   "source": [
    "#Préparation Df pour PCA : selectionner les colonnes necessaires\n",
    "data_pca = data_model[['pays','dispo_kcal_total','dispo_proteines_total','dispo_proteines_animale','pop_variation']]\n",
    "print(data_pca.shape)\n",
    "data_pca.head()"
   ]
  },
  {
   "cell_type": "markdown",
   "metadata": {},
   "source": [
    "# B- Analyse statistique inferientielle \n",
    "Tester si chacune des variables suit une loi normale"
   ]
  },
  {
   "cell_type": "markdown",
   "metadata": {},
   "source": [
    "### Affichage d'une distribution Gausienne"
   ]
  },
  {
   "cell_type": "code",
   "execution_count": 31,
   "metadata": {},
   "outputs": [
    {
     "data": {
      "image/png": "[encoded data removed]",
      "text/plain": [
       "<Figure size 432x288 with 1 Axes>"
      ]
     },
     "metadata": {
      "needs_background": "light"
     },
     "output_type": "display_data"
    }
   ],
   "source": [
    "import matplotlib.pyplot as plt\n",
    "import numpy as np\n",
    "import scipy.stats as stats\n",
    "import math\n",
    "\n",
    "mu = 0\n",
    "variance = 1\n",
    "sigma = math.sqrt(variance)\n",
    "x = np.linspace(mu - 3*sigma, mu + 3*sigma, 100)\n",
    "plt.plot(x, stats.norm.pdf(x, mu, sigma))\n",
    "plt.show()"
   ]
  },
  {
   "cell_type": "markdown",
   "metadata": {},
   "source": [
    "## Histogramme des variables"
   ]
  },
  {
   "cell_type": "code",
   "execution_count": 32,
   "metadata": {},
   "outputs": [
    {
     "data": {
      "image/png": "[encoded data removed]",
      "text/plain": [
       "<Figure size 432x288 with 1 Axes>"
      ]
     },
     "metadata": {
      "needs_background": "light"
     },
     "output_type": "display_data"
    }
   ],
   "source": [
    "# histogram plot\n",
    "fig = pyplot.hist(data_pca['dispo_kcal_total'])\n",
    "pyplot.show()"
   ]
  },
  {
   "cell_type": "code",
   "execution_count": 33,
   "metadata": {},
   "outputs": [
    {
     "data": {
      "image/png": "[encoded data removed]",
      "text/plain": [
       "<Figure size 432x288 with 1 Axes>"
      ]
     },
     "metadata": {
      "needs_background": "light"
     },
     "output_type": "display_data"
    }
   ],
   "source": [
    "pyplot.hist(data_pca['pop_variation'])\n",
    "pyplot.show()"
   ]
  },
  {
   "cell_type": "code",
   "execution_count": 34,
   "metadata": {},
   "outputs": [
    {
     "data": {
      "image/png": "[encoded data removed]",
      "text/plain": [
       "<Figure size 432x288 with 1 Axes>"
      ]
     },
     "metadata": {
      "needs_background": "light"
     },
     "output_type": "display_data"
    }
   ],
   "source": [
    "pyplot.hist(data_pca['dispo_proteines_total'])\n",
    "pyplot.show()"
   ]
  },
  {
   "cell_type": "code",
   "execution_count": 35,
   "metadata": {},
   "outputs": [
    {
     "data": {
      "image/png": "[encoded data removed]",
      "text/plain": [
       "<Figure size 432x288 with 1 Axes>"
      ]
     },
     "metadata": {
      "needs_background": "light"
     },
     "output_type": "display_data"
    }
   ],
   "source": [
    "pyplot.hist(data_pca['dispo_proteines_animale'])\n",
    "pyplot.show()"
   ]
  },
  {
   "cell_type": "markdown",
   "metadata": {},
   "source": [
    "## qq plot"
   ]
  },
  {
   "cell_type": "markdown",
   "metadata": {},
   "source": [
    "diagramme Q-Q (quantile-quantile) est un diagramme  permettant de comparer deux distributions de probabilité en traçant leurs quantiles l'un par rapport à l'autre.\n",
    "Si les deux distributions comparées sont similaires, les points du graphique Q-Q se situeront approximativement sur la ligne y = x."
   ]
  },
  {
   "cell_type": "code",
   "execution_count": 36,
   "metadata": {},
   "outputs": [
    {
     "data": {
      "image/png": "[encoded data removed]",
      "text/plain": [
       "<Figure size 432x288 with 1 Axes>"
      ]
     },
     "metadata": {
      "needs_background": "light"
     },
     "output_type": "display_data"
    },
    {
     "data": {
      "image/png": "[encoded data removed]",
      "text/plain": [
       "<Figure size 432x288 with 1 Axes>"
      ]
     },
     "metadata": {
      "needs_background": "light"
     },
     "output_type": "display_data"
    },
    {
     "data": {
      "image/png": "[encoded data removed]",
      "text/plain": [
       "<Figure size 432x288 with 1 Axes>"
      ]
     },
     "metadata": {
      "needs_background": "light"
     },
     "output_type": "display_data"
    },
    {
     "data": {
      "image/png": "[encoded data removed]",
      "text/plain": [
       "<Figure size 432x288 with 1 Axes>"
      ]
     },
     "metadata": {
      "needs_background": "light"
     },
     "output_type": "display_data"
    }
   ],
   "source": [
    "import statsmodels.api as sm\n",
    "fig = sm.qqplot(data_pca['dispo_kcal_total'], line='s')\n",
    "fig = sm.qqplot(data_pca['pop_variation'], line='s')\n",
    "fig = sm.qqplot(data_pca['dispo_proteines_total'], line='s')\n",
    "fig = sm.qqplot(data_pca['dispo_proteines_animale'], line='s')\n",
    "plt.show()"
   ]
  },
  {
   "cell_type": "markdown",
   "metadata": {},
   "source": [
    "## Test de normalité"
   ]
  },
  {
   "cell_type": "code",
   "execution_count": 37,
   "metadata": {},
   "outputs": [
    {
     "name": "stdout",
     "output_type": "stream",
     "text": [
      "Statistics=0.986, p=0.099\n",
      "L'echantillon semble Gaussien (validation H0)\n"
     ]
    }
   ],
   "source": [
    "# Shapiro-Wilk Test\n",
    "from numpy.random import seed\n",
    "from numpy.random import randn\n",
    "from scipy.stats import shapiro\n",
    "\n",
    "# seed the random number generator\n",
    "seed(1)\n",
    "\n",
    "# normality test\n",
    "stat, p = shapiro(data_pca['dispo_kcal_total'])\n",
    "\n",
    "print('Statistics=%.3f, p=%.3f' % (stat, p))\n",
    "\n",
    "# interpret\n",
    "alpha = 0.05\n",
    "if p > alpha:\n",
    "    print(\"L'echantillon semble Gaussien (validation H0)\")\n",
    "else:\n",
    "    print(\"'L'echantillon n'est pas Gaussien (Reject H0)\")"
   ]
  },
  {
   "cell_type": "code",
   "execution_count": 38,
   "metadata": {},
   "outputs": [
    {
     "name": "stdout",
     "output_type": "stream",
     "text": [
      "Statistics=0.983, p=0.035\n",
      "'L'echantillon n'est pas Gaussien (Reject H0)\n"
     ]
    }
   ],
   "source": [
    "# Shapiro-Wilk Test\n",
    "from numpy.random import seed\n",
    "from numpy.random import randn\n",
    "from scipy.stats import shapiro\n",
    "\n",
    "# seed the random number generator\n",
    "seed(1)\n",
    "\n",
    "# normality test\n",
    "stat, p = shapiro(data_pca['pop_variation'])\n",
    "\n",
    "print('Statistics=%.3f, p=%.3f' % (stat, p))\n",
    "\n",
    "# interpret\n",
    "alpha = 0.05\n",
    "if p > alpha:\n",
    "    print(\"L'echantillon semble Gaussien (validation H0)\")\n",
    "else:\n",
    "    print(\"'L'echantillon n'est pas Gaussien (Reject H0)\")"
   ]
  },
  {
   "cell_type": "code",
   "execution_count": 39,
   "metadata": {},
   "outputs": [
    {
     "name": "stdout",
     "output_type": "stream",
     "text": [
      "Statistics=0.982, p=0.026\n",
      "'L'echantillon n'est pas Gaussien (Reject H0)\n"
     ]
    }
   ],
   "source": [
    "# Shapiro-Wilk Test\n",
    "from numpy.random import seed\n",
    "from numpy.random import randn\n",
    "from scipy.stats import shapiro\n",
    "\n",
    "# seed the random number generator\n",
    "seed(1)\n",
    "\n",
    "# normality test\n",
    "stat, p = shapiro(data_pca['dispo_proteines_total'])\n",
    "\n",
    "print('Statistics=%.3f, p=%.3f' % (stat, p))\n",
    "\n",
    "# interpret\n",
    "alpha = 0.05\n",
    "if p > alpha:\n",
    "    print(\"L'echantillon semble Gaussien (validation H0)\")\n",
    "else:\n",
    "    print(\"'L'echantillon n'est pas Gaussien (Reject H0)\")"
   ]
  },
  {
   "cell_type": "code",
   "execution_count": 40,
   "metadata": {},
   "outputs": [
    {
     "name": "stdout",
     "output_type": "stream",
     "text": [
      "Statistics=0.954, p=0.000\n",
      "'L'echantillon n'est pas Gaussien (Reject H0)\n"
     ]
    }
   ],
   "source": [
    "# Shapiro-Wilk Test\n",
    "from numpy.random import seed\n",
    "from numpy.random import randn\n",
    "from scipy.stats import shapiro\n",
    "\n",
    "# seed the random number generator\n",
    "seed(1)\n",
    "\n",
    "# normality test\n",
    "stat, p = shapiro(data_pca['dispo_proteines_animale'])\n",
    "\n",
    "print('Statistics=%.3f, p=%.3f' % (stat, p))\n",
    "\n",
    "# interpret\n",
    "alpha = 0.05\n",
    "if p > alpha:\n",
    "    print(\"L'echantillon semble Gaussien (validation H0)\")\n",
    "else:\n",
    "    print(\"'L'echantillon n'est pas Gaussien (Reject H0)\")"
   ]
  },
  {
   "cell_type": "markdown",
   "metadata": {},
   "source": [
    "## Analyse\n",
    "\n",
    "Les tests supposent que l'échantillon a été tiré d'une distribution gaussienne. Techniquement, cela s'appelle l'hypothèse nulle, ou H0. On choisit un niveau seuil appelé alpha, généralement 5 % (ou 0,05), qui est utilisé pour interpréter la valeur p.\n",
    "\n",
    "- p <= alpha : rejeter H0, non normal.\n",
    "- p > alpha : ne rejette pas H0, normal.\n",
    "\n",
    "Cela signifie qu'en général, nous cherchons des résultats avec une valeur p plus grande pour confirmer que notre échantillon a probablement été tiré d'une distribution gaussienne.\n",
    "\n",
    "Dans notre cas les resultats des tests montrent que dans la data_pca uniquement dispo_kcal_total suit probablement une loi normale.\n"
   ]
  },
  {
   "cell_type": "markdown",
   "metadata": {},
   "source": [
    "# C - Analyse en composantes principales : ACP"
   ]
  },
  {
   "cell_type": "markdown",
   "metadata": {},
   "source": [
    "#### Technique de réduction de la dimensionnalité qui permet d'identifier des corrélations et des modèles dans un ensemble de données afin de le transformer en un ensemble de données de dimension nettement inférieure sans perte d'informations importantes. Elle permet :\n",
    "\n",
    "- de réduire les dimensions des données en enlevant la redondance des données,\n",
    "\n",
    "- étudier la variabilité des individus (leurs ressemblances et différences) ;\n",
    "\n",
    "- étudier les liaisons entre les variables \n",
    "#### https://www.edureka.co/blog/principal-component-analysis/"
   ]
  },
  {
   "cell_type": "markdown",
   "metadata": {},
   "source": [
    "#### ETAPE 1 : Standardisation des données \n",
    "- Mise à l'échelle des données : centrer et mettre à l'échelle les données. \n",
    "- La valeur moyenne de chaque enregistrement sera égale à 0 et la variance de chaque enregistrement sera égale à 1\n",
    "- Normalisation : pour éviter les biais dans le résultat final."
   ]
  },
  {
   "cell_type": "code",
   "execution_count": 41,
   "metadata": {},
   "outputs": [],
   "source": [
    "#Separate features from target and standardize features\n",
    "\n",
    "from sklearn.preprocessing import StandardScaler\n",
    "\n",
    "features = ['pop_variation', \"dispo_proteines_animale\", \"dispo_kcal_total\", \"dispo_proteines_total\"]\n",
    "\n",
    "# Separating out the features\n",
    "x = data_pca.loc[:, features].values\n",
    "\n",
    "# Standardizing the features\n",
    "x = StandardScaler().fit_transform(x)"
   ]
  },
  {
   "cell_type": "code",
   "execution_count": 42,
   "metadata": {},
   "outputs": [],
   "source": [
    "#feat_cols = ['feature'+str(i) for i in range(x.shape[1])]\n",
    "#Renommer les colonnes\n",
    "feat_cols = ['pop_variation', \"dispo_proteines_animale\", \"dispo_kcal_total\", \"dispo_proteines_total\"]"
   ]
  },
  {
   "cell_type": "code",
   "execution_count": 43,
   "metadata": {},
   "outputs": [
    {
     "data": {
      "text/html": [
       "<div>\n",
       "<style scoped>\n",
       "    .dataframe tbody tr th:only-of-type {\n",
       "        vertical-align: middle;\n",
       "    }\n",
       "\n",
       "    .dataframe tbody tr th {\n",
       "        vertical-align: top;\n",
       "    }\n",
       "\n",
       "    .dataframe thead th {\n",
       "        text-align: right;\n",
       "    }\n",
       "</style>\n",
       "<table border=\"1\" class=\"dataframe\">\n",
       "  <thead>\n",
       "    <tr style=\"text-align: right;\">\n",
       "      <th></th>\n",
       "      <th>pop_variation</th>\n",
       "      <th>dispo_proteines_animale</th>\n",
       "      <th>dispo_kcal_total</th>\n",
       "      <th>dispo_proteines_total</th>\n",
       "    </tr>\n",
       "  </thead>\n",
       "  <tbody>\n",
       "    <tr>\n",
       "      <th>164</th>\n",
       "      <td>0.755370</td>\n",
       "      <td>1.509309</td>\n",
       "      <td>1.311480</td>\n",
       "      <td>1.326042</td>\n",
       "    </tr>\n",
       "    <tr>\n",
       "      <th>165</th>\n",
       "      <td>-1.340278</td>\n",
       "      <td>0.255096</td>\n",
       "      <td>-0.086181</td>\n",
       "      <td>0.139288</td>\n",
       "    </tr>\n",
       "    <tr>\n",
       "      <th>166</th>\n",
       "      <td>-1.077450</td>\n",
       "      <td>1.647514</td>\n",
       "      <td>1.388275</td>\n",
       "      <td>1.613325</td>\n",
       "    </tr>\n",
       "    <tr>\n",
       "      <th>167</th>\n",
       "      <td>0.985093</td>\n",
       "      <td>-0.826361</td>\n",
       "      <td>-0.634714</td>\n",
       "      <td>-0.416713</td>\n",
       "    </tr>\n",
       "    <tr>\n",
       "      <th>168</th>\n",
       "      <td>-0.697462</td>\n",
       "      <td>0.198826</td>\n",
       "      <td>0.736618</td>\n",
       "      <td>0.979152</td>\n",
       "    </tr>\n",
       "  </tbody>\n",
       "</table>\n",
       "</div>"
      ],
      "text/plain": [
       "     pop_variation  dispo_proteines_animale  dispo_kcal_total  \\\n",
       "164       0.755370                 1.509309          1.311480   \n",
       "165      -1.340278                 0.255096         -0.086181   \n",
       "166      -1.077450                 1.647514          1.388275   \n",
       "167       0.985093                -0.826361         -0.634714   \n",
       "168      -0.697462                 0.198826          0.736618   \n",
       "\n",
       "     dispo_proteines_total  \n",
       "164               1.326042  \n",
       "165               0.139288  \n",
       "166               1.613325  \n",
       "167              -0.416713  \n",
       "168               0.979152  "
      ]
     },
     "execution_count": 43,
     "metadata": {},
     "output_type": "execute_result"
    }
   ],
   "source": [
    "normalised_x = pd.DataFrame(x,columns=feat_cols)\n",
    "normalised_x.tail()"
   ]
  },
  {
   "cell_type": "markdown",
   "metadata": {},
   "source": [
    "#### ETAPE 2 : Exécution de l'ACP : création nouvelles composantes"
   ]
  },
  {
   "cell_type": "code",
   "execution_count": 44,
   "metadata": {},
   "outputs": [
    {
     "data": {
      "text/html": [
       "<div>\n",
       "<style scoped>\n",
       "    .dataframe tbody tr th:only-of-type {\n",
       "        vertical-align: middle;\n",
       "    }\n",
       "\n",
       "    .dataframe tbody tr th {\n",
       "        vertical-align: top;\n",
       "    }\n",
       "\n",
       "    .dataframe thead th {\n",
       "        text-align: right;\n",
       "    }\n",
       "</style>\n",
       "<table border=\"1\" class=\"dataframe\">\n",
       "  <thead>\n",
       "    <tr style=\"text-align: right;\">\n",
       "      <th></th>\n",
       "      <th>PC1</th>\n",
       "      <th>PC2</th>\n",
       "      <th>PC3</th>\n",
       "    </tr>\n",
       "  </thead>\n",
       "  <tbody>\n",
       "    <tr>\n",
       "      <th>164</th>\n",
       "      <td>1.890388</td>\n",
       "      <td>1.602759</td>\n",
       "      <td>0.349756</td>\n",
       "    </tr>\n",
       "    <tr>\n",
       "      <th>165</th>\n",
       "      <td>0.702856</td>\n",
       "      <td>-1.170497</td>\n",
       "      <td>0.073748</td>\n",
       "    </tr>\n",
       "    <tr>\n",
       "      <th>166</th>\n",
       "      <td>2.893128</td>\n",
       "      <td>0.068724</td>\n",
       "      <td>0.172272</td>\n",
       "    </tr>\n",
       "    <tr>\n",
       "      <th>167</th>\n",
       "      <td>-1.385646</td>\n",
       "      <td>0.503100</td>\n",
       "      <td>-0.048352</td>\n",
       "    </tr>\n",
       "    <tr>\n",
       "      <th>168</th>\n",
       "      <td>1.294686</td>\n",
       "      <td>-0.102239</td>\n",
       "      <td>-0.399617</td>\n",
       "    </tr>\n",
       "  </tbody>\n",
       "</table>\n",
       "</div>"
      ],
      "text/plain": [
       "          PC1       PC2       PC3\n",
       "164  1.890388  1.602759  0.349756\n",
       "165  0.702856 -1.170497  0.073748\n",
       "166  2.893128  0.068724  0.172272\n",
       "167 -1.385646  0.503100 -0.048352\n",
       "168  1.294686 -0.102239 -0.399617"
      ]
     },
     "execution_count": 44,
     "metadata": {},
     "output_type": "execute_result"
    }
   ],
   "source": [
    "from sklearn.decomposition import PCA\n",
    "pca_alim = PCA(n_components=3)\n",
    "principalComponents_alim = pca_alim.fit_transform(normalised_x)\n",
    "\n",
    "\n",
    "principalDf = pd.DataFrame(data = principalComponents_alim\n",
    "             , columns = ['PC1','PC2', 'PC3'])\n",
    "principalDf.tail()"
   ]
  },
  {
   "cell_type": "markdown",
   "metadata": {},
   "source": [
    "#### Analyse \n",
    "- On choisit n-1 composantes pour analyser le nombre optimal de composantes à prendre en compte dans l'ACP"
   ]
  },
  {
   "cell_type": "code",
   "execution_count": 45,
   "metadata": {},
   "outputs": [
    {
     "data": {
      "text/html": [
       "<div>\n",
       "<style scoped>\n",
       "    .dataframe tbody tr th:only-of-type {\n",
       "        vertical-align: middle;\n",
       "    }\n",
       "\n",
       "    .dataframe tbody tr th {\n",
       "        vertical-align: top;\n",
       "    }\n",
       "\n",
       "    .dataframe thead th {\n",
       "        text-align: right;\n",
       "    }\n",
       "</style>\n",
       "<table border=\"1\" class=\"dataframe\">\n",
       "  <thead>\n",
       "    <tr style=\"text-align: right;\">\n",
       "      <th></th>\n",
       "      <th>PC1</th>\n",
       "      <th>PC2</th>\n",
       "      <th>PC3</th>\n",
       "      <th>pays</th>\n",
       "    </tr>\n",
       "  </thead>\n",
       "  <tbody>\n",
       "    <tr>\n",
       "      <th>0</th>\n",
       "      <td>1.041102</td>\n",
       "      <td>-0.443610</td>\n",
       "      <td>0.028415</td>\n",
       "      <td>Armenia</td>\n",
       "    </tr>\n",
       "    <tr>\n",
       "      <th>1</th>\n",
       "      <td>-2.812248</td>\n",
       "      <td>0.108488</td>\n",
       "      <td>0.420315</td>\n",
       "      <td>Afghanistan</td>\n",
       "    </tr>\n",
       "    <tr>\n",
       "      <th>2</th>\n",
       "      <td>2.598253</td>\n",
       "      <td>-0.165267</td>\n",
       "      <td>0.068781</td>\n",
       "      <td>Albania</td>\n",
       "    </tr>\n",
       "    <tr>\n",
       "      <th>3</th>\n",
       "      <td>0.208272</td>\n",
       "      <td>0.980143</td>\n",
       "      <td>-0.998694</td>\n",
       "      <td>Algeria</td>\n",
       "    </tr>\n",
       "    <tr>\n",
       "      <th>4</th>\n",
       "      <td>-2.589536</td>\n",
       "      <td>0.877704</td>\n",
       "      <td>0.169034</td>\n",
       "      <td>Angola</td>\n",
       "    </tr>\n",
       "  </tbody>\n",
       "</table>\n",
       "</div>"
      ],
      "text/plain": [
       "        PC1       PC2       PC3         pays\n",
       "0  1.041102 -0.443610  0.028415      Armenia\n",
       "1 -2.812248  0.108488  0.420315  Afghanistan\n",
       "2  2.598253 -0.165267  0.068781      Albania\n",
       "3  0.208272  0.980143 -0.998694      Algeria\n",
       "4 -2.589536  0.877704  0.169034       Angola"
      ]
     },
     "execution_count": 45,
     "metadata": {},
     "output_type": "execute_result"
    }
   ],
   "source": [
    "#Ajout de la colonne qualitative\n",
    "finalDf = pd.concat([principalDf, data_pca[['pays']]], axis = 1)\n",
    "finalDf.head()"
   ]
  },
  {
   "cell_type": "markdown",
   "metadata": {},
   "source": [
    "#### ETAPE 3 :  Explication de la variance des composantes avec un Scree plot \n",
    "- permet de visualiser le pourcentage de variation capturé par chacune des composantes principales"
   ]
  },
  {
   "cell_type": "code",
   "execution_count": 46,
   "metadata": {},
   "outputs": [
    {
     "name": "stdout",
     "output_type": "stream",
     "text": [
      "Explained variation per principal component: [0.77732769 0.15201289 0.05501599]\n"
     ]
    }
   ],
   "source": [
    "print('Explained variation per principal component: {}'.format(pca_alim.explained_variance_ratio_))\n",
    "\n",
    "# Les deux premieres composantes expliquent 92% de la vairance de notre echantillon"
   ]
  },
  {
   "cell_type": "code",
   "execution_count": 47,
   "metadata": {},
   "outputs": [
    {
     "data": {
      "image/png": "[encoded data removed]",
      "text/plain": [
       "<Figure size 432x288 with 1 Axes>"
      ]
     },
     "metadata": {
      "needs_background": "light"
     },
     "output_type": "display_data"
    }
   ],
   "source": [
    "#Visulisation de la variance expliquée par chaque composantes\n",
    "#permet de selectionner le nombre optimale de composantes principales\n",
    "\n",
    "percent_variance = np.round(pca_alim.explained_variance_ratio_* 100, decimals =2)\n",
    "columns = ['PC1', 'PC2', 'PC3']\n",
    "plt.bar(x= range(1,4), height=percent_variance, tick_label=columns)\n",
    "plt.ylabel('Percentate of Variance Explained')\n",
    "plt.xlabel('Principal Component')\n",
    "plt.show()"
   ]
  },
  {
   "cell_type": "code",
   "execution_count": 48,
   "metadata": {},
   "outputs": [
    {
     "data": {
      "text/plain": [
       "array([0.77732769, 0.92934057, 0.98435656])"
      ]
     },
     "execution_count": 48,
     "metadata": {},
     "output_type": "execute_result"
    }
   ],
   "source": [
    "#Somme cumulée de la variation des composantes \n",
    "np.cumsum(pca_alim.explained_variance_ratio_)"
   ]
  },
  {
   "cell_type": "code",
   "execution_count": 49,
   "metadata": {},
   "outputs": [
    {
     "data": {
      "image/png": "[encoded data removed]",
      "text/plain": [
       "<Figure size 432x288 with 1 Axes>"
      ]
     },
     "metadata": {
      "needs_background": "light"
     },
     "output_type": "display_data"
    }
   ],
   "source": [
    "#Methode du coude\n",
    "x = [1, 2, 3]\n",
    "y = np.cumsum(pca_alim.explained_variance_ratio_)\n",
    "plt.plot(x,y)\n",
    "plt.xlabel('number of components')\n",
    "plt.ylabel('cumulative explained variance')\n",
    "plt.show()"
   ]
  },
  {
   "cell_type": "markdown",
   "metadata": {},
   "source": [
    "### Analyse \n",
    "- On selectionne 2 composantes qui expliquent 92,9 % de la variance de notre échantillon\n",
    "- La methode du coude permet de selectionner PC1 et PC2\n"
   ]
  },
  {
   "cell_type": "markdown",
   "metadata": {},
   "source": [
    "### ETAPE 4 : Cercle de correlation"
   ]
  },
  {
   "cell_type": "markdown",
   "metadata": {},
   "source": [
    "#### Cercle de correlation \n",
    "- La corrélation entre une variable et une composante principale (PC) est utilisée comme coordonnées de la variable sur la composante principale. \n",
    "- La représentation des variables diffère de celle des observations: les observations sont représentées par leurs projections, mais les variables sont représentées par leurs corrélations (Abdi and Williams 2010)"
   ]
  },
  {
   "cell_type": "code",
   "execution_count": 50,
   "metadata": {},
   "outputs": [
    {
     "data": {
      "image/png": "[encoded data removed]",
      "text/plain": [
       "<Figure size 360x360 with 1 Axes>"
      ]
     },
     "metadata": {
      "needs_background": "light"
     },
     "output_type": "display_data"
    }
   ],
   "source": [
    "# Télécharcher les composantes(loadings)\n",
    "PCs = pca_alim.components_\n",
    "\n",
    "# Utiliser quiver to generate the basic plot\n",
    "fig = plt.figure(figsize=(5,5))\n",
    "plt.quiver(np.zeros(PCs.shape[1]), np.zeros(PCs.shape[1]),\n",
    "           PCs[0,:], PCs[1,:], \n",
    "           angles='xy', scale_units='xy', scale=1)\n",
    "\n",
    "# Add labels based on feature names (here just numbers)\n",
    "feature_names = feat_cols\n",
    "for i,j,z in zip(PCs[1,:]+0.02, PCs[0,:]+0.02, feature_names):\n",
    "    plt.text(j, i, z, ha='center', va='center')\n",
    "\n",
    "# Add unit circle\n",
    "circle = plt.Circle((0,0), 1, facecolor='none', edgecolor='b')\n",
    "plt.gca().add_artist(circle)\n",
    "\n",
    "# Ensure correct aspect ratio and axis limits\n",
    "plt.axis('equal')\n",
    "plt.xlim([-1.0,1.0])\n",
    "plt.ylim([-1.0,1.0])\n",
    "\n",
    "# Label axes\n",
    "plt.xlabel('PC 1')\n",
    "plt.ylabel('PC 2')\n",
    "\n",
    "# Done\n",
    "plt.show()"
   ]
  },
  {
   "cell_type": "markdown",
   "metadata": {},
   "source": [
    "#### Analyse \n",
    "- PC1: est influencé par la disponibilité en proteine animale, la disponibilité en Kcal et disponibilité en proteine totale \n",
    "- PC2 : est influencé par la variation de la population"
   ]
  },
  {
   "cell_type": "markdown",
   "metadata": {},
   "source": [
    "#### Le graphique ci-dessus est également connu sous le nom de graphique de corrélation des variables. Il montre les relations entre toutes les variables. Il peut être interprété comme suit:\n",
    "\n",
    "- Les variables positivement corrélées sont regroupées.\n",
    "- Les variables négativement corrélées sont positionnées sur les côtés opposés de l’origine du graphique (quadrant opposé).\n",
    "- La distance entre les variables et l’origine mesure la qualité de représentation des variables. "
   ]
  },
  {
   "cell_type": "markdown",
   "metadata": {},
   "source": [
    "# Mission 5 : Visualisez vos  partitions dans le premier plan factoriel obtenu par ACP"
   ]
  },
  {
   "cell_type": "code",
   "execution_count": 51,
   "metadata": {},
   "outputs": [
    {
     "data": {
      "text/plain": [
       "Text(0, 0.5, 'PC2')"
      ]
     },
     "execution_count": 51,
     "metadata": {},
     "output_type": "execute_result"
    },
    {
     "data": {
      "image/png": "[encoded data removed]",
      "text/plain": [
       "<Figure size 432x288 with 1 Axes>"
      ]
     },
     "metadata": {
      "needs_background": "light"
     },
     "output_type": "display_data"
    }
   ],
   "source": [
    "plt.scatter(finalDf.PC1, finalDf.PC2)\n",
    "plt.xlabel('PC1')\n",
    "plt.ylabel('PC2')"
   ]
  },
  {
   "cell_type": "code",
   "execution_count": 52,
   "metadata": {},
   "outputs": [
    {
     "data": {
      "image/png": "[encoded data removed]",
      "text/plain": [
       "<Figure size 1440x1080 with 1 Axes>"
      ]
     },
     "metadata": {
      "needs_background": "light"
     },
     "output_type": "display_data"
    }
   ],
   "source": [
    "x = finalDf['PC1'] \n",
    "y =  finalDf['PC2']\n",
    "n = finalDf['pays']\n",
    "\n",
    "\n",
    "fig, ax = plt.subplots()\n",
    "fig.set_size_inches(20, 15)\n",
    "ax.scatter(x, y)\n",
    "for i, txt in enumerate(n):\n",
    "    ax.annotate(txt, (x[i], y[i]))"
   ]
  },
  {
   "cell_type": "markdown",
   "metadata": {},
   "source": [
    "#### Analyse \n",
    "- Les pays à droite sont des pays ayant des composantes alimentaires élevées\n",
    "- les pays en haut: ont une variation en population élevée "
   ]
  },
  {
   "cell_type": "markdown",
   "metadata": {},
   "source": [
    "## CLUSTURING HIERACHIQUE"
   ]
  },
  {
   "cell_type": "markdown",
   "metadata": {},
   "source": [
    "## D : Construire un dendrogramme contenant l'ensemble des pays étudiés"
   ]
  },
  {
   "cell_type": "code",
   "execution_count": 53,
   "metadata": {},
   "outputs": [],
   "source": [
    "data_cluster = data_model[['pays','dispo_kcal_total','dispo_proteines_total','dispo_proteines_animale','pop_variation']].set_index('pays')"
   ]
  },
  {
   "cell_type": "code",
   "execution_count": 54,
   "metadata": {},
   "outputs": [
    {
     "data": {
      "text/html": [
       "<div>\n",
       "<style scoped>\n",
       "    .dataframe tbody tr th:only-of-type {\n",
       "        vertical-align: middle;\n",
       "    }\n",
       "\n",
       "    .dataframe tbody tr th {\n",
       "        vertical-align: top;\n",
       "    }\n",
       "\n",
       "    .dataframe thead th {\n",
       "        text-align: right;\n",
       "    }\n",
       "</style>\n",
       "<table border=\"1\" class=\"dataframe\">\n",
       "  <thead>\n",
       "    <tr style=\"text-align: right;\">\n",
       "      <th></th>\n",
       "      <th>dispo_kcal_total</th>\n",
       "      <th>dispo_proteines_total</th>\n",
       "      <th>dispo_proteines_animale</th>\n",
       "      <th>pop_variation</th>\n",
       "    </tr>\n",
       "    <tr>\n",
       "      <th>pays</th>\n",
       "      <th></th>\n",
       "      <th></th>\n",
       "      <th></th>\n",
       "      <th></th>\n",
       "    </tr>\n",
       "  </thead>\n",
       "  <tbody>\n",
       "    <tr>\n",
       "      <th>Armenia</th>\n",
       "      <td>2997.0</td>\n",
       "      <td>94.35</td>\n",
       "      <td>45.34</td>\n",
       "      <td>0.013506</td>\n",
       "    </tr>\n",
       "    <tr>\n",
       "      <th>Afghanistan</th>\n",
       "      <td>2040.0</td>\n",
       "      <td>55.52</td>\n",
       "      <td>10.79</td>\n",
       "      <td>0.113906</td>\n",
       "    </tr>\n",
       "    <tr>\n",
       "      <th>Albania</th>\n",
       "      <td>3360.0</td>\n",
       "      <td>115.74</td>\n",
       "      <td>61.75</td>\n",
       "      <td>-0.004684</td>\n",
       "    </tr>\n",
       "    <tr>\n",
       "      <th>Algeria</th>\n",
       "      <td>3322.0</td>\n",
       "      <td>91.83</td>\n",
       "      <td>24.73</td>\n",
       "      <td>0.084902</td>\n",
       "    </tr>\n",
       "    <tr>\n",
       "      <th>Angola</th>\n",
       "      <td>2385.0</td>\n",
       "      <td>53.05</td>\n",
       "      <td>16.31</td>\n",
       "      <td>0.143569</td>\n",
       "    </tr>\n",
       "  </tbody>\n",
       "</table>\n",
       "</div>"
      ],
      "text/plain": [
       "             dispo_kcal_total  dispo_proteines_total  dispo_proteines_animale  \\\n",
       "pays                                                                            \n",
       "Armenia                2997.0                  94.35                    45.34   \n",
       "Afghanistan            2040.0                  55.52                    10.79   \n",
       "Albania                3360.0                 115.74                    61.75   \n",
       "Algeria                3322.0                  91.83                    24.73   \n",
       "Angola                 2385.0                  53.05                    16.31   \n",
       "\n",
       "             pop_variation  \n",
       "pays                        \n",
       "Armenia           0.013506  \n",
       "Afghanistan       0.113906  \n",
       "Albania          -0.004684  \n",
       "Algeria           0.084902  \n",
       "Angola            0.143569  "
      ]
     },
     "execution_count": 54,
     "metadata": {},
     "output_type": "execute_result"
    }
   ],
   "source": [
    "data_cluster.head()"
   ]
  },
  {
   "cell_type": "code",
   "execution_count": 55,
   "metadata": {},
   "outputs": [
    {
     "data": {
      "text/html": [
       "<div>\n",
       "<style scoped>\n",
       "    .dataframe tbody tr th:only-of-type {\n",
       "        vertical-align: middle;\n",
       "    }\n",
       "\n",
       "    .dataframe tbody tr th {\n",
       "        vertical-align: top;\n",
       "    }\n",
       "\n",
       "    .dataframe thead th {\n",
       "        text-align: right;\n",
       "    }\n",
       "</style>\n",
       "<table border=\"1\" class=\"dataframe\">\n",
       "  <thead>\n",
       "    <tr style=\"text-align: right;\">\n",
       "      <th></th>\n",
       "      <th>pays</th>\n",
       "      <th>dispo_kcal_total</th>\n",
       "      <th>dispo_proteines_total</th>\n",
       "      <th>dispo_proteines_animale</th>\n",
       "      <th>pop_variation</th>\n",
       "    </tr>\n",
       "  </thead>\n",
       "  <tbody>\n",
       "    <tr>\n",
       "      <th>43</th>\n",
       "      <td>France</td>\n",
       "      <td>3502.0</td>\n",
       "      <td>108.25</td>\n",
       "      <td>64.45</td>\n",
       "      <td>0.012415</td>\n",
       "    </tr>\n",
       "    <tr>\n",
       "      <th>73</th>\n",
       "      <td>Japan</td>\n",
       "      <td>2705.0</td>\n",
       "      <td>87.36</td>\n",
       "      <td>48.60</td>\n",
       "      <td>-0.007540</td>\n",
       "    </tr>\n",
       "    <tr>\n",
       "      <th>108</th>\n",
       "      <td>Niger</td>\n",
       "      <td>2601.0</td>\n",
       "      <td>82.60</td>\n",
       "      <td>11.67</td>\n",
       "      <td>0.166456</td>\n",
       "    </tr>\n",
       "    <tr>\n",
       "      <th>146</th>\n",
       "      <td>Oman</td>\n",
       "      <td>2940.0</td>\n",
       "      <td>85.36</td>\n",
       "      <td>42.07</td>\n",
       "      <td>0.199196</td>\n",
       "    </tr>\n",
       "  </tbody>\n",
       "</table>\n",
       "</div>"
      ],
      "text/plain": [
       "       pays  dispo_kcal_total  dispo_proteines_total  dispo_proteines_animale  \\\n",
       "43   France            3502.0                 108.25                    64.45   \n",
       "73    Japan            2705.0                  87.36                    48.60   \n",
       "108   Niger            2601.0                  82.60                    11.67   \n",
       "146    Oman            2940.0                  85.36                    42.07   \n",
       "\n",
       "     pop_variation  \n",
       "43        0.012415  \n",
       "73       -0.007540  \n",
       "108       0.166456  \n",
       "146       0.199196  "
      ]
     },
     "execution_count": 55,
     "metadata": {},
     "output_type": "execute_result"
    }
   ],
   "source": [
    "#Vérifier la variation de la population \n",
    "test = data_cluster.reset_index()\n",
    "test[test['pays'].isin(['Oman', 'Niger', 'France', 'Japan'])].head()"
   ]
  },
  {
   "cell_type": "code",
   "execution_count": 56,
   "metadata": {},
   "outputs": [
    {
     "data": {
      "image/png": "[encoded data removed]",
      "text/plain": [
       "<Figure size 1440x864 with 1 Axes>"
      ]
     },
     "metadata": {
      "needs_background": "light"
     },
     "output_type": "display_data"
    }
   ],
   "source": [
    "import pandas as pd\n",
    "import matplotlib.pyplot as plt\n",
    "from scipy.cluster.hierarchy import linkage, fcluster\n",
    "from sklearn import preprocessing\n",
    "from scipy.cluster.hierarchy import dendrogram\n",
    "\n",
    "# import de l'échantillon \n",
    "data = data_cluster\n",
    "\n",
    "# préparation des données pour le clustering\n",
    "X = data.values\n",
    "names = data_cluster.index\n",
    "\n",
    "# Centrage et Réduction\n",
    "std_scale = preprocessing.StandardScaler().fit(X)\n",
    "X_scaled = std_scale.transform(X)\n",
    "\n",
    "# Clustering hiérarchique\n",
    "Z = linkage(X_scaled, method='ward', metric='euclidean')\n",
    "\n",
    "# Affichage du dendrogramme\n",
    "plt.figure(figsize=(20,12))\n",
    "dendrogram(Z, labels=names, leaf_rotation = 90)\n",
    "\n",
    "# Coupage du dendrogramme en 5 clusters\n",
    "clusters = fcluster(Z, 5, criterion='maxclust')\n",
    "plt.axhline(y=6 ,color='black', linestyle='dashed')\n",
    "plt.title=('Premier dendrogram 5 clusters avec 4 variables choisi au début')"
   ]
  },
  {
   "cell_type": "code",
   "execution_count": 57,
   "metadata": {},
   "outputs": [
    {
     "data": {
      "text/plain": [
       "<function matplotlib.pyplot.show(close=None, block=None)>"
      ]
     },
     "execution_count": 57,
     "metadata": {},
     "output_type": "execute_result"
    },
    {
     "data": {
      "image/png": "[encoded data removed]",
      "text/plain": [
       "<Figure size 432x288 with 1 Axes>"
      ]
     },
     "metadata": {
      "needs_background": "light"
     },
     "output_type": "display_data"
    }
   ],
   "source": [
    "#Calcule nombre de pays dans chaque cluster\n",
    "dendrogram(Z, truncate_mode='lastp', p=5)\n",
    "plt.show"
   ]
  },
  {
   "cell_type": "code",
   "execution_count": 58,
   "metadata": {},
   "outputs": [
    {
     "data": {
      "text/html": [
       "<div>\n",
       "<style scoped>\n",
       "    .dataframe tbody tr th:only-of-type {\n",
       "        vertical-align: middle;\n",
       "    }\n",
       "\n",
       "    .dataframe tbody tr th {\n",
       "        vertical-align: top;\n",
       "    }\n",
       "\n",
       "    .dataframe thead th {\n",
       "        text-align: right;\n",
       "    }\n",
       "</style>\n",
       "<table border=\"1\" class=\"dataframe\">\n",
       "  <thead>\n",
       "    <tr style=\"text-align: right;\">\n",
       "      <th></th>\n",
       "      <th>dispo_kcal_total</th>\n",
       "      <th>dispo_proteines_total</th>\n",
       "      <th>dispo_proteines_animale</th>\n",
       "      <th>pop_variation</th>\n",
       "      <th>cluster</th>\n",
       "    </tr>\n",
       "    <tr>\n",
       "      <th>pays</th>\n",
       "      <th></th>\n",
       "      <th></th>\n",
       "      <th></th>\n",
       "      <th></th>\n",
       "      <th></th>\n",
       "    </tr>\n",
       "  </thead>\n",
       "  <tbody>\n",
       "    <tr>\n",
       "      <th>Armenia</th>\n",
       "      <td>2997.0</td>\n",
       "      <td>94.35</td>\n",
       "      <td>45.34</td>\n",
       "      <td>0.013506</td>\n",
       "      <td>5</td>\n",
       "    </tr>\n",
       "    <tr>\n",
       "      <th>Afghanistan</th>\n",
       "      <td>2040.0</td>\n",
       "      <td>55.52</td>\n",
       "      <td>10.79</td>\n",
       "      <td>0.113906</td>\n",
       "      <td>2</td>\n",
       "    </tr>\n",
       "    <tr>\n",
       "      <th>Albania</th>\n",
       "      <td>3360.0</td>\n",
       "      <td>115.74</td>\n",
       "      <td>61.75</td>\n",
       "      <td>-0.004684</td>\n",
       "      <td>4</td>\n",
       "    </tr>\n",
       "    <tr>\n",
       "      <th>Algeria</th>\n",
       "      <td>3322.0</td>\n",
       "      <td>91.83</td>\n",
       "      <td>24.73</td>\n",
       "      <td>0.084902</td>\n",
       "      <td>5</td>\n",
       "    </tr>\n",
       "    <tr>\n",
       "      <th>Angola</th>\n",
       "      <td>2385.0</td>\n",
       "      <td>53.05</td>\n",
       "      <td>16.31</td>\n",
       "      <td>0.143569</td>\n",
       "      <td>2</td>\n",
       "    </tr>\n",
       "  </tbody>\n",
       "</table>\n",
       "</div>"
      ],
      "text/plain": [
       "             dispo_kcal_total  dispo_proteines_total  dispo_proteines_animale  \\\n",
       "pays                                                                            \n",
       "Armenia                2997.0                  94.35                    45.34   \n",
       "Afghanistan            2040.0                  55.52                    10.79   \n",
       "Albania                3360.0                 115.74                    61.75   \n",
       "Algeria                3322.0                  91.83                    24.73   \n",
       "Angola                 2385.0                  53.05                    16.31   \n",
       "\n",
       "             pop_variation  cluster  \n",
       "pays                                 \n",
       "Armenia           0.013506        5  \n",
       "Afghanistan       0.113906        2  \n",
       "Albania          -0.004684        4  \n",
       "Algeria           0.084902        5  \n",
       "Angola            0.143569        2  "
      ]
     },
     "execution_count": 58,
     "metadata": {},
     "output_type": "execute_result"
    }
   ],
   "source": [
    "#Ajout colonne cluster \n",
    "data_cluster['cluster']=clusters\n",
    "data_cluster.head()"
   ]
  },
  {
   "cell_type": "code",
   "execution_count": 59,
   "metadata": {},
   "outputs": [],
   "source": [
    "# Export data cluster pour la presentation du projet\n",
    "data_export=data_cluster.reset_index()\n",
    "data_export[['pays', 'cluster']].to_csv(\"./Data/data_cluster.csv\")"
   ]
  },
  {
   "cell_type": "markdown",
   "metadata": {},
   "source": [
    "## E - Analyse statistique des cluster\n",
    "\n",
    "Dans la partie ci-dessous nous allons analyser les populations de nos clusters en performant des test statistiques.\n",
    "Cela permettra d'indiquer si les differences de moyennes entre les clusters sont significativements differentes."
   ]
  },
  {
   "cell_type": "markdown",
   "metadata": {},
   "source": [
    "## Analyse Descriptives"
   ]
  },
  {
   "cell_type": "code",
   "execution_count": 60,
   "metadata": {},
   "outputs": [
    {
     "name": "stdout",
     "output_type": "stream",
     "text": [
      "(33, 6)\n"
     ]
    },
    {
     "data": {
      "text/html": [
       "<div>\n",
       "<style scoped>\n",
       "    .dataframe tbody tr th:only-of-type {\n",
       "        vertical-align: middle;\n",
       "    }\n",
       "\n",
       "    .dataframe tbody tr th {\n",
       "        vertical-align: top;\n",
       "    }\n",
       "\n",
       "    .dataframe thead th {\n",
       "        text-align: right;\n",
       "    }\n",
       "</style>\n",
       "<table border=\"1\" class=\"dataframe\">\n",
       "  <thead>\n",
       "    <tr style=\"text-align: right;\">\n",
       "      <th></th>\n",
       "      <th>pays</th>\n",
       "      <th>dispo_kcal_total</th>\n",
       "      <th>dispo_proteines_total</th>\n",
       "      <th>dispo_proteines_animale</th>\n",
       "      <th>pop_variation</th>\n",
       "      <th>cluster</th>\n",
       "    </tr>\n",
       "  </thead>\n",
       "  <tbody>\n",
       "    <tr>\n",
       "      <th>54</th>\n",
       "      <td>Grenada</td>\n",
       "      <td>2402.0</td>\n",
       "      <td>71.32</td>\n",
       "      <td>40.41</td>\n",
       "      <td>0.023434</td>\n",
       "      <td>1</td>\n",
       "    </tr>\n",
       "    <tr>\n",
       "      <th>12</th>\n",
       "      <td>Bolivia (Plurinational State of)</td>\n",
       "      <td>2412.0</td>\n",
       "      <td>73.24</td>\n",
       "      <td>35.46</td>\n",
       "      <td>0.060395</td>\n",
       "      <td>1</td>\n",
       "    </tr>\n",
       "    <tr>\n",
       "      <th>35</th>\n",
       "      <td>Dominican Republic</td>\n",
       "      <td>2892.0</td>\n",
       "      <td>66.31</td>\n",
       "      <td>33.48</td>\n",
       "      <td>0.045445</td>\n",
       "      <td>1</td>\n",
       "    </tr>\n",
       "    <tr>\n",
       "      <th>37</th>\n",
       "      <td>Ecuador</td>\n",
       "      <td>2606.0</td>\n",
       "      <td>65.96</td>\n",
       "      <td>30.73</td>\n",
       "      <td>0.070996</td>\n",
       "      <td>1</td>\n",
       "    </tr>\n",
       "    <tr>\n",
       "      <th>99</th>\n",
       "      <td>Republic of Moldova</td>\n",
       "      <td>2383.0</td>\n",
       "      <td>61.64</td>\n",
       "      <td>30.27</td>\n",
       "      <td>-0.005269</td>\n",
       "      <td>1</td>\n",
       "    </tr>\n",
       "    <tr>\n",
       "      <th>41</th>\n",
       "      <td>Fiji</td>\n",
       "      <td>2781.0</td>\n",
       "      <td>71.14</td>\n",
       "      <td>28.43</td>\n",
       "      <td>0.019655</td>\n",
       "      <td>1</td>\n",
       "    </tr>\n",
       "    <tr>\n",
       "      <th>114</th>\n",
       "      <td>Paraguay</td>\n",
       "      <td>2768.0</td>\n",
       "      <td>69.40</td>\n",
       "      <td>28.08</td>\n",
       "      <td>0.054025</td>\n",
       "      <td>1</td>\n",
       "    </tr>\n",
       "    <tr>\n",
       "      <th>13</th>\n",
       "      <td>Botswana</td>\n",
       "      <td>2342.0</td>\n",
       "      <td>65.89</td>\n",
       "      <td>28.02</td>\n",
       "      <td>0.079215</td>\n",
       "      <td>1</td>\n",
       "    </tr>\n",
       "    <tr>\n",
       "      <th>143</th>\n",
       "      <td>Thailand</td>\n",
       "      <td>2804.0</td>\n",
       "      <td>63.36</td>\n",
       "      <td>27.06</td>\n",
       "      <td>0.014461</td>\n",
       "      <td>1</td>\n",
       "    </tr>\n",
       "    <tr>\n",
       "      <th>39</th>\n",
       "      <td>El Salvador</td>\n",
       "      <td>2696.0</td>\n",
       "      <td>77.03</td>\n",
       "      <td>26.91</td>\n",
       "      <td>0.019955</td>\n",
       "      <td>1</td>\n",
       "    </tr>\n",
       "  </tbody>\n",
       "</table>\n",
       "</div>"
      ],
      "text/plain": [
       "                                 pays  dispo_kcal_total  \\\n",
       "54                            Grenada            2402.0   \n",
       "12   Bolivia (Plurinational State of)            2412.0   \n",
       "35                 Dominican Republic            2892.0   \n",
       "37                            Ecuador            2606.0   \n",
       "99                Republic of Moldova            2383.0   \n",
       "41                               Fiji            2781.0   \n",
       "114                          Paraguay            2768.0   \n",
       "13                           Botswana            2342.0   \n",
       "143                          Thailand            2804.0   \n",
       "39                        El Salvador            2696.0   \n",
       "\n",
       "     dispo_proteines_total  dispo_proteines_animale  pop_variation  cluster  \n",
       "54                   71.32                    40.41       0.023434        1  \n",
       "12                   73.24                    35.46       0.060395        1  \n",
       "35                   66.31                    33.48       0.045445        1  \n",
       "37                   65.96                    30.73       0.070996        1  \n",
       "99                   61.64                    30.27      -0.005269        1  \n",
       "41                   71.14                    28.43       0.019655        1  \n",
       "114                  69.40                    28.08       0.054025        1  \n",
       "13                   65.89                    28.02       0.079215        1  \n",
       "143                  63.36                    27.06       0.014461        1  \n",
       "39                   77.03                    26.91       0.019955        1  "
      ]
     },
     "execution_count": 60,
     "metadata": {},
     "output_type": "execute_result"
    }
   ],
   "source": [
    "#ANALYSE GROUPE 1\n",
    "data_cluster_analysis = data_cluster.reset_index()\n",
    "cluster1 = data_cluster_analysis[data_cluster_analysis['cluster'].isin([1])]\n",
    "print(cluster1.shape)\n",
    "groupe1 = cluster1.sort_values(by = 'dispo_proteines_animale', ascending=False)\n",
    "groupe1.head(10)"
   ]
  },
  {
   "cell_type": "code",
   "execution_count": 61,
   "metadata": {},
   "outputs": [
    {
     "name": "stdout",
     "output_type": "stream",
     "text": [
      "(26, 6)\n"
     ]
    },
    {
     "data": {
      "text/html": [
       "<div>\n",
       "<style scoped>\n",
       "    .dataframe tbody tr th:only-of-type {\n",
       "        vertical-align: middle;\n",
       "    }\n",
       "\n",
       "    .dataframe tbody tr th {\n",
       "        vertical-align: top;\n",
       "    }\n",
       "\n",
       "    .dataframe thead th {\n",
       "        text-align: right;\n",
       "    }\n",
       "</style>\n",
       "<table border=\"1\" class=\"dataframe\">\n",
       "  <thead>\n",
       "    <tr style=\"text-align: right;\">\n",
       "      <th></th>\n",
       "      <th>pays</th>\n",
       "      <th>dispo_kcal_total</th>\n",
       "      <th>dispo_proteines_total</th>\n",
       "      <th>dispo_proteines_animale</th>\n",
       "      <th>pop_variation</th>\n",
       "      <th>cluster</th>\n",
       "    </tr>\n",
       "  </thead>\n",
       "  <tbody>\n",
       "    <tr>\n",
       "      <th>27</th>\n",
       "      <td>Congo</td>\n",
       "      <td>2285.0</td>\n",
       "      <td>58.16</td>\n",
       "      <td>26.39</td>\n",
       "      <td>0.107111</td>\n",
       "      <td>2</td>\n",
       "    </tr>\n",
       "    <tr>\n",
       "      <th>120</th>\n",
       "      <td>Timor-Leste</td>\n",
       "      <td>2287.0</td>\n",
       "      <td>58.02</td>\n",
       "      <td>17.04</td>\n",
       "      <td>0.079742</td>\n",
       "      <td>2</td>\n",
       "    </tr>\n",
       "    <tr>\n",
       "      <th>48</th>\n",
       "      <td>Gambia</td>\n",
       "      <td>2533.0</td>\n",
       "      <td>65.81</td>\n",
       "      <td>16.78</td>\n",
       "      <td>0.126505</td>\n",
       "      <td>2</td>\n",
       "    </tr>\n",
       "    <tr>\n",
       "      <th>128</th>\n",
       "      <td>Sao Tome and Principe</td>\n",
       "      <td>2446.0</td>\n",
       "      <td>54.53</td>\n",
       "      <td>16.58</td>\n",
       "      <td>0.078175</td>\n",
       "      <td>2</td>\n",
       "    </tr>\n",
       "    <tr>\n",
       "      <th>4</th>\n",
       "      <td>Angola</td>\n",
       "      <td>2385.0</td>\n",
       "      <td>53.05</td>\n",
       "      <td>16.31</td>\n",
       "      <td>0.143569</td>\n",
       "      <td>2</td>\n",
       "    </tr>\n",
       "    <tr>\n",
       "      <th>16</th>\n",
       "      <td>Solomon Islands</td>\n",
       "      <td>2415.0</td>\n",
       "      <td>53.14</td>\n",
       "      <td>15.37</td>\n",
       "      <td>0.112043</td>\n",
       "      <td>2</td>\n",
       "    </tr>\n",
       "    <tr>\n",
       "      <th>76</th>\n",
       "      <td>Kenya</td>\n",
       "      <td>2197.0</td>\n",
       "      <td>61.75</td>\n",
       "      <td>14.92</td>\n",
       "      <td>0.100482</td>\n",
       "      <td>2</td>\n",
       "    </tr>\n",
       "    <tr>\n",
       "      <th>66</th>\n",
       "      <td>Iraq</td>\n",
       "      <td>2608.0</td>\n",
       "      <td>65.53</td>\n",
       "      <td>14.57</td>\n",
       "      <td>0.116868</td>\n",
       "      <td>2</td>\n",
       "    </tr>\n",
       "    <tr>\n",
       "      <th>162</th>\n",
       "      <td>Zambia</td>\n",
       "      <td>2002.0</td>\n",
       "      <td>60.53</td>\n",
       "      <td>13.70</td>\n",
       "      <td>0.126750</td>\n",
       "      <td>2</td>\n",
       "    </tr>\n",
       "    <tr>\n",
       "      <th>130</th>\n",
       "      <td>Senegal</td>\n",
       "      <td>2545.0</td>\n",
       "      <td>62.36</td>\n",
       "      <td>13.69</td>\n",
       "      <td>0.118491</td>\n",
       "      <td>2</td>\n",
       "    </tr>\n",
       "  </tbody>\n",
       "</table>\n",
       "</div>"
      ],
      "text/plain": [
       "                      pays  dispo_kcal_total  dispo_proteines_total  \\\n",
       "27                   Congo            2285.0                  58.16   \n",
       "120            Timor-Leste            2287.0                  58.02   \n",
       "48                  Gambia            2533.0                  65.81   \n",
       "128  Sao Tome and Principe            2446.0                  54.53   \n",
       "4                   Angola            2385.0                  53.05   \n",
       "16         Solomon Islands            2415.0                  53.14   \n",
       "76                   Kenya            2197.0                  61.75   \n",
       "66                    Iraq            2608.0                  65.53   \n",
       "162                 Zambia            2002.0                  60.53   \n",
       "130                Senegal            2545.0                  62.36   \n",
       "\n",
       "     dispo_proteines_animale  pop_variation  cluster  \n",
       "27                     26.39       0.107111        2  \n",
       "120                    17.04       0.079742        2  \n",
       "48                     16.78       0.126505        2  \n",
       "128                    16.58       0.078175        2  \n",
       "4                      16.31       0.143569        2  \n",
       "16                     15.37       0.112043        2  \n",
       "76                     14.92       0.100482        2  \n",
       "66                     14.57       0.116868        2  \n",
       "162                    13.70       0.126750        2  \n",
       "130                    13.69       0.118491        2  "
      ]
     },
     "execution_count": 61,
     "metadata": {},
     "output_type": "execute_result"
    }
   ],
   "source": [
    "#ANALYSE GROUPE 2\n",
    "cluster2 = data_cluster_analysis[data_cluster_analysis['cluster'].isin([2])]\n",
    "print(cluster2.shape)\n",
    "groupe2 = cluster2.sort_values(by = 'dispo_proteines_animale', ascending=False)\n",
    "groupe2.head(10)"
   ]
  },
  {
   "cell_type": "code",
   "execution_count": 62,
   "metadata": {},
   "outputs": [
    {
     "name": "stdout",
     "output_type": "stream",
     "text": [
      "(16, 6)\n"
     ]
    },
    {
     "data": {
      "text/html": [
       "<div>\n",
       "<style scoped>\n",
       "    .dataframe tbody tr th:only-of-type {\n",
       "        vertical-align: middle;\n",
       "    }\n",
       "\n",
       "    .dataframe tbody tr th {\n",
       "        vertical-align: top;\n",
       "    }\n",
       "\n",
       "    .dataframe thead th {\n",
       "        text-align: right;\n",
       "    }\n",
       "</style>\n",
       "<table border=\"1\" class=\"dataframe\">\n",
       "  <thead>\n",
       "    <tr style=\"text-align: right;\">\n",
       "      <th></th>\n",
       "      <th>pays</th>\n",
       "      <th>dispo_kcal_total</th>\n",
       "      <th>dispo_proteines_total</th>\n",
       "      <th>dispo_proteines_animale</th>\n",
       "      <th>pop_variation</th>\n",
       "      <th>cluster</th>\n",
       "    </tr>\n",
       "  </thead>\n",
       "  <tbody>\n",
       "    <tr>\n",
       "      <th>90</th>\n",
       "      <td>Maldives</td>\n",
       "      <td>2235.0</td>\n",
       "      <td>81.29</td>\n",
       "      <td>49.09</td>\n",
       "      <td>0.185467</td>\n",
       "      <td>3</td>\n",
       "    </tr>\n",
       "    <tr>\n",
       "      <th>146</th>\n",
       "      <td>Oman</td>\n",
       "      <td>2940.0</td>\n",
       "      <td>85.36</td>\n",
       "      <td>42.07</td>\n",
       "      <td>0.199196</td>\n",
       "      <td>3</td>\n",
       "    </tr>\n",
       "    <tr>\n",
       "      <th>47</th>\n",
       "      <td>Gabon</td>\n",
       "      <td>2633.0</td>\n",
       "      <td>79.18</td>\n",
       "      <td>37.38</td>\n",
       "      <td>0.125000</td>\n",
       "      <td>3</td>\n",
       "    </tr>\n",
       "    <tr>\n",
       "      <th>93</th>\n",
       "      <td>Mauritania</td>\n",
       "      <td>2877.0</td>\n",
       "      <td>82.12</td>\n",
       "      <td>29.66</td>\n",
       "      <td>0.120180</td>\n",
       "      <td>3</td>\n",
       "    </tr>\n",
       "    <tr>\n",
       "      <th>105</th>\n",
       "      <td>Vanuatu</td>\n",
       "      <td>2607.0</td>\n",
       "      <td>63.95</td>\n",
       "      <td>27.31</td>\n",
       "      <td>0.109107</td>\n",
       "      <td>3</td>\n",
       "    </tr>\n",
       "    <tr>\n",
       "      <th>74</th>\n",
       "      <td>Jordan</td>\n",
       "      <td>2732.0</td>\n",
       "      <td>69.21</td>\n",
       "      <td>23.22</td>\n",
       "      <td>0.117335</td>\n",
       "      <td>3</td>\n",
       "    </tr>\n",
       "    <tr>\n",
       "      <th>83</th>\n",
       "      <td>Lebanon</td>\n",
       "      <td>2857.0</td>\n",
       "      <td>69.15</td>\n",
       "      <td>22.47</td>\n",
       "      <td>0.095569</td>\n",
       "      <td>3</td>\n",
       "    </tr>\n",
       "    <tr>\n",
       "      <th>91</th>\n",
       "      <td>Mali</td>\n",
       "      <td>2873.0</td>\n",
       "      <td>83.59</td>\n",
       "      <td>22.47</td>\n",
       "      <td>0.126580</td>\n",
       "      <td>3</td>\n",
       "    </tr>\n",
       "    <tr>\n",
       "      <th>167</th>\n",
       "      <td>Sudan</td>\n",
       "      <td>2578.0</td>\n",
       "      <td>72.98</td>\n",
       "      <td>20.15</td>\n",
       "      <td>0.100688</td>\n",
       "      <td>3</td>\n",
       "    </tr>\n",
       "    <tr>\n",
       "      <th>51</th>\n",
       "      <td>Ghana</td>\n",
       "      <td>3035.0</td>\n",
       "      <td>61.60</td>\n",
       "      <td>15.37</td>\n",
       "      <td>0.093395</td>\n",
       "      <td>3</td>\n",
       "    </tr>\n",
       "  </tbody>\n",
       "</table>\n",
       "</div>"
      ],
      "text/plain": [
       "           pays  dispo_kcal_total  dispo_proteines_total  \\\n",
       "90     Maldives            2235.0                  81.29   \n",
       "146        Oman            2940.0                  85.36   \n",
       "47        Gabon            2633.0                  79.18   \n",
       "93   Mauritania            2877.0                  82.12   \n",
       "105     Vanuatu            2607.0                  63.95   \n",
       "74       Jordan            2732.0                  69.21   \n",
       "83      Lebanon            2857.0                  69.15   \n",
       "91         Mali            2873.0                  83.59   \n",
       "167       Sudan            2578.0                  72.98   \n",
       "51        Ghana            3035.0                  61.60   \n",
       "\n",
       "     dispo_proteines_animale  pop_variation  cluster  \n",
       "90                     49.09       0.185467        3  \n",
       "146                    42.07       0.199196        3  \n",
       "47                     37.38       0.125000        3  \n",
       "93                     29.66       0.120180        3  \n",
       "105                    27.31       0.109107        3  \n",
       "74                     23.22       0.117335        3  \n",
       "83                     22.47       0.095569        3  \n",
       "91                     22.47       0.126580        3  \n",
       "167                    20.15       0.100688        3  \n",
       "51                     15.37       0.093395        3  "
      ]
     },
     "execution_count": 62,
     "metadata": {},
     "output_type": "execute_result"
    }
   ],
   "source": [
    "#ANALYSE GROUPE 3\n",
    "cluster3 = data_cluster_analysis[data_cluster_analysis['cluster'].isin([3])]\n",
    "print(cluster3.shape)\n",
    "groupe3 = cluster3.sort_values(by = 'dispo_proteines_animale', ascending=False)\n",
    "groupe3.head(10)"
   ]
  },
  {
   "cell_type": "code",
   "execution_count": 63,
   "metadata": {},
   "outputs": [
    {
     "name": "stdout",
     "output_type": "stream",
     "text": [
      "(34, 6)\n"
     ]
    },
    {
     "data": {
      "text/html": [
       "<div>\n",
       "<style scoped>\n",
       "    .dataframe tbody tr th:only-of-type {\n",
       "        vertical-align: middle;\n",
       "    }\n",
       "\n",
       "    .dataframe tbody tr th {\n",
       "        vertical-align: top;\n",
       "    }\n",
       "\n",
       "    .dataframe thead th {\n",
       "        text-align: right;\n",
       "    }\n",
       "</style>\n",
       "<table border=\"1\" class=\"dataframe\">\n",
       "  <thead>\n",
       "    <tr style=\"text-align: right;\">\n",
       "      <th></th>\n",
       "      <th>pays</th>\n",
       "      <th>dispo_kcal_total</th>\n",
       "      <th>dispo_proteines_total</th>\n",
       "      <th>dispo_proteines_animale</th>\n",
       "      <th>pop_variation</th>\n",
       "      <th>cluster</th>\n",
       "    </tr>\n",
       "  </thead>\n",
       "  <tbody>\n",
       "    <tr>\n",
       "      <th>62</th>\n",
       "      <td>Iceland</td>\n",
       "      <td>3654.0</td>\n",
       "      <td>146.13</td>\n",
       "      <td>104.98</td>\n",
       "      <td>0.024708</td>\n",
       "      <td>4</td>\n",
       "    </tr>\n",
       "    <tr>\n",
       "      <th>33</th>\n",
       "      <td>Denmark</td>\n",
       "      <td>3401.0</td>\n",
       "      <td>117.08</td>\n",
       "      <td>79.73</td>\n",
       "      <td>0.015524</td>\n",
       "      <td>4</td>\n",
       "    </tr>\n",
       "    <tr>\n",
       "      <th>86</th>\n",
       "      <td>Lithuania</td>\n",
       "      <td>3411.0</td>\n",
       "      <td>126.65</td>\n",
       "      <td>78.85</td>\n",
       "      <td>-0.057289</td>\n",
       "      <td>4</td>\n",
       "    </tr>\n",
       "    <tr>\n",
       "      <th>42</th>\n",
       "      <td>Finland</td>\n",
       "      <td>3343.0</td>\n",
       "      <td>117.99</td>\n",
       "      <td>75.43</td>\n",
       "      <td>0.011199</td>\n",
       "      <td>4</td>\n",
       "    </tr>\n",
       "    <tr>\n",
       "      <th>68</th>\n",
       "      <td>Israel</td>\n",
       "      <td>3528.0</td>\n",
       "      <td>126.94</td>\n",
       "      <td>74.69</td>\n",
       "      <td>0.067136</td>\n",
       "      <td>4</td>\n",
       "    </tr>\n",
       "    <tr>\n",
       "      <th>118</th>\n",
       "      <td>Portugal</td>\n",
       "      <td>3480.0</td>\n",
       "      <td>116.95</td>\n",
       "      <td>74.37</td>\n",
       "      <td>-0.015552</td>\n",
       "      <td>4</td>\n",
       "    </tr>\n",
       "    <tr>\n",
       "      <th>153</th>\n",
       "      <td>United States of America</td>\n",
       "      <td>3782.0</td>\n",
       "      <td>113.74</td>\n",
       "      <td>73.48</td>\n",
       "      <td>0.026431</td>\n",
       "      <td>4</td>\n",
       "    </tr>\n",
       "    <tr>\n",
       "      <th>67</th>\n",
       "      <td>Ireland</td>\n",
       "      <td>3885.0</td>\n",
       "      <td>117.58</td>\n",
       "      <td>72.01</td>\n",
       "      <td>0.041464</td>\n",
       "      <td>4</td>\n",
       "    </tr>\n",
       "    <tr>\n",
       "      <th>7</th>\n",
       "      <td>Australia</td>\n",
       "      <td>3391.0</td>\n",
       "      <td>105.94</td>\n",
       "      <td>70.70</td>\n",
       "      <td>0.055166</td>\n",
       "      <td>4</td>\n",
       "    </tr>\n",
       "    <tr>\n",
       "      <th>166</th>\n",
       "      <td>Montenegro</td>\n",
       "      <td>3500.0</td>\n",
       "      <td>114.53</td>\n",
       "      <td>70.27</td>\n",
       "      <td>0.001858</td>\n",
       "      <td>4</td>\n",
       "    </tr>\n",
       "  </tbody>\n",
       "</table>\n",
       "</div>"
      ],
      "text/plain": [
       "                         pays  dispo_kcal_total  dispo_proteines_total  \\\n",
       "62                    Iceland            3654.0                 146.13   \n",
       "33                    Denmark            3401.0                 117.08   \n",
       "86                  Lithuania            3411.0                 126.65   \n",
       "42                    Finland            3343.0                 117.99   \n",
       "68                     Israel            3528.0                 126.94   \n",
       "118                  Portugal            3480.0                 116.95   \n",
       "153  United States of America            3782.0                 113.74   \n",
       "67                    Ireland            3885.0                 117.58   \n",
       "7                   Australia            3391.0                 105.94   \n",
       "166                Montenegro            3500.0                 114.53   \n",
       "\n",
       "     dispo_proteines_animale  pop_variation  cluster  \n",
       "62                    104.98       0.024708        4  \n",
       "33                     79.73       0.015524        4  \n",
       "86                     78.85      -0.057289        4  \n",
       "42                     75.43       0.011199        4  \n",
       "68                     74.69       0.067136        4  \n",
       "118                    74.37      -0.015552        4  \n",
       "153                    73.48       0.026431        4  \n",
       "67                     72.01       0.041464        4  \n",
       "7                      70.70       0.055166        4  \n",
       "166                    70.27       0.001858        4  "
      ]
     },
     "execution_count": 63,
     "metadata": {},
     "output_type": "execute_result"
    }
   ],
   "source": [
    "#ANALYSE GROUPE 4\n",
    "data_cluster_analysis = data_cluster.reset_index()\n",
    "cluster4 = data_cluster_analysis[data_cluster_analysis['cluster'].isin([4])]\n",
    "print(cluster4.shape)\n",
    "groupe4 = cluster4.sort_values(by = 'dispo_proteines_animale', ascending=False)\n",
    "groupe4.head(10)"
   ]
  },
  {
   "cell_type": "code",
   "execution_count": 64,
   "metadata": {},
   "outputs": [
    {
     "name": "stdout",
     "output_type": "stream",
     "text": [
      "(60, 6)\n"
     ]
    },
    {
     "data": {
      "text/html": [
       "<div>\n",
       "<style scoped>\n",
       "    .dataframe tbody tr th:only-of-type {\n",
       "        vertical-align: middle;\n",
       "    }\n",
       "\n",
       "    .dataframe tbody tr th {\n",
       "        vertical-align: top;\n",
       "    }\n",
       "\n",
       "    .dataframe thead th {\n",
       "        text-align: right;\n",
       "    }\n",
       "</style>\n",
       "<table border=\"1\" class=\"dataframe\">\n",
       "  <thead>\n",
       "    <tr style=\"text-align: right;\">\n",
       "      <th></th>\n",
       "      <th>pays</th>\n",
       "      <th>dispo_kcal_total</th>\n",
       "      <th>dispo_proteines_total</th>\n",
       "      <th>dispo_proteines_animale</th>\n",
       "      <th>pop_variation</th>\n",
       "      <th>cluster</th>\n",
       "    </tr>\n",
       "  </thead>\n",
       "  <tbody>\n",
       "    <tr>\n",
       "      <th>44</th>\n",
       "      <td>French Polynesia</td>\n",
       "      <td>2910.0</td>\n",
       "      <td>96.28</td>\n",
       "      <td>63.59</td>\n",
       "      <td>0.021987</td>\n",
       "      <td>5</td>\n",
       "    </tr>\n",
       "    <tr>\n",
       "      <th>140</th>\n",
       "      <td>Switzerland</td>\n",
       "      <td>3354.0</td>\n",
       "      <td>95.47</td>\n",
       "      <td>59.86</td>\n",
       "      <td>0.038948</td>\n",
       "      <td>5</td>\n",
       "    </tr>\n",
       "    <tr>\n",
       "      <th>151</th>\n",
       "      <td>United Kingdom of Great Britain and Northern I...</td>\n",
       "      <td>3344.0</td>\n",
       "      <td>103.92</td>\n",
       "      <td>57.96</td>\n",
       "      <td>0.026270</td>\n",
       "      <td>5</td>\n",
       "    </tr>\n",
       "    <tr>\n",
       "      <th>96</th>\n",
       "      <td>Mongolia</td>\n",
       "      <td>2579.0</td>\n",
       "      <td>87.31</td>\n",
       "      <td>56.85</td>\n",
       "      <td>0.078265</td>\n",
       "      <td>5</td>\n",
       "    </tr>\n",
       "    <tr>\n",
       "      <th>71</th>\n",
       "      <td>Kazakhstan</td>\n",
       "      <td>3067.0</td>\n",
       "      <td>91.49</td>\n",
       "      <td>54.70</td>\n",
       "      <td>0.058777</td>\n",
       "      <td>5</td>\n",
       "    </tr>\n",
       "    <tr>\n",
       "      <th>14</th>\n",
       "      <td>Brazil</td>\n",
       "      <td>3301.0</td>\n",
       "      <td>95.68</td>\n",
       "      <td>53.77</td>\n",
       "      <td>0.033071</td>\n",
       "      <td>5</td>\n",
       "    </tr>\n",
       "    <tr>\n",
       "      <th>126</th>\n",
       "      <td>Saint Lucia</td>\n",
       "      <td>2618.0</td>\n",
       "      <td>85.82</td>\n",
       "      <td>53.53</td>\n",
       "      <td>0.020152</td>\n",
       "      <td>5</td>\n",
       "    </tr>\n",
       "    <tr>\n",
       "      <th>113</th>\n",
       "      <td>Czechia</td>\n",
       "      <td>3277.0</td>\n",
       "      <td>86.98</td>\n",
       "      <td>52.83</td>\n",
       "      <td>0.007041</td>\n",
       "      <td>5</td>\n",
       "    </tr>\n",
       "    <tr>\n",
       "      <th>9</th>\n",
       "      <td>Bahamas</td>\n",
       "      <td>2655.0</td>\n",
       "      <td>80.69</td>\n",
       "      <td>52.40</td>\n",
       "      <td>0.040482</td>\n",
       "      <td>5</td>\n",
       "    </tr>\n",
       "    <tr>\n",
       "      <th>36</th>\n",
       "      <td>Belarus</td>\n",
       "      <td>3270.0</td>\n",
       "      <td>91.95</td>\n",
       "      <td>52.20</td>\n",
       "      <td>0.002214</td>\n",
       "      <td>5</td>\n",
       "    </tr>\n",
       "  </tbody>\n",
       "</table>\n",
       "</div>"
      ],
      "text/plain": [
       "                                                  pays  dispo_kcal_total  \\\n",
       "44                                    French Polynesia            2910.0   \n",
       "140                                        Switzerland            3354.0   \n",
       "151  United Kingdom of Great Britain and Northern I...            3344.0   \n",
       "96                                            Mongolia            2579.0   \n",
       "71                                          Kazakhstan            3067.0   \n",
       "14                                              Brazil            3301.0   \n",
       "126                                        Saint Lucia            2618.0   \n",
       "113                                            Czechia            3277.0   \n",
       "9                                              Bahamas            2655.0   \n",
       "36                                             Belarus            3270.0   \n",
       "\n",
       "     dispo_proteines_total  dispo_proteines_animale  pop_variation  cluster  \n",
       "44                   96.28                    63.59       0.021987        5  \n",
       "140                  95.47                    59.86       0.038948        5  \n",
       "151                 103.92                    57.96       0.026270        5  \n",
       "96                   87.31                    56.85       0.078265        5  \n",
       "71                   91.49                    54.70       0.058777        5  \n",
       "14                   95.68                    53.77       0.033071        5  \n",
       "126                  85.82                    53.53       0.020152        5  \n",
       "113                  86.98                    52.83       0.007041        5  \n",
       "9                    80.69                    52.40       0.040482        5  \n",
       "36                   91.95                    52.20       0.002214        5  "
      ]
     },
     "execution_count": 64,
     "metadata": {},
     "output_type": "execute_result"
    }
   ],
   "source": [
    "#ANALYSE GROUPE 5\n",
    "cluster5 = data_cluster_analysis[data_cluster_analysis['cluster'].isin([5])]\n",
    "print(cluster5.shape)\n",
    "groupe5 = cluster5.sort_values(by = 'dispo_proteines_animale', ascending=False)\n",
    "groupe5.head(10)"
   ]
  },
  {
   "cell_type": "markdown",
   "metadata": {},
   "source": [
    "# Mission 3 : Caractérisez chacun de ces groupes selon les variables cités précédemment, et facultativement selon d'autres variables que vous jugerez pertinentes (ex : le PIB par habitant). Vous pouvez le faire en calculant la position des centroïdes de chacun des groupes, puis en les commentant et en les critiquant au vu de vos objectifs."
   ]
  },
  {
   "cell_type": "code",
   "execution_count": 65,
   "metadata": {},
   "outputs": [
    {
     "data": {
      "text/html": [
       "<div>\n",
       "<style scoped>\n",
       "    .dataframe tbody tr th:only-of-type {\n",
       "        vertical-align: middle;\n",
       "    }\n",
       "\n",
       "    .dataframe tbody tr th {\n",
       "        vertical-align: top;\n",
       "    }\n",
       "\n",
       "    .dataframe thead th {\n",
       "        text-align: right;\n",
       "    }\n",
       "</style>\n",
       "<table border=\"1\" class=\"dataframe\">\n",
       "  <thead>\n",
       "    <tr style=\"text-align: right;\">\n",
       "      <th></th>\n",
       "      <th>pop_variation</th>\n",
       "      <th>dispo_proteines_total</th>\n",
       "      <th>dispo_proteines_animale</th>\n",
       "      <th>dispo_kcal_total</th>\n",
       "    </tr>\n",
       "    <tr>\n",
       "      <th>cluster</th>\n",
       "      <th></th>\n",
       "      <th></th>\n",
       "      <th></th>\n",
       "      <th></th>\n",
       "    </tr>\n",
       "  </thead>\n",
       "  <tbody>\n",
       "    <tr>\n",
       "      <th>1</th>\n",
       "      <td>0.045875</td>\n",
       "      <td>64.300606</td>\n",
       "      <td>22.567576</td>\n",
       "      <td>2511.545455</td>\n",
       "    </tr>\n",
       "    <tr>\n",
       "      <th>2</th>\n",
       "      <td>0.113029</td>\n",
       "      <td>56.070000</td>\n",
       "      <td>12.457308</td>\n",
       "      <td>2277.500000</td>\n",
       "    </tr>\n",
       "    <tr>\n",
       "      <th>3</th>\n",
       "      <td>0.125659</td>\n",
       "      <td>72.628750</td>\n",
       "      <td>22.600625</td>\n",
       "      <td>2732.312500</td>\n",
       "    </tr>\n",
       "    <tr>\n",
       "      <th>4</th>\n",
       "      <td>0.014875</td>\n",
       "      <td>110.086471</td>\n",
       "      <td>65.543529</td>\n",
       "      <td>3449.500000</td>\n",
       "    </tr>\n",
       "    <tr>\n",
       "      <th>5</th>\n",
       "      <td>0.034501</td>\n",
       "      <td>88.171667</td>\n",
       "      <td>42.933500</td>\n",
       "      <td>3024.566667</td>\n",
       "    </tr>\n",
       "  </tbody>\n",
       "</table>\n",
       "</div>"
      ],
      "text/plain": [
       "         pop_variation  dispo_proteines_total  dispo_proteines_animale  \\\n",
       "cluster                                                                  \n",
       "1             0.045875              64.300606                22.567576   \n",
       "2             0.113029              56.070000                12.457308   \n",
       "3             0.125659              72.628750                22.600625   \n",
       "4             0.014875             110.086471                65.543529   \n",
       "5             0.034501              88.171667                42.933500   \n",
       "\n",
       "         dispo_kcal_total  \n",
       "cluster                    \n",
       "1             2511.545455  \n",
       "2             2277.500000  \n",
       "3             2732.312500  \n",
       "4             3449.500000  \n",
       "5             3024.566667  "
      ]
     },
     "execution_count": 65,
     "metadata": {},
     "output_type": "execute_result"
    }
   ],
   "source": [
    "# Group by the cluster : permet de caractériser chaque groupe\n",
    "data_cluster_summary = data_cluster.groupby('cluster').agg({'pop_variation':'mean','dispo_proteines_total':'mean', 'dispo_proteines_animale':'mean','dispo_kcal_total':'mean'})\n",
    "data_cluster_summary.head()"
   ]
  },
  {
   "cell_type": "code",
   "execution_count": 66,
   "metadata": {},
   "outputs": [],
   "source": [
    "# Export data cluster pour la presentation du projet\n",
    "data_export_centroides=data_cluster_summary.reset_index()\n",
    "data_export_centroides.to_csv(\"./Data/data_export_centroides.csv\")"
   ]
  },
  {
   "cell_type": "code",
   "execution_count": 67,
   "metadata": {},
   "outputs": [
    {
     "data": {
      "text/plain": [
       "Text(0, 0.5, 'croissance population')"
      ]
     },
     "execution_count": 67,
     "metadata": {},
     "output_type": "execute_result"
    },
    {
     "data": {
      "image/png": "[encoded data removed]",
      "text/plain": [
       "<Figure size 864x576 with 1 Axes>"
      ]
     },
     "metadata": {
      "needs_background": "light"
     },
     "output_type": "display_data"
    }
   ],
   "source": [
    "\n",
    "plt.figure(figsize=(12,8))\n",
    "ax = sns.boxplot(x=\"cluster\", y=\"pop_variation\", data=data_cluster,  palette=\"Set2\",\n",
    "                 order=[1,2,3,4,5]).set_title('Tendance centrale variation population de chaque cluster', size=20)\n",
    "plt.xlabel(\"cluster\", size=12)\n",
    "plt.ylabel(\"croissance population\", size=12)\n",
    "\n"
   ]
  },
  {
   "cell_type": "markdown",
   "metadata": {},
   "source": [
    "#### Commentaire : les pays dans les clusters 2 et 3 ont une croissance en population élevée que les clusters 4 et 5 "
   ]
  },
  {
   "cell_type": "code",
   "execution_count": 68,
   "metadata": {},
   "outputs": [
    {
     "data": {
      "text/plain": [
       "Text(0, 0.5, 'disponibilité alimentaire')"
      ]
     },
     "execution_count": 68,
     "metadata": {},
     "output_type": "execute_result"
    },
    {
     "data": {
      "image/png": "[encoded data removed]",
      "text/plain": [
       "<Figure size 864x576 with 1 Axes>"
      ]
     },
     "metadata": {
      "needs_background": "light"
     },
     "output_type": "display_data"
    }
   ],
   "source": [
    "plt.figure(figsize=(12,8))\n",
    "ax = sns.boxplot(x=\"cluster\", y=\"dispo_kcal_total\", data=data_cluster,  palette=\"Set2\",\n",
    "                 order=[1,2,3,4,5]).set_title('Tendance centrale de la disponibilité alimentaire de chaque cluster', size=20)\n",
    "plt.xlabel(\"cluster\", size=12)\n",
    "plt.ylabel(\"disponibilité alimentaire\", size=12)"
   ]
  },
  {
   "cell_type": "markdown",
   "metadata": {},
   "source": [
    "#### Commentaire : en 2018, les pays dans clusters 4, 5 ont le plus disponibilité totale de kcal, que les pays dans les cluster 1 et 2"
   ]
  },
  {
   "cell_type": "code",
   "execution_count": 69,
   "metadata": {},
   "outputs": [
    {
     "data": {
      "text/plain": [
       "Text(0, 0.5, 'disponibilité des proteines')"
      ]
     },
     "execution_count": 69,
     "metadata": {},
     "output_type": "execute_result"
    },
    {
     "data": {
      "image/png": "[encoded data removed]",
      "text/plain": [
       "<Figure size 864x576 with 1 Axes>"
      ]
     },
     "metadata": {
      "needs_background": "light"
     },
     "output_type": "display_data"
    }
   ],
   "source": [
    "plt.figure(figsize=(12,8))\n",
    "ax = sns.boxplot(x=\"cluster\", y=\"dispo_proteines_total\", data=data_cluster,  palette=\"Set2\",\n",
    "                 order=[1,2,3,4,5]).set_title('Tendance centrale de croissance de la disponibilité des proteines de chaque cluster', size=20)\n",
    "plt.xlabel(\"cluster\", size=12)\n",
    "plt.ylabel(\"disponibilité des proteines\", size=12)"
   ]
  },
  {
   "cell_type": "markdown",
   "metadata": {},
   "source": [
    "#### Commentaire : en 2018, les pays dans clusters 4, 5, ont le plus disponibilité totale de protéines, que les pays dans les cluster 1 et 2"
   ]
  },
  {
   "cell_type": "code",
   "execution_count": 70,
   "metadata": {},
   "outputs": [
    {
     "data": {
      "text/plain": [
       "Text(0, 0.5, 'disponibilité proteine animale')"
      ]
     },
     "execution_count": 70,
     "metadata": {},
     "output_type": "execute_result"
    },
    {
     "data": {
      "image/png": "[encoded data removed]",
      "text/plain": [
       "<Figure size 864x576 with 1 Axes>"
      ]
     },
     "metadata": {
      "needs_background": "light"
     },
     "output_type": "display_data"
    }
   ],
   "source": [
    "plt.figure(figsize=(12,8))\n",
    "ax = sns.boxplot(x=\"cluster\", y=\"dispo_proteines_animale\", data=data_cluster,  palette=\"Set2\",\n",
    "                 order=[1,2,3,4,5]).set_title('Tendance centrale de disponibilité en proteine animale de chaque cluster', size=20)\n",
    "plt.xlabel(\"cluster\", size=12)\n",
    "plt.ylabel(\"disponibilité proteine animale\", size=12)"
   ]
  },
  {
   "cell_type": "markdown",
   "metadata": {},
   "source": [
    "#### Commentaire : en 2018, les pays dans clusters 4, 5, ont le plus disponibilité de protétines animales, que les pays dans les cluster 1 et 2\n",
    "\n",
    "- On peut donc cibler les pays dans les clusters 4 et 5 => forte disponibilité en proteine animale"
   ]
  },
  {
   "cell_type": "markdown",
   "metadata": {},
   "source": [
    "### Analyse variable suivant une loi normal et cluster"
   ]
  },
  {
   "cell_type": "code",
   "execution_count": 71,
   "metadata": {},
   "outputs": [
    {
     "data": {
      "text/plain": [
       "Text(0, 0.5, 'dispo_kcal_total')"
      ]
     },
     "execution_count": 71,
     "metadata": {},
     "output_type": "execute_result"
    },
    {
     "data": {
      "image/png": "[encoded data removed]",
      "text/plain": [
       "<Figure size 864x576 with 1 Axes>"
      ]
     },
     "metadata": {
      "needs_background": "light"
     },
     "output_type": "display_data"
    }
   ],
   "source": [
    "data_viz_cluster = data_cluster[data_cluster['cluster'].isin([4,5])]\n",
    "plt.figure(figsize=(12,8))\n",
    "ax = sns.boxplot(x=\"cluster\",\n",
    "                 y=\"dispo_kcal_total\",\n",
    "                 data=data_viz_cluster,\n",
    "                 palette=\"Set2\").set_title('Box-Plot disponibilité Kcal Total pour cluster 4 et 5', size=20)\n",
    "ax = sns.swarmplot(x=\"cluster\",\n",
    "                   y=\"dispo_kcal_total\",\n",
    "                   data=data_viz_cluster, color=\".25\")\n",
    "plt.xlabel(\"cluster\", size=12)\n",
    "plt.ylabel(\"dispo_kcal_total\", size=12)"
   ]
  },
  {
   "cell_type": "code",
   "execution_count": 72,
   "metadata": {},
   "outputs": [],
   "source": [
    "# Analyse : "
   ]
  },
  {
   "cell_type": "markdown",
   "metadata": {},
   "source": [
    "# Mission 4 : Donnez une courte liste de pays à cibler, en présentant leurs caractéristiques. Un découpage plus précis qu'en 5 groupes peut si besoin être effectué pour cibler un nombre raisonnable de pays. \n"
   ]
  },
  {
   "cell_type": "code",
   "execution_count": 73,
   "metadata": {},
   "outputs": [
    {
     "name": "stdout",
     "output_type": "stream",
     "text": [
      "<class 'pandas.core.frame.DataFrame'>\n",
      "Index: 60 entries, Armenia to China\n",
      "Data columns (total 5 columns):\n",
      " #   Column                   Non-Null Count  Dtype  \n",
      "---  ------                   --------------  -----  \n",
      " 0   dispo_kcal_total         60 non-null     float64\n",
      " 1   dispo_proteines_total    60 non-null     float64\n",
      " 2   dispo_proteines_animale  60 non-null     float64\n",
      " 3   pop_variation            60 non-null     float64\n",
      " 4   cluster                  60 non-null     int32  \n",
      "dtypes: float64(4), int32(1)\n",
      "memory usage: 2.6+ KB\n"
     ]
    }
   ],
   "source": [
    "# Extraire le cluster 5\n",
    "cluster_5=data_cluster[data_cluster['cluster']==5]\n",
    "cluster_5.info()"
   ]
  },
  {
   "cell_type": "code",
   "execution_count": 74,
   "metadata": {},
   "outputs": [
    {
     "data": {
      "text/html": [
       "<div>\n",
       "<style scoped>\n",
       "    .dataframe tbody tr th:only-of-type {\n",
       "        vertical-align: middle;\n",
       "    }\n",
       "\n",
       "    .dataframe tbody tr th {\n",
       "        vertical-align: top;\n",
       "    }\n",
       "\n",
       "    .dataframe thead th {\n",
       "        text-align: right;\n",
       "    }\n",
       "</style>\n",
       "<table border=\"1\" class=\"dataframe\">\n",
       "  <thead>\n",
       "    <tr style=\"text-align: right;\">\n",
       "      <th></th>\n",
       "      <th>dispo_kcal_total</th>\n",
       "      <th>dispo_proteines_total</th>\n",
       "      <th>dispo_proteines_animale</th>\n",
       "      <th>pop_variation</th>\n",
       "      <th>cluster</th>\n",
       "    </tr>\n",
       "    <tr>\n",
       "      <th>pays</th>\n",
       "      <th></th>\n",
       "      <th></th>\n",
       "      <th></th>\n",
       "      <th></th>\n",
       "      <th></th>\n",
       "    </tr>\n",
       "  </thead>\n",
       "  <tbody>\n",
       "    <tr>\n",
       "      <th>French Polynesia</th>\n",
       "      <td>2910.0</td>\n",
       "      <td>96.28</td>\n",
       "      <td>63.59</td>\n",
       "      <td>0.021987</td>\n",
       "      <td>5</td>\n",
       "    </tr>\n",
       "    <tr>\n",
       "      <th>Switzerland</th>\n",
       "      <td>3354.0</td>\n",
       "      <td>95.47</td>\n",
       "      <td>59.86</td>\n",
       "      <td>0.038948</td>\n",
       "      <td>5</td>\n",
       "    </tr>\n",
       "    <tr>\n",
       "      <th>United Kingdom of Great Britain and Northern Ireland</th>\n",
       "      <td>3344.0</td>\n",
       "      <td>103.92</td>\n",
       "      <td>57.96</td>\n",
       "      <td>0.026270</td>\n",
       "      <td>5</td>\n",
       "    </tr>\n",
       "    <tr>\n",
       "      <th>Mongolia</th>\n",
       "      <td>2579.0</td>\n",
       "      <td>87.31</td>\n",
       "      <td>56.85</td>\n",
       "      <td>0.078265</td>\n",
       "      <td>5</td>\n",
       "    </tr>\n",
       "    <tr>\n",
       "      <th>Kazakhstan</th>\n",
       "      <td>3067.0</td>\n",
       "      <td>91.49</td>\n",
       "      <td>54.70</td>\n",
       "      <td>0.058777</td>\n",
       "      <td>5</td>\n",
       "    </tr>\n",
       "    <tr>\n",
       "      <th>Brazil</th>\n",
       "      <td>3301.0</td>\n",
       "      <td>95.68</td>\n",
       "      <td>53.77</td>\n",
       "      <td>0.033071</td>\n",
       "      <td>5</td>\n",
       "    </tr>\n",
       "    <tr>\n",
       "      <th>Saint Lucia</th>\n",
       "      <td>2618.0</td>\n",
       "      <td>85.82</td>\n",
       "      <td>53.53</td>\n",
       "      <td>0.020152</td>\n",
       "      <td>5</td>\n",
       "    </tr>\n",
       "    <tr>\n",
       "      <th>Czechia</th>\n",
       "      <td>3277.0</td>\n",
       "      <td>86.98</td>\n",
       "      <td>52.83</td>\n",
       "      <td>0.007041</td>\n",
       "      <td>5</td>\n",
       "    </tr>\n",
       "    <tr>\n",
       "      <th>Bahamas</th>\n",
       "      <td>2655.0</td>\n",
       "      <td>80.69</td>\n",
       "      <td>52.40</td>\n",
       "      <td>0.040482</td>\n",
       "      <td>5</td>\n",
       "    </tr>\n",
       "    <tr>\n",
       "      <th>Belarus</th>\n",
       "      <td>3270.0</td>\n",
       "      <td>91.95</td>\n",
       "      <td>52.20</td>\n",
       "      <td>0.002214</td>\n",
       "      <td>5</td>\n",
       "    </tr>\n",
       "  </tbody>\n",
       "</table>\n",
       "</div>"
      ],
      "text/plain": [
       "                                                    dispo_kcal_total  \\\n",
       "pays                                                                   \n",
       "French Polynesia                                              2910.0   \n",
       "Switzerland                                                   3354.0   \n",
       "United Kingdom of Great Britain and Northern Ir...            3344.0   \n",
       "Mongolia                                                      2579.0   \n",
       "Kazakhstan                                                    3067.0   \n",
       "Brazil                                                        3301.0   \n",
       "Saint Lucia                                                   2618.0   \n",
       "Czechia                                                       3277.0   \n",
       "Bahamas                                                       2655.0   \n",
       "Belarus                                                       3270.0   \n",
       "\n",
       "                                                    dispo_proteines_total  \\\n",
       "pays                                                                        \n",
       "French Polynesia                                                    96.28   \n",
       "Switzerland                                                         95.47   \n",
       "United Kingdom of Great Britain and Northern Ir...                 103.92   \n",
       "Mongolia                                                            87.31   \n",
       "Kazakhstan                                                          91.49   \n",
       "Brazil                                                              95.68   \n",
       "Saint Lucia                                                         85.82   \n",
       "Czechia                                                             86.98   \n",
       "Bahamas                                                             80.69   \n",
       "Belarus                                                             91.95   \n",
       "\n",
       "                                                    dispo_proteines_animale  \\\n",
       "pays                                                                          \n",
       "French Polynesia                                                      63.59   \n",
       "Switzerland                                                           59.86   \n",
       "United Kingdom of Great Britain and Northern Ir...                    57.96   \n",
       "Mongolia                                                              56.85   \n",
       "Kazakhstan                                                            54.70   \n",
       "Brazil                                                                53.77   \n",
       "Saint Lucia                                                           53.53   \n",
       "Czechia                                                               52.83   \n",
       "Bahamas                                                               52.40   \n",
       "Belarus                                                               52.20   \n",
       "\n",
       "                                                    pop_variation  cluster  \n",
       "pays                                                                        \n",
       "French Polynesia                                         0.021987        5  \n",
       "Switzerland                                              0.038948        5  \n",
       "United Kingdom of Great Britain and Northern Ir...       0.026270        5  \n",
       "Mongolia                                                 0.078265        5  \n",
       "Kazakhstan                                               0.058777        5  \n",
       "Brazil                                                   0.033071        5  \n",
       "Saint Lucia                                              0.020152        5  \n",
       "Czechia                                                  0.007041        5  \n",
       "Bahamas                                                  0.040482        5  \n",
       "Belarus                                                  0.002214        5  "
      ]
     },
     "execution_count": 74,
     "metadata": {},
     "output_type": "execute_result"
    }
   ],
   "source": [
    "cluster_5.sort_values(by='dispo_proteines_animale', ascending=False)[:10]"
   ]
  },
  {
   "cell_type": "code",
   "execution_count": 75,
   "metadata": {},
   "outputs": [
    {
     "name": "stdout",
     "output_type": "stream",
     "text": [
      "<class 'pandas.core.frame.DataFrame'>\n",
      "Index: 34 entries, Albania to Montenegro\n",
      "Data columns (total 5 columns):\n",
      " #   Column                   Non-Null Count  Dtype  \n",
      "---  ------                   --------------  -----  \n",
      " 0   dispo_kcal_total         34 non-null     float64\n",
      " 1   dispo_proteines_total    34 non-null     float64\n",
      " 2   dispo_proteines_animale  34 non-null     float64\n",
      " 3   pop_variation            34 non-null     float64\n",
      " 4   cluster                  34 non-null     int32  \n",
      "dtypes: float64(4), int32(1)\n",
      "memory usage: 1.5+ KB\n"
     ]
    },
    {
     "data": {
      "text/html": [
       "<div>\n",
       "<style scoped>\n",
       "    .dataframe tbody tr th:only-of-type {\n",
       "        vertical-align: middle;\n",
       "    }\n",
       "\n",
       "    .dataframe tbody tr th {\n",
       "        vertical-align: top;\n",
       "    }\n",
       "\n",
       "    .dataframe thead th {\n",
       "        text-align: right;\n",
       "    }\n",
       "</style>\n",
       "<table border=\"1\" class=\"dataframe\">\n",
       "  <thead>\n",
       "    <tr style=\"text-align: right;\">\n",
       "      <th></th>\n",
       "      <th>dispo_kcal_total</th>\n",
       "      <th>dispo_proteines_total</th>\n",
       "      <th>dispo_proteines_animale</th>\n",
       "      <th>pop_variation</th>\n",
       "      <th>cluster</th>\n",
       "    </tr>\n",
       "    <tr>\n",
       "      <th>pays</th>\n",
       "      <th></th>\n",
       "      <th></th>\n",
       "      <th></th>\n",
       "      <th></th>\n",
       "      <th></th>\n",
       "    </tr>\n",
       "  </thead>\n",
       "  <tbody>\n",
       "    <tr>\n",
       "      <th>Iceland</th>\n",
       "      <td>3654.0</td>\n",
       "      <td>146.13</td>\n",
       "      <td>104.98</td>\n",
       "      <td>0.024708</td>\n",
       "      <td>4</td>\n",
       "    </tr>\n",
       "    <tr>\n",
       "      <th>Denmark</th>\n",
       "      <td>3401.0</td>\n",
       "      <td>117.08</td>\n",
       "      <td>79.73</td>\n",
       "      <td>0.015524</td>\n",
       "      <td>4</td>\n",
       "    </tr>\n",
       "    <tr>\n",
       "      <th>Lithuania</th>\n",
       "      <td>3411.0</td>\n",
       "      <td>126.65</td>\n",
       "      <td>78.85</td>\n",
       "      <td>-0.057289</td>\n",
       "      <td>4</td>\n",
       "    </tr>\n",
       "    <tr>\n",
       "      <th>Finland</th>\n",
       "      <td>3343.0</td>\n",
       "      <td>117.99</td>\n",
       "      <td>75.43</td>\n",
       "      <td>0.011199</td>\n",
       "      <td>4</td>\n",
       "    </tr>\n",
       "    <tr>\n",
       "      <th>Israel</th>\n",
       "      <td>3528.0</td>\n",
       "      <td>126.94</td>\n",
       "      <td>74.69</td>\n",
       "      <td>0.067136</td>\n",
       "      <td>4</td>\n",
       "    </tr>\n",
       "    <tr>\n",
       "      <th>Portugal</th>\n",
       "      <td>3480.0</td>\n",
       "      <td>116.95</td>\n",
       "      <td>74.37</td>\n",
       "      <td>-0.015552</td>\n",
       "      <td>4</td>\n",
       "    </tr>\n",
       "    <tr>\n",
       "      <th>United States of America</th>\n",
       "      <td>3782.0</td>\n",
       "      <td>113.74</td>\n",
       "      <td>73.48</td>\n",
       "      <td>0.026431</td>\n",
       "      <td>4</td>\n",
       "    </tr>\n",
       "    <tr>\n",
       "      <th>Ireland</th>\n",
       "      <td>3885.0</td>\n",
       "      <td>117.58</td>\n",
       "      <td>72.01</td>\n",
       "      <td>0.041464</td>\n",
       "      <td>4</td>\n",
       "    </tr>\n",
       "    <tr>\n",
       "      <th>Australia</th>\n",
       "      <td>3391.0</td>\n",
       "      <td>105.94</td>\n",
       "      <td>70.70</td>\n",
       "      <td>0.055166</td>\n",
       "      <td>4</td>\n",
       "    </tr>\n",
       "    <tr>\n",
       "      <th>Montenegro</th>\n",
       "      <td>3500.0</td>\n",
       "      <td>114.53</td>\n",
       "      <td>70.27</td>\n",
       "      <td>0.001858</td>\n",
       "      <td>4</td>\n",
       "    </tr>\n",
       "  </tbody>\n",
       "</table>\n",
       "</div>"
      ],
      "text/plain": [
       "                          dispo_kcal_total  dispo_proteines_total  \\\n",
       "pays                                                                \n",
       "Iceland                             3654.0                 146.13   \n",
       "Denmark                             3401.0                 117.08   \n",
       "Lithuania                           3411.0                 126.65   \n",
       "Finland                             3343.0                 117.99   \n",
       "Israel                              3528.0                 126.94   \n",
       "Portugal                            3480.0                 116.95   \n",
       "United States of America            3782.0                 113.74   \n",
       "Ireland                             3885.0                 117.58   \n",
       "Australia                           3391.0                 105.94   \n",
       "Montenegro                          3500.0                 114.53   \n",
       "\n",
       "                          dispo_proteines_animale  pop_variation  cluster  \n",
       "pays                                                                       \n",
       "Iceland                                    104.98       0.024708        4  \n",
       "Denmark                                     79.73       0.015524        4  \n",
       "Lithuania                                   78.85      -0.057289        4  \n",
       "Finland                                     75.43       0.011199        4  \n",
       "Israel                                      74.69       0.067136        4  \n",
       "Portugal                                    74.37      -0.015552        4  \n",
       "United States of America                    73.48       0.026431        4  \n",
       "Ireland                                     72.01       0.041464        4  \n",
       "Australia                                   70.70       0.055166        4  \n",
       "Montenegro                                  70.27       0.001858        4  "
      ]
     },
     "execution_count": 75,
     "metadata": {},
     "output_type": "execute_result"
    }
   ],
   "source": [
    "# Extraire le cluster 5\n",
    "cluster_4=data_cluster[data_cluster['cluster']==4]\n",
    "cluster_4.info()\n",
    "\n",
    "cluster_4.sort_values(by='dispo_proteines_animale', ascending=False)[:10]"
   ]
  },
  {
   "cell_type": "markdown",
   "metadata": {},
   "source": [
    "# F- Statistique inferentielle (Partie 2)"
   ]
  },
  {
   "cell_type": "markdown",
   "metadata": {},
   "source": [
    "### Mission 6 : Dans votre partition, vous avez obtenu des groupes distincts. Vérifiez donc qu'ils diffèrent réellement. Pour cela, réalisez les tests statistiques suivants :\n"
   ]
  },
  {
   "cell_type": "markdown",
   "metadata": {},
   "source": [
    "- un test d'adéquation : parmi les 4 variables, ou parmi d'autres variables que vous trouverez pertinentes\n",
    "- un test de comparaison de deux populations (dans le cas gaussien) : choisissez 2 clusters parmi ceux que vous aurez déterminé. Sur ces 2 clusters, testez la variable gaussienne grâce à un test de comparaison\n",
    "\n",
    "#### Objectif test : prouver que les cluster ont une bonne repartition, d'un cluster à un autre et valider la pertinance de la création de chaque cluster"
   ]
  },
  {
   "cell_type": "code",
   "execution_count": 76,
   "metadata": {},
   "outputs": [],
   "source": [
    "# https://www.marsja.se/how-to-perform-a-two-sample-t-test-with-python-3-different-methods/\n",
    "# https://www.marsja.se/levenes-bartletts-test-of-equality-homogeneity-of-variance-in-python/\n",
    "# https://www.marsja.se/how-to-perform-a-two-sample-t-test-with-python-3-different-methods/\n",
    "# https://www.marsja.se/how-to-perform-mann-whitney-u-test-in-python-with-scipy-and-pingouin/"
   ]
  },
  {
   "cell_type": "markdown",
   "metadata": {},
   "source": [
    "Dans la partie statistiques inferentielle 1 nous avons vu que la variable dispo_kcal_total suivait une loi normale. Les autres variables non."
   ]
  },
  {
   "cell_type": "markdown",
   "metadata": {},
   "source": [
    "### Afin de comparer les deux groupe nous devons valider des hypotheses statistiques, notamment pour effectuer un test de student\n",
    "\n",
    "Hypothèses\n",
    "\n",
    "- Hypothèse 1 : les deux échantillons sont-ils indépendants ?\n",
    "- Hypothèse 2 : les données de chacun des deux groupes suivent-elles une distribution normale ?\n",
    "- Hypothèse 3 : Les deux échantillons ont-ils les mêmes variances (Homogénéité de la variance) ?\n",
    "\n"
   ]
  },
  {
   "cell_type": "markdown",
   "metadata": {},
   "source": [
    "##  Clusters 4 et 5 - Variable dispo_kcal_total"
   ]
  },
  {
   "cell_type": "markdown",
   "metadata": {},
   "source": [
    "### 1 : Test de Kolmogorov-Smirnov : test d'independance des échantillons\n",
    "-  test de Kolmogorov-Smirnov à deux échantillons : est un test non paramétrique qui compare les distributions cumulatives de deux ensembles de données (1,2).\n",
    "- L'hypothèse nulle est que les deux groupes ont été échantillonnés à partir de populations ayant des distributions identiques.Il teste toute violation de cette hypothèse nulle - médianes différentes, variances différentes ou distributions différentes.\n"
   ]
  },
  {
   "cell_type": "code",
   "execution_count": 77,
   "metadata": {},
   "outputs": [
    {
     "data": {
      "text/plain": [
       "KstestResult(statistic=0.707843137254902, pvalue=4.681066645417786e-11)"
      ]
     },
     "execution_count": 77,
     "metadata": {},
     "output_type": "execute_result"
    }
   ],
   "source": [
    "from scipy.stats import ks_2samp\n",
    "import numpy as np\n",
    "x = cluster_4['dispo_kcal_total']\n",
    "z = cluster_5['dispo_kcal_total']\n",
    "\n",
    "stats.ks_2samp(x, z)\n"
   ]
  },
  {
   "cell_type": "markdown",
   "metadata": {},
   "source": [
    "#### Analyse : \n",
    "- on peut comparer la valeur p à un niveau de signification a, généralement a = 0,05 ou 0,01 (vous décidez que plus a est bas, plus il est significatif). \n",
    "- Si la valeur p est inférieure à a, alors il est très probable que les deux distributions soient différentes.\n",
    "- Ici, p-value est de 0.0, inférieur à a : on peut donc dire que les deux cluster sont différentes. \n",
    "- Les deux echantillons sont donc bien independants \n",
    "- Ceci confirme ce qu’on aurait pu intuitivement deviner dans notre cas, car les groupes ont été crée en utilsant une méthode de clustering."
   ]
  },
  {
   "cell_type": "markdown",
   "metadata": {},
   "source": [
    "### 2 : Test de normalite pour chacun des groupes"
   ]
  },
  {
   "cell_type": "code",
   "execution_count": 78,
   "metadata": {},
   "outputs": [
    {
     "name": "stdout",
     "output_type": "stream",
     "text": [
      "Statistics=0.977, p=0.686\n",
      "L'echantillon semble Gaussien (validation H0)\n"
     ]
    }
   ],
   "source": [
    "# normality test cluster 4\n",
    "stat, p = shapiro(cluster_4['dispo_kcal_total'])\n",
    "\n",
    "print('Statistics=%.3f, p=%.3f' % (stat, p))\n",
    "\n",
    "# interpret\n",
    "alpha = 0.05\n",
    "if p > alpha:\n",
    "    print(\"L'echantillon semble Gaussien (validation H0)\")\n",
    "else:\n",
    "    print(\"'L'echantillon n'est pas Gaussien (Reject H0)\")"
   ]
  },
  {
   "cell_type": "code",
   "execution_count": 79,
   "metadata": {},
   "outputs": [
    {
     "name": "stdout",
     "output_type": "stream",
     "text": [
      "Statistics=0.989, p=0.878\n",
      "L'echantillon semble Gaussien (validation H0)\n"
     ]
    }
   ],
   "source": [
    "# normality test cluster 5\n",
    "stat, p = shapiro(cluster_5['dispo_kcal_total'])\n",
    "\n",
    "print('Statistics=%.3f, p=%.3f' % (stat, p))\n",
    "\n",
    "# interpret\n",
    "alpha = 0.05\n",
    "if p > alpha:\n",
    "    print(\"L'echantillon semble Gaussien (validation H0)\")\n",
    "else:\n",
    "    print(\"'L'echantillon n'est pas Gaussien (Reject H0)\")"
   ]
  },
  {
   "cell_type": "markdown",
   "metadata": {},
   "source": [
    "Les deux groupes sur les variables dispo_kcal_total suivent une loi normale.\n",
    "\n",
    "On peut donc utiliser le test de Bartlett afin de tester l'homogeneité des variances "
   ]
  },
  {
   "cell_type": "markdown",
   "metadata": {},
   "source": [
    "### 3 : Test homogénéité des variances"
   ]
  },
  {
   "cell_type": "markdown",
   "metadata": {},
   "source": [
    "Hypothese des test\n",
    "- Levene’s Test\n",
    "- Bartlett’s Test of homogeneity of variance\n",
    "\n",
    "Hypothèse nulle : les variances sont égales dans tous les échantillons/groupes.\n",
    "\n",
    "Hypothèse alternative : les variances ne sont pas égales dans tous les échantillons/groupes."
   ]
  },
  {
   "cell_type": "code",
   "execution_count": 80,
   "metadata": {},
   "outputs": [
    {
     "name": "stdout",
     "output_type": "stream",
     "text": [
      "5.238987903488252 0.02208611931329862\n",
      "the populations do not have equal variances. (reject H0)\n"
     ]
    }
   ],
   "source": [
    "# Berlette test sur Kcal total car cette variables suit une loi normale\n",
    "from scipy.stats import bartlett\n",
    "\n",
    "trt4 = data_cluster.query('cluster == 4')['dispo_kcal_total']\n",
    "trt5 = data_cluster.query('cluster == 5')['dispo_kcal_total']\n",
    "\n",
    "# Bartlett's test in Python with SciPy:\n",
    "stat, p = bartlett( trt4, trt5)\n",
    "\n",
    "# Get the results:\n",
    "print(stat, p)\n",
    "\n",
    "# interpret\n",
    "alpha = 0.05\n",
    "if p > alpha:\n",
    "    print('the populations have equal variances. (fail to reject H0)')\n",
    "else:\n",
    "    print('the populations do not have equal variances. (reject H0)')\n",
    "\n"
   ]
  },
  {
   "cell_type": "markdown",
   "metadata": {},
   "source": [
    "Si les données ne répondent pas à l'hypothèse de variances égales, nous pouvons utiliser le test t de Welch au lieu du test t de Student.\n",
    "\n",
    "En python on peut utiliser le package scipy.stats et le ttest_ind avec le paramètre equal_var = False lorsque le test de Berlett est rejetté."
   ]
  },
  {
   "cell_type": "code",
   "execution_count": 81,
   "metadata": {},
   "outputs": [
    {
     "data": {
      "text/plain": [
       "Ttest_indResult(statistic=9.619948935833069, pvalue=2.1097701209438677e-15)"
      ]
     },
     "execution_count": 81,
     "metadata": {},
     "output_type": "execute_result"
    }
   ],
   "source": [
    "stats.ttest_ind(cluster_4['dispo_kcal_total'],\n",
    "                cluster_5['dispo_kcal_total'],\n",
    "                equal_var=False)\n",
    "\n"
   ]
  },
  {
   "cell_type": "markdown",
   "metadata": {},
   "source": [
    "La p-value du test est de 2.10e-15, ce qui est inférieur au niveau de signification alpha (par exemple, 0,05).\n",
    "On peut donc conclure que la dispo_kcal_total moyenne du cluster 4 est statistiquement différente de la dispo_kcal_total moyenne du cluster 5.\n",
    "\n",
    "Ceci confirme ce qu’on aurait pu intuitivement deviner dans notre cas, car les groupes ont été crée en utilsant une méthode de clustering."
   ]
  },
  {
   "cell_type": "code",
   "execution_count": 82,
   "metadata": {},
   "outputs": [
    {
     "data": {
      "text/plain": [
       "<AxesSubplot:xlabel='cluster', ylabel='dispo_kcal_total'>"
      ]
     },
     "execution_count": 82,
     "metadata": {},
     "output_type": "execute_result"
    },
    {
     "data": {
      "image/png": "[encoded data removed]",
      "text/plain": [
       "<Figure size 432x288 with 1 Axes>"
      ]
     },
     "metadata": {
      "needs_background": "light"
     },
     "output_type": "display_data"
    }
   ],
   "source": [
    "import seaborn as sns\n",
    "sns.boxplot(x='cluster', y='dispo_kcal_total', data=data_cluster[data_cluster['cluster'].isin([4,5])])"
   ]
  },
  {
   "cell_type": "code",
   "execution_count": 83,
   "metadata": {},
   "outputs": [
    {
     "data": {
      "text/plain": [
       "<AxesSubplot:xlabel='cluster', ylabel='dispo_kcal_total'>"
      ]
     },
     "execution_count": 83,
     "metadata": {},
     "output_type": "execute_result"
    },
    {
     "data": {
      "image/png": "[encoded data removed]",
      "text/plain": [
       "<Figure size 432x288 with 1 Axes>"
      ]
     },
     "metadata": {
      "needs_background": "light"
     },
     "output_type": "display_data"
    }
   ],
   "source": [
    "import seaborn as sns\n",
    "sns.violinplot(x='cluster', y='dispo_kcal_total', data=data_cluster[data_cluster['cluster'].isin([4,5])])"
   ]
  },
  {
   "cell_type": "markdown",
   "metadata": {},
   "source": [
    "## Clusters 2 et 3 - Variables pop_variation"
   ]
  },
  {
   "cell_type": "markdown",
   "metadata": {},
   "source": [
    "### 1 : Test independances"
   ]
  },
  {
   "cell_type": "code",
   "execution_count": 84,
   "metadata": {},
   "outputs": [
    {
     "data": {
      "text/plain": [
       "KstestResult(statistic=0.21634615384615385, pvalue=0.6494154759111745)"
      ]
     },
     "execution_count": 84,
     "metadata": {},
     "output_type": "execute_result"
    }
   ],
   "source": [
    "from scipy.stats import ks_2samp\n",
    "import numpy as np\n",
    "x = cluster2['pop_variation']\n",
    "z = cluster3['pop_variation']\n",
    "\n",
    "stats.ks_2samp(x, z)"
   ]
  },
  {
   "cell_type": "markdown",
   "metadata": {},
   "source": [
    "#### Analyse : \n",
    "- on peut comparer la valeur p à un niveau de signification a, généralement a = 0,05\n",
    "- Si la valeur p est inférieure à a, alors il est très probable que les deux distributions soient différentes.\n",
    "- Ici, p-value est de 0.68, superieur à a : on peut donc dire que les clusters 2 et 3 sur la variables pop variation ne sont pas independants."
   ]
  },
  {
   "cell_type": "markdown",
   "metadata": {},
   "source": [
    "### 2 : Test de normalite pour chacun des groupes"
   ]
  },
  {
   "cell_type": "code",
   "execution_count": 85,
   "metadata": {},
   "outputs": [
    {
     "name": "stdout",
     "output_type": "stream",
     "text": [
      "Statistics=0.957, p=0.329\n",
      "L'echantillon semble Gaussien (validation H0)\n"
     ]
    }
   ],
   "source": [
    "# normality test\n",
    "stat, p = shapiro(cluster2['pop_variation'])\n",
    "\n",
    "print('Statistics=%.3f, p=%.3f' % (stat, p))\n",
    "\n",
    "# interpret\n",
    "alpha = 0.05\n",
    "if p > alpha:\n",
    "    print(\"L'echantillon semble Gaussien (validation H0)\")\n",
    "else:\n",
    "    print(\"L'echantillon n'est pas Gaussien (Reject H0)\")"
   ]
  },
  {
   "cell_type": "code",
   "execution_count": 86,
   "metadata": {},
   "outputs": [
    {
     "name": "stdout",
     "output_type": "stream",
     "text": [
      "Statistics=0.801, p=0.003\n",
      "L'echantillon n'est pas Gaussien (Reject H0)\n"
     ]
    }
   ],
   "source": [
    "# normality test\n",
    "stat, p = shapiro(cluster3['pop_variation'])\n",
    "\n",
    "print('Statistics=%.3f, p=%.3f' % (stat, p))\n",
    "\n",
    "# interpret\n",
    "alpha = 0.05\n",
    "if p > alpha:\n",
    "    print(\"L'echantillon semble Gaussien (validation H0)\")\n",
    "else:\n",
    "    print(\"L'echantillon n'est pas Gaussien (Reject H0)\")"
   ]
  },
  {
   "cell_type": "markdown",
   "metadata": {},
   "source": [
    "Le cluser 2 sur la varianles pop_variation suit une loi normale.\n",
    "\n",
    "Le cluser 3 sur la varianles pop_variation ne suit pas une loi normale.\n",
    "\n",
    "On doit donc utiliser le test de Levene afin de tester l'homogeneité des variances "
   ]
  },
  {
   "cell_type": "code",
   "execution_count": 87,
   "metadata": {},
   "outputs": [
    {
     "name": "stdout",
     "output_type": "stream",
     "text": [
      "1.8048808406889891 0.18669599889313437\n",
      "les deux populations ont des variances égales. (fail to reject H0)\n"
     ]
    }
   ],
   "source": [
    "# Levene test on pop variation car pop variation en suit pas une loi normale\n",
    "from scipy.stats import levene\n",
    "\n",
    "# subsetting the data:\n",
    "\n",
    "trt2 = data_cluster.query('cluster == 2')['pop_variation']\n",
    "trt3 = data_cluster.query('cluster == 3')['pop_variation']\n",
    "\n",
    "# Bartlett's test in Python with SciPy:\n",
    "stat, p = levene(trt2, trt3)\n",
    "\n",
    "# Get the results:\n",
    "print(stat, p)\n",
    "\n",
    "# interpret\n",
    "alpha = 0.05\n",
    "if p > alpha:\n",
    "    print('les deux populations ont des variances égales. (fail to reject H0)')\n",
    "else:\n",
    "    print(\"les deux populations n'ont des variances égales. (reject H0)\")\n"
   ]
  },
  {
   "cell_type": "code",
   "execution_count": 88,
   "metadata": {},
   "outputs": [
    {
     "data": {
      "text/plain": [
       "Ttest_indResult(statistic=-1.7030118299287198, pvalue=0.09632539260833758)"
      ]
     },
     "execution_count": 88,
     "metadata": {},
     "output_type": "execute_result"
    }
   ],
   "source": [
    "stats.ttest_ind(cluster2['pop_variation'],\n",
    "                cluster3['pop_variation'],\n",
    "                equal_var=True)"
   ]
  },
  {
   "cell_type": "markdown",
   "metadata": {},
   "source": [
    "La p-value du test est de 0.09, ce qui est superieur au niveau de signification alpha 0.05.\n",
    "On peut donc conclure que la pop_variation moyenne du cluster 2 est statistiquement similaire de la pop_variation moyenne du cluster 3."
   ]
  },
  {
   "cell_type": "code",
   "execution_count": 89,
   "metadata": {},
   "outputs": [
    {
     "data": {
      "text/plain": [
       "<AxesSubplot:xlabel='cluster', ylabel='pop_variation'>"
      ]
     },
     "execution_count": 89,
     "metadata": {},
     "output_type": "execute_result"
    },
    {
     "data": {
      "image/png": "[encoded data removed]",
      "text/plain": [
       "<Figure size 432x288 with 1 Axes>"
      ]
     },
     "metadata": {
      "needs_background": "light"
     },
     "output_type": "display_data"
    }
   ],
   "source": [
    "sns.boxplot(x='cluster', y='pop_variation', data=data_cluster[data_cluster['cluster'].isin([2,3])])"
   ]
  },
  {
   "cell_type": "code",
   "execution_count": 90,
   "metadata": {},
   "outputs": [
    {
     "data": {
      "text/plain": [
       "<AxesSubplot:xlabel='cluster', ylabel='pop_variation'>"
      ]
     },
     "execution_count": 90,
     "metadata": {},
     "output_type": "execute_result"
    },
    {
     "data": {
      "image/png": "[encoded data removed]",
      "text/plain": [
       "<Figure size 432x288 with 1 Axes>"
      ]
     },
     "metadata": {
      "needs_background": "light"
     },
     "output_type": "display_data"
    }
   ],
   "source": [
    "sns.violinplot(x='cluster', y='pop_variation', data=data_cluster[data_cluster['cluster'].isin([2,3])])"
   ]
  },
  {
   "cell_type": "code",
   "execution_count": null,
   "metadata": {},
   "outputs": [],
   "source": []
  }
 ],
 "metadata": {
  "kernelspec": {
   "display_name": "Python 3",
   "language": "python",
   "name": "python3"
  },
  "language_info": {
   "codemirror_mode": {
    "name": "ipython",
    "version": 3
   },
   "file_extension": ".py",
   "mimetype": "text/x-python",
   "name": "python",
   "nbconvert_exporter": "python",
   "pygments_lexer": "ipython3",
   "version": "3.7.11"
  }
 },
 "nbformat": 4,
 "nbformat_minor": 2
}
